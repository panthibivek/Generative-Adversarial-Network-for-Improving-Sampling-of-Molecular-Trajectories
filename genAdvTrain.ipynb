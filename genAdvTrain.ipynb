{
 "cells": [
  {
   "attachments": {},
   "cell_type": "markdown",
   "metadata": {},
   "source": [
    "# Building a Generative Adversarial Network (GAN)"
   ]
  },
  {
   "cell_type": "code",
   "execution_count": 1,
   "metadata": {},
   "outputs": [
    {
     "name": "stderr",
     "output_type": "stream",
     "text": [
      "2023-05-04 16:39:20.846931: I tensorflow/core/platform/cpu_feature_guard.cc:193] This TensorFlow binary is optimized with oneAPI Deep Neural Network Library (oneDNN) to use the following CPU instructions in performance-critical operations:  SSE3 SSE4.1 SSE4.2 AVX AVX2 FMA\n",
      "To enable them in other operations, rebuild TensorFlow with the appropriate compiler flags.\n"
     ]
    }
   ],
   "source": [
    "import tensorflow as tf\n",
    "import numpy as np\n",
    "from formatData import loadData\n",
    "from sklearn.model_selection import train_test_split\n",
    "from gan import GenAdvNetwork\n",
    "import os\n",
    "from matplotlib import pyplot as plt\n",
    "from utils import *"
   ]
  },
  {
   "attachments": {},
   "cell_type": "markdown",
   "metadata": {},
   "source": [
    "### Loading data"
   ]
  },
  {
   "cell_type": "code",
   "execution_count": 2,
   "metadata": {},
   "outputs": [
    {
     "name": "stdout",
     "output_type": "stream",
     "text": [
      "input data size: (10000, 78)\n",
      "output data size: (10000,)\n"
     ]
    }
   ],
   "source": [
    "\"\"\"\n",
    "Loading data\n",
    "Note than we can only specify absolute location of the raw data\n",
    "\"\"\"\n",
    "molRep2D, energies = loadData(12, \"/home/panthibivek/thesis/GAN_pkg/data/traj.xyz\")"
   ]
  },
  {
   "cell_type": "code",
   "execution_count": 3,
   "metadata": {},
   "outputs": [
    {
     "name": "stdout",
     "output_type": "stream",
     "text": [
      "input data size: (10001, 78)\n",
      "output data size: (10001,)\n"
     ]
    }
   ],
   "source": [
    "# \"\"\"\n",
    "# Loading data\n",
    "# Note than we can only specify absolute location of the raw data\n",
    "# \"\"\"\n",
    "newTrajMolRep1, newTrajEnergies1 = loadData(max_size=12, \n",
    "                                filename=\"/home/panthibivek/thesis/GAN_pkg/data/MD/trajectory1.xyz\", \n",
    "                                energyFilename=\"/home/panthibivek/thesis/GAN_pkg/data/MD/traj1_energies.txt\",\n",
    "                                xyzdirname=\"/data/Traj1/AllMolecules\",\n",
    "                                coulombMtxFilename=\"/data/Traj1/lower_coulomb_mtx_array.txt\")"
   ]
  },
  {
   "cell_type": "code",
   "execution_count": 4,
   "metadata": {},
   "outputs": [],
   "source": [
    "# \"\"\"\n",
    "# Loading data\n",
    "# Note than we can only specify absolute location of the raw data\n",
    "# \"\"\"\n",
    "# newTrajMolRep2, newTrajEnergies2 = loadData(max_size=12, \n",
    "#                                 filename=\"/home/panthibivek/thesis/GAN_pkg/data/MD/trajectory2.xyz\", \n",
    "#                                 energyFilename=\"/home/panthibivek/thesis/GAN_pkg/data/MD/traj2_energies.txt\",\n",
    "#                                 xyzdirname=\"/data/Traj2/AllMolecules\",\n",
    "#                                 coulombMtxFilename=\"/data/Traj2/lower_coulomb_mtx_array.txt\")"
   ]
  },
  {
   "cell_type": "code",
   "execution_count": 5,
   "metadata": {},
   "outputs": [
    {
     "name": "stdout",
     "output_type": "stream",
     "text": [
      "Training data size: (18000, 78)\n"
     ]
    }
   ],
   "source": [
    "allMolRep = np.concatenate([molRep2D[:9000], newTrajMolRep1[:9000]], axis=0)\n",
    "allEnergies = np.concatenate([energies[:9000], newTrajEnergies1[:9000]], axis=0)\n",
    "#randomize the data and split it into training and test set\n",
    "allMolRepSuffled, allEnergiesSuffled = unison_shuffle(allMolRep, allEnergies)\n",
    "X_train, y_train = allMolRepSuffled, allEnergiesSuffled\n",
    "# X_train, X_test, y_train, y_test = train_test_split(allMolRep,allEnergies,\n",
    "#                                    random_state=104, \n",
    "#                                    test_size=0.1, \n",
    "#                                    shuffle=True)\n",
    "# print(allMolRep.shape)\n",
    "print(\"Training data size:\", X_train.shape)\n",
    "# print(\"Test data size:\", X_test.shape)"
   ]
  },
  {
   "attachments": {},
   "cell_type": "markdown",
   "metadata": {},
   "source": [
    "### Hyperparametes"
   ]
  },
  {
   "cell_type": "code",
   "execution_count": 6,
   "metadata": {},
   "outputs": [
    {
     "name": "stderr",
     "output_type": "stream",
     "text": [
      "2023-05-04 16:39:29.294754: I tensorflow/compiler/xla/stream_executor/rocm/rocm_gpu_executor.cc:843] successful NUMA node read from SysFS had negative value (-1), but there must be at least one NUMA node, so returning NUMA node zero\n",
      "2023-05-04 16:39:29.294834: I tensorflow/compiler/xla/stream_executor/rocm/rocm_gpu_executor.cc:843] successful NUMA node read from SysFS had negative value (-1), but there must be at least one NUMA node, so returning NUMA node zero\n",
      "2023-05-04 16:39:29.345625: I tensorflow/compiler/xla/stream_executor/rocm/rocm_gpu_executor.cc:843] successful NUMA node read from SysFS had negative value (-1), but there must be at least one NUMA node, so returning NUMA node zero\n",
      "2023-05-04 16:39:29.345692: I tensorflow/compiler/xla/stream_executor/rocm/rocm_gpu_executor.cc:843] successful NUMA node read from SysFS had negative value (-1), but there must be at least one NUMA node, so returning NUMA node zero\n",
      "2023-05-04 16:39:29.345734: I tensorflow/compiler/xla/stream_executor/rocm/rocm_gpu_executor.cc:843] successful NUMA node read from SysFS had negative value (-1), but there must be at least one NUMA node, so returning NUMA node zero\n",
      "2023-05-04 16:39:29.345756: I tensorflow/core/common_runtime/gpu/gpu_device.cc:1990] Ignoring visible gpu device (device: 0, name: AMD Radeon RX 6700S, pci bus id: 0000:03:00.0) with AMDGPU version : gfx1032. The supported AMDGPU versions are gfx1030, gfx900, gfx906, gfx908, gfx90a.\n",
      "2023-05-04 16:39:29.345793: I tensorflow/compiler/xla/stream_executor/rocm/rocm_gpu_executor.cc:843] successful NUMA node read from SysFS had negative value (-1), but there must be at least one NUMA node, so returning NUMA node zero\n",
      "2023-05-04 16:39:29.345801: I tensorflow/core/common_runtime/gpu/gpu_device.cc:1990] Ignoring visible gpu device (device: 1, name: , pci bus id: 0000:07:00.0) with AMDGPU version : gfx1035. The supported AMDGPU versions are gfx1030, gfx900, gfx906, gfx908, gfx90a.\n",
      "2023-05-04 16:39:29.346305: I tensorflow/core/platform/cpu_feature_guard.cc:193] This TensorFlow binary is optimized with oneAPI Deep Neural Network Library (oneDNN) to use the following CPU instructions in performance-critical operations:  SSE3 SSE4.1 SSE4.2 AVX AVX2 FMA\n",
      "To enable them in other operations, rebuild TensorFlow with the appropriate compiler flags.\n",
      "2023-05-04 16:39:29.360806: I tensorflow/core/common_runtime/gpu_fusion_pass.cc:507] ROCm Fusion is enabled.\n",
      "2023-05-04 16:39:29.362691: I tensorflow/core/common_runtime/gpu_fusion_pass.cc:507] ROCm Fusion is enabled.\n",
      "2023-05-04 16:39:29.363349: I tensorflow/core/common_runtime/gpu_fusion_pass.cc:507] ROCm Fusion is enabled.\n",
      "2023-05-04 16:39:29.363779: I tensorflow/core/common_runtime/gpu_fusion_pass.cc:507] ROCm Fusion is enabled.\n",
      "2023-05-04 16:39:29.364298: I tensorflow/core/common_runtime/gpu_fusion_pass.cc:507] ROCm Fusion is enabled.\n",
      "2023-05-04 16:39:29.365770: I tensorflow/core/common_runtime/gpu_fusion_pass.cc:507] ROCm Fusion is enabled.\n",
      "2023-05-04 16:39:29.366300: I tensorflow/core/common_runtime/gpu_fusion_pass.cc:507] ROCm Fusion is enabled.\n"
     ]
    }
   ],
   "source": [
    "latent_dim_ = 32\n",
    "epochs_ = 50\n",
    "batch_size_ = 16\n",
    "y_train = np.reshape(y_train, (-1, 1))\n",
    "X_train = np.array(X_train)\n",
    "X_train = X_train.astype(float)\n",
    "X_train = np.reshape(X_train, (-1, 78, 1))\n",
    "dataset = tf.data.Dataset.from_tensor_slices((X_train, y_train))\n",
    "dataset = dataset.shuffle(buffer_size=100).batch(batch_size_)"
   ]
  },
  {
   "attachments": {},
   "cell_type": "markdown",
   "metadata": {},
   "source": [
    "### Compiling the Model and Fitting the Model <br>\n",
    "Note: The definition of the class GenAdvNetwork is in gan.py "
   ]
  },
  {
   "cell_type": "code",
   "execution_count": 7,
   "metadata": {},
   "outputs": [
    {
     "name": "stdout",
     "output_type": "stream",
     "text": [
      "Model: \"generator\"\n",
      "_________________________________________________________________\n",
      " Layer (type)                Output Shape              Param #   \n",
      "=================================================================\n",
      " dense (Dense)               (None, 13)                429       \n",
      "                                                                 \n",
      " leaky_re_lu (LeakyReLU)     (None, 13)                0         \n",
      "                                                                 \n",
      " reshape (Reshape)           (None, 13, 1)             0         \n",
      "                                                                 \n",
      " conv1d_transpose (Conv1DTra  (None, 39, 128)          640       \n",
      " nspose)                                                         \n",
      "                                                                 \n",
      " leaky_re_lu_1 (LeakyReLU)   (None, 39, 128)           0         \n",
      "                                                                 \n",
      " batch_normalization (BatchN  (None, 39, 128)          512       \n",
      " ormalization)                                                   \n",
      "                                                                 \n",
      " conv1d_transpose_1 (Conv1DT  (None, 78, 264)          135432    \n",
      " ranspose)                                                       \n",
      "                                                                 \n",
      " leaky_re_lu_2 (LeakyReLU)   (None, 78, 264)           0         \n",
      "                                                                 \n",
      " batch_normalization_1 (Batc  (None, 78, 264)          1056      \n",
      " hNormalization)                                                 \n",
      "                                                                 \n",
      " conv1d (Conv1D)             (None, 78, 1)             1057      \n",
      "                                                                 \n",
      "=================================================================\n",
      "Total params: 139,126\n",
      "Trainable params: 138,342\n",
      "Non-trainable params: 784\n",
      "_________________________________________________________________\n",
      "Model: \"discriminator\"\n",
      "_________________________________________________________________\n",
      " Layer (type)                Output Shape              Param #   \n",
      "=================================================================\n",
      " conv1d_1 (Conv1D)           (None, 26, 64)            320       \n",
      "                                                                 \n",
      " leaky_re_lu_3 (LeakyReLU)   (None, 26, 64)            0         \n",
      "                                                                 \n",
      " conv1d_2 (Conv1D)           (None, 13, 264)           67848     \n",
      "                                                                 \n",
      " leaky_re_lu_4 (LeakyReLU)   (None, 13, 264)           0         \n",
      "                                                                 \n",
      " batch_normalization_2 (Batc  (None, 13, 264)          1056      \n",
      " hNormalization)                                                 \n",
      "                                                                 \n",
      " conv1d_3 (Conv1D)           (None, 7, 128)            135296    \n",
      "                                                                 \n",
      " leaky_re_lu_5 (LeakyReLU)   (None, 7, 128)            0         \n",
      "                                                                 \n",
      " batch_normalization_3 (Batc  (None, 7, 128)           512       \n",
      " hNormalization)                                                 \n",
      "                                                                 \n",
      " flatten (Flatten)           (None, 896)               0         \n",
      "                                                                 \n",
      " dense_1 (Dense)             (None, 1)                 897       \n",
      "                                                                 \n",
      "=================================================================\n",
      "Total params: 205,929\n",
      "Trainable params: 205,145\n",
      "Non-trainable params: 784\n",
      "_________________________________________________________________\n"
     ]
    },
    {
     "name": "stderr",
     "output_type": "stream",
     "text": [
      "2023-05-04 16:39:29.392966: I tensorflow/core/common_runtime/gpu_fusion_pass.cc:507] ROCm Fusion is enabled.\n",
      "2023-05-04 16:39:29.393742: I tensorflow/core/common_runtime/gpu_fusion_pass.cc:507] ROCm Fusion is enabled.\n",
      "2023-05-04 16:39:29.403362: I tensorflow/core/common_runtime/gpu_fusion_pass.cc:507] ROCm Fusion is enabled.\n",
      "2023-05-04 16:39:29.403961: I tensorflow/core/common_runtime/gpu_fusion_pass.cc:507] ROCm Fusion is enabled.\n",
      "2023-05-04 16:39:29.407558: I tensorflow/core/common_runtime/gpu_fusion_pass.cc:507] ROCm Fusion is enabled.\n",
      "2023-05-04 16:39:29.408240: I tensorflow/core/common_runtime/gpu_fusion_pass.cc:507] ROCm Fusion is enabled.\n",
      "2023-05-04 16:39:29.409091: I tensorflow/core/common_runtime/gpu_fusion_pass.cc:507] ROCm Fusion is enabled.\n",
      "2023-05-04 16:39:29.409592: I tensorflow/core/common_runtime/gpu_fusion_pass.cc:507] ROCm Fusion is enabled.\n",
      "2023-05-04 16:39:29.410071: I tensorflow/core/common_runtime/gpu_fusion_pass.cc:507] ROCm Fusion is enabled.\n",
      "2023-05-04 16:39:29.410536: I tensorflow/core/common_runtime/gpu_fusion_pass.cc:507] ROCm Fusion is enabled.\n",
      "2023-05-04 16:39:29.411068: I tensorflow/core/common_runtime/gpu_fusion_pass.cc:507] ROCm Fusion is enabled.\n",
      "2023-05-04 16:39:29.412135: I tensorflow/core/common_runtime/gpu_fusion_pass.cc:507] ROCm Fusion is enabled.\n",
      "2023-05-04 16:39:29.412603: I tensorflow/core/common_runtime/gpu_fusion_pass.cc:507] ROCm Fusion is enabled.\n",
      "2023-05-04 16:39:29.413071: I tensorflow/core/common_runtime/gpu_fusion_pass.cc:507] ROCm Fusion is enabled.\n",
      "2023-05-04 16:39:29.423645: I tensorflow/core/common_runtime/gpu_fusion_pass.cc:507] ROCm Fusion is enabled.\n",
      "2023-05-04 16:39:29.424161: I tensorflow/core/common_runtime/gpu_fusion_pass.cc:507] ROCm Fusion is enabled.\n",
      "2023-05-04 16:39:29.424920: I tensorflow/core/common_runtime/gpu_fusion_pass.cc:507] ROCm Fusion is enabled.\n",
      "2023-05-04 16:39:29.425365: I tensorflow/core/common_runtime/gpu_fusion_pass.cc:507] ROCm Fusion is enabled.\n",
      "2023-05-04 16:39:29.447941: I tensorflow/core/common_runtime/gpu_fusion_pass.cc:507] ROCm Fusion is enabled.\n",
      "2023-05-04 16:39:29.448470: I tensorflow/core/common_runtime/gpu_fusion_pass.cc:507] ROCm Fusion is enabled.\n",
      "2023-05-04 16:39:29.449175: I tensorflow/core/common_runtime/gpu_fusion_pass.cc:507] ROCm Fusion is enabled.\n",
      "2023-05-04 16:39:29.449605: I tensorflow/core/common_runtime/gpu_fusion_pass.cc:507] ROCm Fusion is enabled.\n",
      "2023-05-04 16:39:29.470925: I tensorflow/core/common_runtime/gpu_fusion_pass.cc:507] ROCm Fusion is enabled.\n",
      "2023-05-04 16:39:29.471640: I tensorflow/core/common_runtime/gpu_fusion_pass.cc:507] ROCm Fusion is enabled.\n",
      "2023-05-04 16:39:29.472559: I tensorflow/core/common_runtime/gpu_fusion_pass.cc:507] ROCm Fusion is enabled.\n",
      "2023-05-04 16:39:29.473007: I tensorflow/core/common_runtime/gpu_fusion_pass.cc:507] ROCm Fusion is enabled.\n",
      "2023-05-04 16:39:29.494777: I tensorflow/core/common_runtime/gpu_fusion_pass.cc:507] ROCm Fusion is enabled.\n",
      "2023-05-04 16:39:29.495278: I tensorflow/core/common_runtime/gpu_fusion_pass.cc:507] ROCm Fusion is enabled.\n",
      "2023-05-04 16:39:29.495958: I tensorflow/core/common_runtime/gpu_fusion_pass.cc:507] ROCm Fusion is enabled.\n",
      "2023-05-04 16:39:29.496400: I tensorflow/core/common_runtime/gpu_fusion_pass.cc:507] ROCm Fusion is enabled.\n",
      "2023-05-04 16:39:29.504885: I tensorflow/core/common_runtime/gpu_fusion_pass.cc:507] ROCm Fusion is enabled.\n",
      "2023-05-04 16:39:29.505404: I tensorflow/core/common_runtime/gpu_fusion_pass.cc:507] ROCm Fusion is enabled.\n",
      "2023-05-04 16:39:29.535789: I tensorflow/core/common_runtime/gpu_fusion_pass.cc:507] ROCm Fusion is enabled.\n",
      "2023-05-04 16:39:29.536367: I tensorflow/core/common_runtime/gpu_fusion_pass.cc:507] ROCm Fusion is enabled.\n",
      "2023-05-04 16:39:29.556579: I tensorflow/core/common_runtime/gpu_fusion_pass.cc:507] ROCm Fusion is enabled.\n",
      "2023-05-04 16:39:29.557193: I tensorflow/core/common_runtime/gpu_fusion_pass.cc:507] ROCm Fusion is enabled.\n",
      "2023-05-04 16:39:29.569485: I tensorflow/core/common_runtime/gpu_fusion_pass.cc:507] ROCm Fusion is enabled.\n",
      "2023-05-04 16:39:29.572125: I tensorflow/core/common_runtime/gpu_fusion_pass.cc:507] ROCm Fusion is enabled.\n",
      "2023-05-04 16:39:29.573166: I tensorflow/core/common_runtime/gpu_fusion_pass.cc:507] ROCm Fusion is enabled.\n",
      "2023-05-04 16:39:29.573797: I tensorflow/core/common_runtime/gpu_fusion_pass.cc:507] ROCm Fusion is enabled.\n",
      "2023-05-04 16:39:29.575655: I tensorflow/core/common_runtime/gpu_fusion_pass.cc:507] ROCm Fusion is enabled.\n",
      "2023-05-04 16:39:29.578535: I tensorflow/core/common_runtime/gpu_fusion_pass.cc:507] ROCm Fusion is enabled.\n",
      "2023-05-04 16:39:29.579391: I tensorflow/core/common_runtime/gpu_fusion_pass.cc:507] ROCm Fusion is enabled.\n",
      "2023-05-04 16:39:29.579791: I tensorflow/core/common_runtime/gpu_fusion_pass.cc:507] ROCm Fusion is enabled.\n"
     ]
    },
    {
     "name": "stdout",
     "output_type": "stream",
     "text": [
      "Epoch 1/50\n"
     ]
    },
    {
     "name": "stderr",
     "output_type": "stream",
     "text": [
      "2023-05-04 16:39:29.616377: I tensorflow/core/common_runtime/gpu_fusion_pass.cc:507] ROCm Fusion is enabled.\n",
      "2023-05-04 16:39:29.618583: I tensorflow/core/common_runtime/gpu_fusion_pass.cc:507] ROCm Fusion is enabled.\n",
      "2023-05-04 16:39:29.621258: I tensorflow/core/common_runtime/gpu_fusion_pass.cc:507] ROCm Fusion is enabled.\n",
      "2023-05-04 16:39:29.622238: I tensorflow/core/common_runtime/gpu_fusion_pass.cc:507] ROCm Fusion is enabled.\n",
      "2023-05-04 16:39:29.622925: I tensorflow/core/common_runtime/gpu_fusion_pass.cc:507] ROCm Fusion is enabled.\n",
      "2023-05-04 16:39:29.623450: I tensorflow/core/common_runtime/gpu_fusion_pass.cc:507] ROCm Fusion is enabled.\n",
      "2023-05-04 16:39:29.623859: I tensorflow/core/common_runtime/gpu_fusion_pass.cc:507] ROCm Fusion is enabled.\n",
      "2023-05-04 16:39:29.624323: I tensorflow/core/common_runtime/gpu_fusion_pass.cc:507] ROCm Fusion is enabled.\n",
      "2023-05-04 16:39:29.624716: I tensorflow/core/common_runtime/gpu_fusion_pass.cc:507] ROCm Fusion is enabled.\n",
      "2023-05-04 16:39:29.625303: I tensorflow/core/common_runtime/gpu_fusion_pass.cc:507] ROCm Fusion is enabled.\n",
      "2023-05-04 16:39:29.625798: I tensorflow/core/common_runtime/gpu_fusion_pass.cc:507] ROCm Fusion is enabled.\n",
      "2023-05-04 16:39:29.626404: I tensorflow/core/common_runtime/gpu_fusion_pass.cc:507] ROCm Fusion is enabled.\n",
      "2023-05-04 16:39:29.626995: I tensorflow/core/common_runtime/gpu_fusion_pass.cc:507] ROCm Fusion is enabled.\n",
      "2023-05-04 16:39:29.627442: I tensorflow/core/common_runtime/gpu_fusion_pass.cc:507] ROCm Fusion is enabled.\n",
      "2023-05-04 16:39:29.628261: I tensorflow/core/common_runtime/gpu_fusion_pass.cc:507] ROCm Fusion is enabled.\n",
      "2023-05-04 16:39:29.628775: I tensorflow/core/common_runtime/gpu_fusion_pass.cc:507] ROCm Fusion is enabled.\n",
      "2023-05-04 16:39:29.629173: I tensorflow/core/common_runtime/gpu_fusion_pass.cc:507] ROCm Fusion is enabled.\n",
      "2023-05-04 16:39:29.629802: I tensorflow/core/common_runtime/gpu_fusion_pass.cc:507] ROCm Fusion is enabled.\n",
      "2023-05-04 16:39:29.630395: I tensorflow/core/common_runtime/gpu_fusion_pass.cc:507] ROCm Fusion is enabled.\n",
      "2023-05-04 16:39:29.631003: I tensorflow/core/common_runtime/gpu_fusion_pass.cc:507] ROCm Fusion is enabled.\n",
      "2023-05-04 16:39:29.631513: I tensorflow/core/common_runtime/gpu_fusion_pass.cc:507] ROCm Fusion is enabled.\n",
      "2023-05-04 16:39:29.632234: I tensorflow/core/common_runtime/gpu_fusion_pass.cc:507] ROCm Fusion is enabled.\n",
      "2023-05-04 16:39:29.632664: I tensorflow/core/common_runtime/gpu_fusion_pass.cc:507] ROCm Fusion is enabled.\n",
      "2023-05-04 16:39:29.633824: I tensorflow/core/common_runtime/gpu_fusion_pass.cc:507] ROCm Fusion is enabled.\n",
      "2023-05-04 16:39:29.635587: I tensorflow/core/common_runtime/gpu_fusion_pass.cc:507] ROCm Fusion is enabled.\n",
      "2023-05-04 16:39:29.636556: I tensorflow/core/common_runtime/gpu_fusion_pass.cc:507] ROCm Fusion is enabled.\n",
      "2023-05-04 16:39:29.638719: I tensorflow/core/common_runtime/gpu_fusion_pass.cc:507] ROCm Fusion is enabled.\n",
      "2023-05-04 16:39:29.640906: I tensorflow/core/common_runtime/gpu_fusion_pass.cc:507] ROCm Fusion is enabled.\n",
      "2023-05-04 16:39:29.641515: I tensorflow/core/common_runtime/gpu_fusion_pass.cc:507] ROCm Fusion is enabled.\n",
      "2023-05-04 16:39:29.642378: I tensorflow/core/common_runtime/gpu_fusion_pass.cc:507] ROCm Fusion is enabled.\n",
      "2023-05-04 16:39:29.642938: I tensorflow/core/common_runtime/gpu_fusion_pass.cc:507] ROCm Fusion is enabled.\n",
      "2023-05-04 16:39:29.643423: I tensorflow/core/common_runtime/gpu_fusion_pass.cc:507] ROCm Fusion is enabled.\n",
      "2023-05-04 16:39:29.644059: I tensorflow/core/common_runtime/gpu_fusion_pass.cc:507] ROCm Fusion is enabled.\n",
      "2023-05-04 16:39:29.645444: I tensorflow/core/common_runtime/gpu_fusion_pass.cc:507] ROCm Fusion is enabled.\n",
      "2023-05-04 16:39:29.645931: I tensorflow/core/common_runtime/gpu_fusion_pass.cc:507] ROCm Fusion is enabled.\n",
      "2023-05-04 16:39:29.646615: I tensorflow/core/common_runtime/gpu_fusion_pass.cc:507] ROCm Fusion is enabled.\n",
      "2023-05-04 16:39:29.647072: I tensorflow/core/common_runtime/gpu_fusion_pass.cc:507] ROCm Fusion is enabled.\n",
      "2023-05-04 16:39:29.647662: I tensorflow/core/common_runtime/gpu_fusion_pass.cc:507] ROCm Fusion is enabled.\n",
      "2023-05-04 16:39:29.649483: I tensorflow/core/common_runtime/gpu_fusion_pass.cc:507] ROCm Fusion is enabled.\n",
      "2023-05-04 16:39:29.651581: I tensorflow/core/common_runtime/gpu_fusion_pass.cc:507] ROCm Fusion is enabled.\n",
      "2023-05-04 16:39:29.652296: I tensorflow/core/common_runtime/gpu_fusion_pass.cc:507] ROCm Fusion is enabled.\n",
      "2023-05-04 16:39:29.652880: I tensorflow/core/common_runtime/gpu_fusion_pass.cc:507] ROCm Fusion is enabled.\n",
      "2023-05-04 16:39:29.653872: I tensorflow/core/common_runtime/gpu_fusion_pass.cc:507] ROCm Fusion is enabled.\n",
      "2023-05-04 16:39:29.654435: I tensorflow/core/common_runtime/gpu_fusion_pass.cc:507] ROCm Fusion is enabled.\n",
      "2023-05-04 16:39:29.659365: I tensorflow/core/common_runtime/gpu_fusion_pass.cc:507] ROCm Fusion is enabled.\n",
      "2023-05-04 16:39:29.659987: I tensorflow/core/common_runtime/gpu_fusion_pass.cc:507] ROCm Fusion is enabled.\n",
      "2023-05-04 16:39:29.661854: I tensorflow/core/common_runtime/gpu_fusion_pass.cc:507] ROCm Fusion is enabled.\n",
      "2023-05-04 16:39:29.662594: I tensorflow/core/common_runtime/gpu_fusion_pass.cc:507] ROCm Fusion is enabled.\n",
      "2023-05-04 16:39:29.663711: I tensorflow/core/common_runtime/gpu_fusion_pass.cc:507] ROCm Fusion is enabled.\n",
      "2023-05-04 16:39:29.665152: I tensorflow/core/common_runtime/gpu_fusion_pass.cc:507] ROCm Fusion is enabled.\n",
      "2023-05-04 16:39:29.665998: I tensorflow/core/common_runtime/gpu_fusion_pass.cc:507] ROCm Fusion is enabled.\n",
      "2023-05-04 16:39:29.666409: I tensorflow/core/common_runtime/gpu_fusion_pass.cc:507] ROCm Fusion is enabled.\n",
      "2023-05-04 16:39:29.667423: I tensorflow/core/common_runtime/gpu_fusion_pass.cc:507] ROCm Fusion is enabled.\n",
      "2023-05-04 16:39:29.669480: I tensorflow/core/common_runtime/gpu_fusion_pass.cc:507] ROCm Fusion is enabled.\n",
      "2023-05-04 16:39:29.671370: I tensorflow/core/common_runtime/gpu_fusion_pass.cc:507] ROCm Fusion is enabled.\n",
      "2023-05-04 16:39:29.671974: I tensorflow/core/common_runtime/gpu_fusion_pass.cc:507] ROCm Fusion is enabled.\n",
      "2023-05-04 16:39:29.673968: I tensorflow/core/common_runtime/gpu_fusion_pass.cc:507] ROCm Fusion is enabled.\n",
      "2023-05-04 16:39:29.674789: I tensorflow/core/common_runtime/gpu_fusion_pass.cc:507] ROCm Fusion is enabled.\n",
      "2023-05-04 16:39:29.678253: I tensorflow/core/common_runtime/gpu_fusion_pass.cc:507] ROCm Fusion is enabled.\n",
      "2023-05-04 16:39:29.679198: I tensorflow/core/common_runtime/gpu_fusion_pass.cc:507] ROCm Fusion is enabled.\n",
      "2023-05-04 16:39:29.679751: I tensorflow/core/common_runtime/gpu_fusion_pass.cc:507] ROCm Fusion is enabled.\n",
      "2023-05-04 16:39:29.681125: I tensorflow/core/common_runtime/gpu_fusion_pass.cc:507] ROCm Fusion is enabled.\n",
      "2023-05-04 16:39:29.682355: I tensorflow/core/common_runtime/gpu_fusion_pass.cc:507] ROCm Fusion is enabled.\n",
      "2023-05-04 16:39:29.682816: I tensorflow/core/common_runtime/gpu_fusion_pass.cc:507] ROCm Fusion is enabled.\n",
      "2023-05-04 16:39:29.683232: I tensorflow/core/common_runtime/gpu_fusion_pass.cc:507] ROCm Fusion is enabled.\n",
      "2023-05-04 16:39:29.685087: I tensorflow/core/common_runtime/gpu_fusion_pass.cc:507] ROCm Fusion is enabled.\n",
      "2023-05-04 16:39:29.686248: I tensorflow/core/common_runtime/gpu_fusion_pass.cc:507] ROCm Fusion is enabled.\n",
      "2023-05-04 16:39:29.687368: I tensorflow/core/common_runtime/gpu_fusion_pass.cc:507] ROCm Fusion is enabled.\n",
      "2023-05-04 16:39:29.689125: I tensorflow/core/common_runtime/gpu_fusion_pass.cc:507] ROCm Fusion is enabled.\n",
      "2023-05-04 16:39:29.693843: I tensorflow/core/common_runtime/gpu_fusion_pass.cc:507] ROCm Fusion is enabled.\n",
      "2023-05-04 16:39:29.694884: I tensorflow/core/common_runtime/gpu_fusion_pass.cc:507] ROCm Fusion is enabled.\n",
      "2023-05-04 16:39:29.703267: I tensorflow/core/common_runtime/gpu_fusion_pass.cc:507] ROCm Fusion is enabled.\n",
      "2023-05-04 16:39:29.704295: I tensorflow/core/common_runtime/gpu_fusion_pass.cc:507] ROCm Fusion is enabled.\n",
      "2023-05-04 16:39:29.704801: I tensorflow/core/common_runtime/gpu_fusion_pass.cc:507] ROCm Fusion is enabled.\n",
      "2023-05-04 16:39:29.706581: I tensorflow/core/common_runtime/gpu_fusion_pass.cc:507] ROCm Fusion is enabled.\n",
      "2023-05-04 16:39:29.706979: I tensorflow/core/common_runtime/gpu_fusion_pass.cc:507] ROCm Fusion is enabled.\n",
      "2023-05-04 16:39:29.707666: I tensorflow/core/common_runtime/gpu_fusion_pass.cc:507] ROCm Fusion is enabled.\n",
      "2023-05-04 16:39:29.708905: I tensorflow/core/common_runtime/gpu_fusion_pass.cc:507] ROCm Fusion is enabled.\n",
      "2023-05-04 16:39:29.709977: I tensorflow/core/common_runtime/gpu_fusion_pass.cc:507] ROCm Fusion is enabled.\n",
      "2023-05-04 16:39:29.710936: I tensorflow/core/common_runtime/gpu_fusion_pass.cc:507] ROCm Fusion is enabled.\n",
      "2023-05-04 16:39:29.711731: I tensorflow/core/common_runtime/gpu_fusion_pass.cc:507] ROCm Fusion is enabled.\n",
      "2023-05-04 16:39:29.712708: I tensorflow/core/common_runtime/gpu_fusion_pass.cc:507] ROCm Fusion is enabled.\n",
      "2023-05-04 16:39:29.713640: I tensorflow/core/common_runtime/gpu_fusion_pass.cc:507] ROCm Fusion is enabled.\n",
      "2023-05-04 16:39:29.714646: I tensorflow/core/common_runtime/gpu_fusion_pass.cc:507] ROCm Fusion is enabled.\n",
      "2023-05-04 16:39:29.715367: I tensorflow/core/common_runtime/gpu_fusion_pass.cc:507] ROCm Fusion is enabled.\n",
      "2023-05-04 16:39:29.718083: I tensorflow/core/common_runtime/gpu_fusion_pass.cc:507] ROCm Fusion is enabled.\n",
      "2023-05-04 16:39:29.719417: I tensorflow/core/common_runtime/gpu_fusion_pass.cc:507] ROCm Fusion is enabled.\n",
      "2023-05-04 16:39:29.720591: I tensorflow/core/common_runtime/gpu_fusion_pass.cc:507] ROCm Fusion is enabled.\n",
      "2023-05-04 16:39:29.721631: I tensorflow/core/common_runtime/gpu_fusion_pass.cc:507] ROCm Fusion is enabled.\n",
      "2023-05-04 16:39:29.724333: I tensorflow/core/common_runtime/gpu_fusion_pass.cc:507] ROCm Fusion is enabled.\n",
      "2023-05-04 16:39:29.725051: I tensorflow/core/common_runtime/gpu_fusion_pass.cc:507] ROCm Fusion is enabled.\n",
      "2023-05-04 16:39:29.725977: I tensorflow/core/common_runtime/gpu_fusion_pass.cc:507] ROCm Fusion is enabled.\n",
      "2023-05-04 16:39:29.726691: I tensorflow/core/common_runtime/gpu_fusion_pass.cc:507] ROCm Fusion is enabled.\n",
      "2023-05-04 16:39:29.727186: I tensorflow/core/common_runtime/gpu_fusion_pass.cc:507] ROCm Fusion is enabled.\n",
      "2023-05-04 16:39:29.736210: I tensorflow/core/common_runtime/gpu_fusion_pass.cc:507] ROCm Fusion is enabled.\n",
      "2023-05-04 16:39:29.737872: I tensorflow/core/common_runtime/gpu_fusion_pass.cc:507] ROCm Fusion is enabled.\n",
      "2023-05-04 16:39:29.738734: I tensorflow/core/common_runtime/gpu_fusion_pass.cc:507] ROCm Fusion is enabled.\n",
      "2023-05-04 16:39:29.740387: I tensorflow/core/common_runtime/gpu_fusion_pass.cc:507] ROCm Fusion is enabled.\n",
      "2023-05-04 16:39:29.755838: I tensorflow/core/common_runtime/gpu_fusion_pass.cc:507] ROCm Fusion is enabled.\n",
      "2023-05-04 16:39:29.756727: I tensorflow/core/common_runtime/gpu_fusion_pass.cc:507] ROCm Fusion is enabled.\n",
      "2023-05-04 16:39:29.757741: I tensorflow/core/common_runtime/gpu_fusion_pass.cc:507] ROCm Fusion is enabled.\n",
      "2023-05-04 16:39:29.758442: I tensorflow/core/common_runtime/gpu_fusion_pass.cc:507] ROCm Fusion is enabled.\n",
      "2023-05-04 16:39:29.759336: I tensorflow/core/common_runtime/gpu_fusion_pass.cc:507] ROCm Fusion is enabled.\n",
      "2023-05-04 16:39:29.760040: I tensorflow/core/common_runtime/gpu_fusion_pass.cc:507] ROCm Fusion is enabled.\n",
      "2023-05-04 16:39:29.767969: I tensorflow/core/common_runtime/gpu_fusion_pass.cc:507] ROCm Fusion is enabled.\n",
      "2023-05-04 16:39:29.768819: I tensorflow/core/common_runtime/gpu_fusion_pass.cc:507] ROCm Fusion is enabled.\n",
      "2023-05-04 16:39:29.770606: I tensorflow/core/common_runtime/gpu_fusion_pass.cc:507] ROCm Fusion is enabled.\n"
     ]
    },
    {
     "name": "stdout",
     "output_type": "stream",
     "text": [
      "1125/1125 [==============================] - 61s 54ms/step - g_loss: 5.1750 - d_loss: 1.2714\n",
      "Epoch 2/50\n",
      "1125/1125 [==============================] - 60s 53ms/step - g_loss: 2.3313 - d_loss: 2.5810\n",
      "Epoch 3/50\n",
      "1125/1125 [==============================] - 62s 55ms/step - g_loss: 1.2795 - d_loss: 3.0851\n",
      "Epoch 4/50\n",
      "1125/1125 [==============================] - 61s 54ms/step - g_loss: 0.5599 - d_loss: 3.3531\n",
      "Epoch 5/50\n",
      "1125/1125 [==============================] - 61s 54ms/step - g_loss: 0.3590 - d_loss: 3.3897\n",
      "Epoch 6/50\n",
      "1125/1125 [==============================] - 60s 53ms/step - g_loss: 0.3097 - d_loss: 3.4040\n",
      "Epoch 7/50\n",
      "1125/1125 [==============================] - 60s 53ms/step - g_loss: 0.2611 - d_loss: 3.4138\n",
      "Epoch 8/50\n",
      "1125/1125 [==============================] - 59s 53ms/step - g_loss: 0.2481 - d_loss: 3.4188\n",
      "Epoch 9/50\n",
      "1125/1125 [==============================] - 60s 53ms/step - g_loss: 0.2261 - d_loss: 3.4216\n",
      "Epoch 10/50\n",
      "1125/1125 [==============================] - 60s 53ms/step - g_loss: 0.2062 - d_loss: 3.4253\n",
      "Epoch 11/50\n",
      "1125/1125 [==============================] - 60s 53ms/step - g_loss: 0.1929 - d_loss: 3.4289\n",
      "Epoch 12/50\n",
      "1125/1125 [==============================] - 61s 54ms/step - g_loss: 0.1663 - d_loss: 3.4321\n",
      "Epoch 13/50\n",
      "1125/1125 [==============================] - 61s 54ms/step - g_loss: 0.1676 - d_loss: 3.4339\n",
      "Epoch 14/50\n",
      "1125/1125 [==============================] - 61s 54ms/step - g_loss: 0.1589 - d_loss: 3.4353\n",
      "Epoch 15/50\n",
      "1125/1125 [==============================] - 62s 55ms/step - g_loss: 0.1514 - d_loss: 3.4359\n",
      "Epoch 16/50\n",
      "1125/1125 [==============================] - 61s 54ms/step - g_loss: 0.1621 - d_loss: 3.4357\n",
      "Epoch 17/50\n",
      "1125/1125 [==============================] - 60s 54ms/step - g_loss: 0.1478 - d_loss: 3.4361\n",
      "Epoch 18/50\n",
      "1125/1125 [==============================] - 60s 53ms/step - g_loss: 0.1630 - d_loss: 3.4362\n",
      "Epoch 19/50\n",
      "1125/1125 [==============================] - 60s 53ms/step - g_loss: 0.1532 - d_loss: 3.4363\n",
      "Epoch 20/50\n",
      "1125/1125 [==============================] - 59s 53ms/step - g_loss: 0.1507 - d_loss: 3.4364\n",
      "Epoch 21/50\n",
      "1125/1125 [==============================] - 59s 53ms/step - g_loss: 0.1396 - d_loss: 3.4368\n",
      "Epoch 22/50\n",
      "1125/1125 [==============================] - 60s 53ms/step - g_loss: 0.1339 - d_loss: 3.4371\n",
      "Epoch 23/50\n",
      "1125/1125 [==============================] - 59s 53ms/step - g_loss: 0.1299 - d_loss: 3.4372\n",
      "Epoch 24/50\n",
      "1125/1125 [==============================] - 60s 53ms/step - g_loss: 0.1437 - d_loss: 3.4367\n",
      "Epoch 25/50\n",
      "1125/1125 [==============================] - 58s 52ms/step - g_loss: 0.1244 - d_loss: 3.4369\n",
      "Epoch 26/50\n",
      "1125/1125 [==============================] - 58s 52ms/step - g_loss: 0.1252 - d_loss: 3.4369\n",
      "Epoch 27/50\n",
      "1125/1125 [==============================] - 58s 52ms/step - g_loss: 0.1296 - d_loss: 3.4371\n",
      "Epoch 28/50\n",
      "1125/1125 [==============================] - 58s 51ms/step - g_loss: 0.1230 - d_loss: 3.4371\n",
      "Epoch 29/50\n",
      "1125/1125 [==============================] - 58s 52ms/step - g_loss: 0.1124 - d_loss: 3.4372\n",
      "Epoch 30/50\n",
      "1125/1125 [==============================] - 59s 52ms/step - g_loss: 0.1123 - d_loss: 3.4371\n",
      "Epoch 31/50\n",
      "1125/1125 [==============================] - 59s 53ms/step - g_loss: 0.1136 - d_loss: 3.4373\n",
      "Epoch 32/50\n",
      "1125/1125 [==============================] - 60s 54ms/step - g_loss: 0.1109 - d_loss: 3.4374\n",
      "Epoch 33/50\n",
      "1125/1125 [==============================] - 60s 53ms/step - g_loss: 0.1048 - d_loss: 3.4372\n",
      "Epoch 34/50\n",
      "1125/1125 [==============================] - 60s 53ms/step - g_loss: 0.1091 - d_loss: 3.4372\n",
      "Epoch 35/50\n",
      "1125/1125 [==============================] - 59s 53ms/step - g_loss: 0.1095 - d_loss: 3.4372\n",
      "Epoch 36/50\n",
      "1125/1125 [==============================] - 58s 52ms/step - g_loss: 0.1112 - d_loss: 3.4375\n",
      "Epoch 37/50\n",
      "1125/1125 [==============================] - 58s 52ms/step - g_loss: 0.1086 - d_loss: 3.4373\n",
      "Epoch 38/50\n",
      "1125/1125 [==============================] - 58s 51ms/step - g_loss: 0.1069 - d_loss: 3.4375\n",
      "Epoch 39/50\n",
      "1125/1125 [==============================] - 58s 52ms/step - g_loss: 0.1106 - d_loss: 3.4371\n",
      "Epoch 40/50\n",
      "1125/1125 [==============================] - 58s 52ms/step - g_loss: 0.1097 - d_loss: 3.4373\n",
      "Epoch 41/50\n",
      "1125/1125 [==============================] - 58s 52ms/step - g_loss: 0.1017 - d_loss: 3.4374\n",
      "Epoch 42/50\n",
      "1125/1125 [==============================] - 58s 52ms/step - g_loss: 0.1050 - d_loss: 3.4372\n",
      "Epoch 43/50\n",
      "1125/1125 [==============================] - 58s 52ms/step - g_loss: 0.1051 - d_loss: 3.4373\n",
      "Epoch 44/50\n",
      "1125/1125 [==============================] - 57s 51ms/step - g_loss: 0.0979 - d_loss: 3.4375\n",
      "Epoch 45/50\n",
      "1125/1125 [==============================] - 58s 52ms/step - g_loss: 0.1044 - d_loss: 3.4374\n",
      "Epoch 46/50\n",
      "1125/1125 [==============================] - 58s 52ms/step - g_loss: 0.1000 - d_loss: 3.4373\n",
      "Epoch 47/50\n",
      "1125/1125 [==============================] - 58s 52ms/step - g_loss: 0.0970 - d_loss: 3.4374\n",
      "Epoch 48/50\n",
      "1125/1125 [==============================] - 58s 51ms/step - g_loss: 0.0960 - d_loss: 3.4373\n",
      "Epoch 49/50\n",
      "1125/1125 [==============================] - 58s 51ms/step - g_loss: 0.0953 - d_loss: 3.4375\n",
      "Epoch 50/50\n",
      "1125/1125 [==============================] - 58s 52ms/step - g_loss: 0.0967 - d_loss: 3.4372\n"
     ]
    }
   ],
   "source": [
    "GAN_model = GenAdvNetwork(latent_dim=latent_dim_, batch_size=batch_size_)\n",
    "GAN_model.compile(\n",
    "    generator_opt=tf.keras.optimizers.Adam(learning_rate=0.001),\n",
    "    discriminator_opt=tf.keras.optimizers.Adam(learning_rate=0.001),\n",
    "    disc_loss=tf.keras.losses.BinaryCrossentropy(),\n",
    "    gen_loss=tf.keras.losses.MAE\n",
    ")\n",
    "history = GAN_model.fit(dataset, epochs=epochs_)"
   ]
  },
  {
   "cell_type": "markdown",
   "metadata": {},
   "source": [
    "### Saving the Model"
   ]
  },
  {
   "cell_type": "code",
   "execution_count": 8,
   "metadata": {},
   "outputs": [
    {
     "name": "stderr",
     "output_type": "stream",
     "text": [
      "2023-05-04 17:28:53.426750: I tensorflow/core/common_runtime/gpu_fusion_pass.cc:507] ROCm Fusion is enabled.\n",
      "2023-05-04 17:28:53.432255: I tensorflow/core/common_runtime/gpu_fusion_pass.cc:507] ROCm Fusion is enabled.\n",
      "2023-05-04 17:28:53.432791: I tensorflow/core/common_runtime/gpu_fusion_pass.cc:507] ROCm Fusion is enabled.\n",
      "2023-05-04 17:28:53.433308: I tensorflow/core/common_runtime/gpu_fusion_pass.cc:507] ROCm Fusion is enabled.\n",
      "2023-05-04 17:28:53.433780: I tensorflow/core/common_runtime/gpu_fusion_pass.cc:507] ROCm Fusion is enabled.\n",
      "2023-05-04 17:28:53.434177: I tensorflow/core/common_runtime/gpu_fusion_pass.cc:507] ROCm Fusion is enabled.\n",
      "2023-05-04 17:28:53.435069: I tensorflow/core/common_runtime/gpu_fusion_pass.cc:507] ROCm Fusion is enabled.\n",
      "2023-05-04 17:28:53.435441: I tensorflow/core/common_runtime/gpu_fusion_pass.cc:507] ROCm Fusion is enabled.\n",
      "2023-05-04 17:28:53.436431: I tensorflow/core/common_runtime/gpu_fusion_pass.cc:507] ROCm Fusion is enabled.\n",
      "2023-05-04 17:28:53.436808: I tensorflow/core/common_runtime/gpu_fusion_pass.cc:507] ROCm Fusion is enabled.\n",
      "2023-05-04 17:28:53.437252: I tensorflow/core/common_runtime/gpu_fusion_pass.cc:507] ROCm Fusion is enabled.\n",
      "2023-05-04 17:28:53.437605: I tensorflow/core/common_runtime/gpu_fusion_pass.cc:507] ROCm Fusion is enabled.\n",
      "2023-05-04 17:28:53.438039: I tensorflow/core/common_runtime/gpu_fusion_pass.cc:507] ROCm Fusion is enabled.\n",
      "2023-05-04 17:28:53.438386: I tensorflow/core/common_runtime/gpu_fusion_pass.cc:507] ROCm Fusion is enabled.\n",
      "2023-05-04 17:28:53.438818: I tensorflow/core/common_runtime/gpu_fusion_pass.cc:507] ROCm Fusion is enabled.\n",
      "2023-05-04 17:28:53.439161: I tensorflow/core/common_runtime/gpu_fusion_pass.cc:507] ROCm Fusion is enabled.\n",
      "2023-05-04 17:28:53.439993: I tensorflow/core/common_runtime/gpu_fusion_pass.cc:507] ROCm Fusion is enabled.\n",
      "2023-05-04 17:28:53.440360: I tensorflow/core/common_runtime/gpu_fusion_pass.cc:507] ROCm Fusion is enabled.\n",
      "2023-05-04 17:28:53.440838: I tensorflow/core/common_runtime/gpu_fusion_pass.cc:507] ROCm Fusion is enabled.\n",
      "2023-05-04 17:28:53.441201: I tensorflow/core/common_runtime/gpu_fusion_pass.cc:507] ROCm Fusion is enabled.\n",
      "2023-05-04 17:28:53.442046: I tensorflow/core/common_runtime/gpu_fusion_pass.cc:507] ROCm Fusion is enabled.\n",
      "2023-05-04 17:28:53.442418: I tensorflow/core/common_runtime/gpu_fusion_pass.cc:507] ROCm Fusion is enabled.\n",
      "2023-05-04 17:28:53.442872: I tensorflow/core/common_runtime/gpu_fusion_pass.cc:507] ROCm Fusion is enabled.\n",
      "2023-05-04 17:28:53.443214: I tensorflow/core/common_runtime/gpu_fusion_pass.cc:507] ROCm Fusion is enabled.\n",
      "2023-05-04 17:28:53.443638: I tensorflow/core/common_runtime/gpu_fusion_pass.cc:507] ROCm Fusion is enabled.\n",
      "2023-05-04 17:28:53.443979: I tensorflow/core/common_runtime/gpu_fusion_pass.cc:507] ROCm Fusion is enabled.\n",
      "2023-05-04 17:28:53.444424: I tensorflow/core/common_runtime/gpu_fusion_pass.cc:507] ROCm Fusion is enabled.\n",
      "2023-05-04 17:28:53.444773: I tensorflow/core/common_runtime/gpu_fusion_pass.cc:507] ROCm Fusion is enabled.\n",
      "2023-05-04 17:28:53.445203: I tensorflow/core/common_runtime/gpu_fusion_pass.cc:507] ROCm Fusion is enabled.\n",
      "2023-05-04 17:28:53.445554: I tensorflow/core/common_runtime/gpu_fusion_pass.cc:507] ROCm Fusion is enabled.\n",
      "2023-05-04 17:28:53.447102: I tensorflow/core/common_runtime/gpu_fusion_pass.cc:507] ROCm Fusion is enabled.\n",
      "2023-05-04 17:28:53.447467: I tensorflow/core/common_runtime/gpu_fusion_pass.cc:507] ROCm Fusion is enabled.\n",
      "2023-05-04 17:28:53.453902: I tensorflow/core/common_runtime/gpu_fusion_pass.cc:507] ROCm Fusion is enabled.\n",
      "2023-05-04 17:28:53.458869: I tensorflow/core/common_runtime/gpu_fusion_pass.cc:507] ROCm Fusion is enabled.\n",
      "2023-05-04 17:28:53.459289: I tensorflow/core/common_runtime/gpu_fusion_pass.cc:507] ROCm Fusion is enabled.\n",
      "2023-05-04 17:28:53.461433: I tensorflow/core/common_runtime/gpu_fusion_pass.cc:507] ROCm Fusion is enabled.\n"
     ]
    }
   ],
   "source": [
    "train_dir = os.path.dirname(os.path.abspath(\"__file__\")) + \"/runs/train/exp2/weights/\"\n",
    "GAN_model.save_weights(train_dir, save_format='tf')"
   ]
  },
  {
   "cell_type": "markdown",
   "metadata": {},
   "source": [
    "### Plotting the Generator and Discriminator Loss"
   ]
  },
  {
   "cell_type": "code",
   "execution_count": 16,
   "metadata": {},
   "outputs": [
    {
     "data": {
      "image/png": "[encoded data removed]",
      "text/plain": [
       "<Figure size 640x480 with 1 Axes>"
      ]
     },
     "metadata": {},
     "output_type": "display_data"
    }
   ],
   "source": [
    "plt.plot(history.history['d_loss'])\n",
    "# plt.yscale('log')\n",
    "plt.title('Discriminator Loss')\n",
    "plt.ylabel('loss')\n",
    "plt.xlabel('epoch')\n",
    "fig1 = plt.gcf()\n",
    "plt.show()\n",
    "fig1.savefig(train_dir + 'disLoss.png', dpi = 300)"
   ]
  },
  {
   "cell_type": "code",
   "execution_count": 15,
   "metadata": {},
   "outputs": [
    {
     "data": {
      "image/png": "[encoded data removed]",
      "text/plain": [
       "<Figure size 640x480 with 1 Axes>"
      ]
     },
     "metadata": {},
     "output_type": "display_data"
    }
   ],
   "source": [
    "plt.plot(history.history['g_loss'])\n",
    "# plt.yscale('log')\n",
    "plt.title('Generator Loss')\n",
    "plt.ylabel('loss')\n",
    "plt.xlabel('epoch')\n",
    "fig2 = plt.gcf()\n",
    "plt.show()\n",
    "fig2.savefig(train_dir + 'genLoss.png', dpi = 300)"
   ]
  },
  {
   "cell_type": "code",
   "execution_count": 14,
   "metadata": {},
   "outputs": [
    {
     "data": {
      "image/png": "[encoded data removed]",
      "text/plain": [
       "<Figure size 640x480 with 1 Axes>"
      ]
     },
     "metadata": {},
     "output_type": "display_data"
    }
   ],
   "source": [
    "plt.plot(history.history['d_loss'], label='Discriminator Loss')\n",
    "plt.plot(history.history['g_loss'], label='Generator Loss')\n",
    "plt.title('Loss')\n",
    "plt.ylabel('loss')\n",
    "plt.xlabel('Epoch')\n",
    "plt.legend()\n",
    "fig3 = plt.gcf()\n",
    "plt.show()\n",
    "fig3.savefig(train_dir + 'GAN_loss.png', dpi = 300)"
   ]
  },
  {
   "cell_type": "code",
   "execution_count": null,
   "metadata": {},
   "outputs": [],
   "source": []
  }
 ],
 "metadata": {
  "kernelspec": {
   "display_name": "Python 3",
   "language": "python",
   "name": "python3"
  },
  "language_info": {
   "codemirror_mode": {
    "name": "ipython",
    "version": 3
   },
   "file_extension": ".py",
   "mimetype": "text/x-python",
   "name": "python",
   "nbconvert_exporter": "python",
   "pygments_lexer": "ipython3",
   "version": "3.10.6"
  },
  "orig_nbformat": 4,
  "vscode": {
   "interpreter": {
    "hash": "916dbcbb3f70747c44a77c7bcd40155683ae19c65e1c03b4aa3499c5328201f1"
   }
  }
 },
 "nbformat": 4,
 "nbformat_minor": 2
}
