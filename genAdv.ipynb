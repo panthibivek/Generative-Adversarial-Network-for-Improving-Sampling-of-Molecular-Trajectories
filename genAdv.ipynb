{
 "cells": [
  {
   "cell_type": "code",
   "execution_count": 2,
   "metadata": {},
   "outputs": [],
   "source": [
    "import tensorflow as tf\n",
    "import numpy as np\n",
    "from formatData import loadData\n",
    "from sklearn.model_selection import train_test_split\n",
    "from gan import GenAdvNetwork"
   ]
  },
  {
   "cell_type": "code",
   "execution_count": 3,
   "metadata": {},
   "outputs": [
    {
     "name": "stdout",
     "output_type": "stream",
     "text": [
      "input data size: (10000, 78)\n",
      "output data size: (10000,)\n",
      "Training data size: (7000, 78)\n",
      "Test data size: (3000, 78)\n"
     ]
    }
   ],
   "source": [
    "\"\"\"\n",
    "Loading data\n",
    "Note than we can only specify absolute location of the raw data\n",
    "\"\"\"\n",
    "molRep2D, energies = loadData(12, \"/home/panthibivek/thesis/GAN_pkg/data/traj.xyz\")\n",
    "#randomize the data and split it into training and test set\n",
    "# unison_shuffle(molRep2D, energies)\n",
    "X_train, X_test, y_train, y_test = train_test_split(molRep2D,energies,\n",
    "                                   random_state=104, \n",
    "                                   test_size=0.3, \n",
    "                                   shuffle=True)\n",
    "\n",
    "print(\"Training data size:\", X_train.shape)\n",
    "print(\"Test data size:\", X_test.shape)"
   ]
  },
  {
   "cell_type": "code",
   "execution_count": 4,
   "metadata": {},
   "outputs": [
    {
     "name": "stderr",
     "output_type": "stream",
     "text": [
      "2023-03-02 18:21:39.621077: I tensorflow/compiler/xla/stream_executor/rocm/rocm_gpu_executor.cc:843] successful NUMA node read from SysFS had negative value (-1), but there must be at least one NUMA node, so returning NUMA node zero\n",
      "2023-03-02 18:21:39.621217: I tensorflow/compiler/xla/stream_executor/rocm/rocm_gpu_executor.cc:843] successful NUMA node read from SysFS had negative value (-1), but there must be at least one NUMA node, so returning NUMA node zero\n",
      "2023-03-02 18:21:39.624425: W tensorflow/compiler/xla/stream_executor/platform/default/dso_loader.cc:64] Could not load dynamic library 'libMIOpen.so'; dlerror: libMIOpen.so: cannot open shared object file: No such file or directory\n",
      "2023-03-02 18:21:39.665584: W tensorflow/core/common_runtime/gpu/gpu_device.cc:1934] Cannot dlopen some GPU libraries. Please make sure the missing libraries mentioned above are installed properly if you would like to use GPU. Follow the guide at https://www.tensorflow.org/install/gpu for how to download and setup the required libraries for your platform.\n",
      "Skipping registering GPU devices...\n",
      "2023-03-02 18:21:39.666165: I tensorflow/core/platform/cpu_feature_guard.cc:193] This TensorFlow binary is optimized with oneAPI Deep Neural Network Library (oneDNN) to use the following CPU instructions in performance-critical operations:  SSE3 SSE4.1 SSE4.2 AVX AVX2 FMA\n",
      "To enable them in other operations, rebuild TensorFlow with the appropriate compiler flags.\n",
      "2023-03-02 18:21:39.677628: I tensorflow/core/common_runtime/gpu_fusion_pass.cc:507] ROCm Fusion is enabled.\n",
      "2023-03-02 18:21:39.679100: I tensorflow/core/common_runtime/gpu_fusion_pass.cc:507] ROCm Fusion is enabled.\n",
      "2023-03-02 18:21:39.679808: I tensorflow/core/common_runtime/gpu_fusion_pass.cc:507] ROCm Fusion is enabled.\n",
      "2023-03-02 18:21:39.680238: I tensorflow/core/common_runtime/gpu_fusion_pass.cc:507] ROCm Fusion is enabled.\n",
      "2023-03-02 18:21:39.680786: I tensorflow/core/common_runtime/gpu_fusion_pass.cc:507] ROCm Fusion is enabled.\n",
      "2023-03-02 18:21:39.681551: I tensorflow/core/common_runtime/gpu_fusion_pass.cc:507] ROCm Fusion is enabled.\n",
      "2023-03-02 18:21:39.682103: I tensorflow/core/common_runtime/gpu_fusion_pass.cc:507] ROCm Fusion is enabled.\n"
     ]
    }
   ],
   "source": [
    "latent_dim_ = 32\n",
    "epochs_ = 3\n",
    "batch_size_ = 16\n",
    "y_train = np.reshape(y_train, (-1, 1))\n",
    "X_train = np.array(X_train)\n",
    "X_train = X_train.astype(float)\n",
    "X_train = np.reshape(X_train, (-1, 78, 1))\n",
    "dataset = tf.data.Dataset.from_tensor_slices((X_train, y_train))\n",
    "dataset = dataset.shuffle(buffer_size=100).batch(batch_size_)"
   ]
  },
  {
   "cell_type": "code",
   "execution_count": 5,
   "metadata": {},
   "outputs": [
    {
     "name": "stderr",
     "output_type": "stream",
     "text": [
      "2023-03-02 18:21:39.731992: I tensorflow/core/common_runtime/gpu_fusion_pass.cc:507] ROCm Fusion is enabled.\n",
      "2023-03-02 18:21:39.732827: I tensorflow/core/common_runtime/gpu_fusion_pass.cc:507] ROCm Fusion is enabled.\n",
      "2023-03-02 18:21:39.739914: I tensorflow/core/common_runtime/gpu_fusion_pass.cc:507] ROCm Fusion is enabled.\n",
      "2023-03-02 18:21:39.740408: I tensorflow/core/common_runtime/gpu_fusion_pass.cc:507] ROCm Fusion is enabled.\n",
      "2023-03-02 18:21:39.744566: I tensorflow/core/common_runtime/gpu_fusion_pass.cc:507] ROCm Fusion is enabled.\n",
      "2023-03-02 18:21:39.745112: I tensorflow/core/common_runtime/gpu_fusion_pass.cc:507] ROCm Fusion is enabled.\n",
      "2023-03-02 18:21:39.745924: I tensorflow/core/common_runtime/gpu_fusion_pass.cc:507] ROCm Fusion is enabled.\n",
      "2023-03-02 18:21:39.746441: I tensorflow/core/common_runtime/gpu_fusion_pass.cc:507] ROCm Fusion is enabled.\n",
      "2023-03-02 18:21:39.746926: I tensorflow/core/common_runtime/gpu_fusion_pass.cc:507] ROCm Fusion is enabled.\n",
      "2023-03-02 18:21:39.747403: I tensorflow/core/common_runtime/gpu_fusion_pass.cc:507] ROCm Fusion is enabled.\n",
      "2023-03-02 18:21:39.747882: I tensorflow/core/common_runtime/gpu_fusion_pass.cc:507] ROCm Fusion is enabled.\n",
      "2023-03-02 18:21:39.748900: I tensorflow/core/common_runtime/gpu_fusion_pass.cc:507] ROCm Fusion is enabled.\n",
      "2023-03-02 18:21:39.749356: I tensorflow/core/common_runtime/gpu_fusion_pass.cc:507] ROCm Fusion is enabled.\n",
      "2023-03-02 18:21:39.749787: I tensorflow/core/common_runtime/gpu_fusion_pass.cc:507] ROCm Fusion is enabled.\n",
      "2023-03-02 18:21:39.760231: I tensorflow/core/common_runtime/gpu_fusion_pass.cc:507] ROCm Fusion is enabled.\n",
      "2023-03-02 18:21:39.760881: I tensorflow/core/common_runtime/gpu_fusion_pass.cc:507] ROCm Fusion is enabled.\n",
      "2023-03-02 18:21:39.761682: I tensorflow/core/common_runtime/gpu_fusion_pass.cc:507] ROCm Fusion is enabled.\n",
      "2023-03-02 18:21:39.762111: I tensorflow/core/common_runtime/gpu_fusion_pass.cc:507] ROCm Fusion is enabled.\n"
     ]
    },
    {
     "name": "stdout",
     "output_type": "stream",
     "text": [
      "Model: \"generator\"\n",
      "_________________________________________________________________\n",
      " Layer (type)                Output Shape              Param #   \n",
      "=================================================================\n",
      " dense (Dense)               (None, 13)                442       \n",
      "                                                                 \n",
      " leaky_re_lu (LeakyReLU)     (None, 13)                0         \n",
      "                                                                 \n",
      " reshape (Reshape)           (None, 13, 1)             0         \n",
      "                                                                 \n",
      " conv1d_transpose (Conv1DTra  (None, 39, 512)          2560      \n",
      " nspose)                                                         \n",
      "                                                                 \n",
      " leaky_re_lu_1 (LeakyReLU)   (None, 39, 512)           0         \n",
      "                                                                 \n",
      " batch_normalization (BatchN  (None, 39, 512)          2048      \n",
      " ormalization)                                                   \n",
      "                                                                 \n",
      " conv1d_transpose_1 (Conv1DT  (None, 78, 1024)         2098176   \n",
      " ranspose)                                                       \n",
      "                                                                 \n",
      " leaky_re_lu_2 (LeakyReLU)   (None, 78, 1024)          0         \n",
      "                                                                 \n",
      " batch_normalization_1 (Batc  (None, 78, 1024)         4096      \n",
      " hNormalization)                                                 \n",
      "                                                                 \n",
      " conv1d (Conv1D)             (None, 78, 1)             4097      \n",
      "                                                                 \n",
      "=================================================================\n",
      "Total params: 2,111,419\n",
      "Trainable params: 2,108,347\n",
      "Non-trainable params: 3,072\n",
      "_________________________________________________________________\n"
     ]
    },
    {
     "name": "stderr",
     "output_type": "stream",
     "text": [
      "2023-03-02 18:21:39.886778: I tensorflow/core/common_runtime/gpu_fusion_pass.cc:507] ROCm Fusion is enabled.\n",
      "2023-03-02 18:21:39.887467: I tensorflow/core/common_runtime/gpu_fusion_pass.cc:507] ROCm Fusion is enabled.\n",
      "2023-03-02 18:21:39.888360: I tensorflow/core/common_runtime/gpu_fusion_pass.cc:507] ROCm Fusion is enabled.\n",
      "2023-03-02 18:21:39.888919: I tensorflow/core/common_runtime/gpu_fusion_pass.cc:507] ROCm Fusion is enabled.\n",
      "2023-03-02 18:21:39.910086: I tensorflow/core/common_runtime/gpu_fusion_pass.cc:507] ROCm Fusion is enabled.\n",
      "2023-03-02 18:21:39.910680: I tensorflow/core/common_runtime/gpu_fusion_pass.cc:507] ROCm Fusion is enabled.\n",
      "2023-03-02 18:21:39.911496: I tensorflow/core/common_runtime/gpu_fusion_pass.cc:507] ROCm Fusion is enabled.\n",
      "2023-03-02 18:21:39.911977: I tensorflow/core/common_runtime/gpu_fusion_pass.cc:507] ROCm Fusion is enabled.\n"
     ]
    },
    {
     "name": "stdout",
     "output_type": "stream",
     "text": [
      "Model: \"discriminator\"\n",
      "_________________________________________________________________\n",
      " Layer (type)                Output Shape              Param #   \n",
      "=================================================================\n",
      " conv1d_1 (Conv1D)           (None, 26, 64)            320       \n",
      "                                                                 \n",
      " leaky_re_lu_3 (LeakyReLU)   (None, 26, 64)            0         \n",
      "                                                                 \n",
      " conv1d_2 (Conv1D)           (None, 13, 128)           32896     \n",
      "                                                                 \n",
      " leaky_re_lu_4 (LeakyReLU)   (None, 13, 128)           0         \n",
      "                                                                 \n",
      " batch_normalization_2 (Batc  (None, 13, 128)          512       \n",
      " hNormalization)                                                 \n",
      "                                                                 \n",
      " flatten (Flatten)           (None, 1664)              0         \n",
      "                                                                 \n",
      " dense_1 (Dense)             (None, 1)                 1665      \n",
      "                                                                 \n",
      "=================================================================\n",
      "Total params: 35,393\n",
      "Trainable params: 35,137\n",
      "Non-trainable params: 256\n",
      "_________________________________________________________________\n",
      "Epoch 1/3\n"
     ]
    },
    {
     "name": "stderr",
     "output_type": "stream",
     "text": [
      "2023-03-02 18:21:39.934147: I tensorflow/core/common_runtime/gpu_fusion_pass.cc:507] ROCm Fusion is enabled.\n",
      "2023-03-02 18:21:39.934738: I tensorflow/core/common_runtime/gpu_fusion_pass.cc:507] ROCm Fusion is enabled.\n",
      "2023-03-02 18:21:39.935629: I tensorflow/core/common_runtime/gpu_fusion_pass.cc:507] ROCm Fusion is enabled.\n",
      "2023-03-02 18:21:39.936171: I tensorflow/core/common_runtime/gpu_fusion_pass.cc:507] ROCm Fusion is enabled.\n",
      "2023-03-02 18:21:39.945939: I tensorflow/core/common_runtime/gpu_fusion_pass.cc:507] ROCm Fusion is enabled.\n",
      "2023-03-02 18:21:39.946449: I tensorflow/core/common_runtime/gpu_fusion_pass.cc:507] ROCm Fusion is enabled.\n",
      "2023-03-02 18:21:39.947292: I tensorflow/core/common_runtime/gpu_fusion_pass.cc:507] ROCm Fusion is enabled.\n",
      "2023-03-02 18:21:39.947735: I tensorflow/core/common_runtime/gpu_fusion_pass.cc:507] ROCm Fusion is enabled.\n",
      "2023-03-02 18:21:39.964420: I tensorflow/core/common_runtime/gpu_fusion_pass.cc:507] ROCm Fusion is enabled.\n",
      "2023-03-02 18:21:39.964964: I tensorflow/core/common_runtime/gpu_fusion_pass.cc:507] ROCm Fusion is enabled.\n",
      "2023-03-02 18:21:39.981193: I tensorflow/core/common_runtime/gpu_fusion_pass.cc:507] ROCm Fusion is enabled.\n",
      "2023-03-02 18:21:39.981916: I tensorflow/core/common_runtime/gpu_fusion_pass.cc:507] ROCm Fusion is enabled.\n",
      "2023-03-02 18:21:39.992300: I tensorflow/core/common_runtime/gpu_fusion_pass.cc:507] ROCm Fusion is enabled.\n",
      "2023-03-02 18:21:39.992870: I tensorflow/core/common_runtime/gpu_fusion_pass.cc:507] ROCm Fusion is enabled.\n",
      "2023-03-02 18:21:39.993436: I tensorflow/core/common_runtime/gpu_fusion_pass.cc:507] ROCm Fusion is enabled.\n",
      "2023-03-02 18:21:39.993937: I tensorflow/core/common_runtime/gpu_fusion_pass.cc:507] ROCm Fusion is enabled.\n",
      "2023-03-02 18:21:39.994452: I tensorflow/core/common_runtime/gpu_fusion_pass.cc:507] ROCm Fusion is enabled.\n",
      "2023-03-02 18:21:39.995662: I tensorflow/core/common_runtime/gpu_fusion_pass.cc:507] ROCm Fusion is enabled.\n",
      "2023-03-02 18:21:39.996361: I tensorflow/core/common_runtime/gpu_fusion_pass.cc:507] ROCm Fusion is enabled.\n",
      "2023-03-02 18:21:39.996761: I tensorflow/core/common_runtime/gpu_fusion_pass.cc:507] ROCm Fusion is enabled.\n",
      "2023-03-02 18:21:40.004660: I tensorflow/core/common_runtime/gpu_fusion_pass.cc:507] ROCm Fusion is enabled.\n",
      "2023-03-02 18:21:40.006540: I tensorflow/core/common_runtime/gpu_fusion_pass.cc:507] ROCm Fusion is enabled.\n",
      "2023-03-02 18:21:40.007672: I tensorflow/core/common_runtime/gpu_fusion_pass.cc:507] ROCm Fusion is enabled.\n",
      "2023-03-02 18:21:40.008243: I tensorflow/core/common_runtime/gpu_fusion_pass.cc:507] ROCm Fusion is enabled.\n",
      "2023-03-02 18:21:40.008727: I tensorflow/core/common_runtime/gpu_fusion_pass.cc:507] ROCm Fusion is enabled.\n",
      "2023-03-02 18:21:40.009391: I tensorflow/core/common_runtime/gpu_fusion_pass.cc:507] ROCm Fusion is enabled.\n",
      "2023-03-02 18:21:40.009917: I tensorflow/core/common_runtime/gpu_fusion_pass.cc:507] ROCm Fusion is enabled.\n",
      "2023-03-02 18:21:40.010339: I tensorflow/core/common_runtime/gpu_fusion_pass.cc:507] ROCm Fusion is enabled.\n",
      "2023-03-02 18:21:40.010777: I tensorflow/core/common_runtime/gpu_fusion_pass.cc:507] ROCm Fusion is enabled.\n",
      "2023-03-02 18:21:40.011170: I tensorflow/core/common_runtime/gpu_fusion_pass.cc:507] ROCm Fusion is enabled.\n",
      "2023-03-02 18:21:40.011723: I tensorflow/core/common_runtime/gpu_fusion_pass.cc:507] ROCm Fusion is enabled.\n",
      "2023-03-02 18:21:40.012241: I tensorflow/core/common_runtime/gpu_fusion_pass.cc:507] ROCm Fusion is enabled.\n",
      "2023-03-02 18:21:40.012842: I tensorflow/core/common_runtime/gpu_fusion_pass.cc:507] ROCm Fusion is enabled.\n",
      "2023-03-02 18:21:40.013475: I tensorflow/core/common_runtime/gpu_fusion_pass.cc:507] ROCm Fusion is enabled.\n",
      "2023-03-02 18:21:40.013986: I tensorflow/core/common_runtime/gpu_fusion_pass.cc:507] ROCm Fusion is enabled.\n",
      "2023-03-02 18:21:40.014861: I tensorflow/core/common_runtime/gpu_fusion_pass.cc:507] ROCm Fusion is enabled.\n",
      "2023-03-02 18:21:40.015387: I tensorflow/core/common_runtime/gpu_fusion_pass.cc:507] ROCm Fusion is enabled.\n",
      "2023-03-02 18:21:40.015794: I tensorflow/core/common_runtime/gpu_fusion_pass.cc:507] ROCm Fusion is enabled.\n",
      "2023-03-02 18:21:40.016380: I tensorflow/core/common_runtime/gpu_fusion_pass.cc:507] ROCm Fusion is enabled.\n",
      "2023-03-02 18:21:40.016962: I tensorflow/core/common_runtime/gpu_fusion_pass.cc:507] ROCm Fusion is enabled.\n",
      "2023-03-02 18:21:40.017614: I tensorflow/core/common_runtime/gpu_fusion_pass.cc:507] ROCm Fusion is enabled.\n",
      "2023-03-02 18:21:40.018119: I tensorflow/core/common_runtime/gpu_fusion_pass.cc:507] ROCm Fusion is enabled.\n",
      "2023-03-02 18:21:40.018278: W tensorflow/tsl/framework/cpu_allocator_impl.cc:82] Allocation of 29286400 exceeds 10% of free system memory.\n",
      "2023-03-02 18:21:40.019180: I tensorflow/core/common_runtime/gpu_fusion_pass.cc:507] ROCm Fusion is enabled.\n",
      "2023-03-02 18:21:40.019750: I tensorflow/core/common_runtime/gpu_fusion_pass.cc:507] ROCm Fusion is enabled.\n",
      "2023-03-02 18:21:40.021609: I tensorflow/core/common_runtime/gpu_fusion_pass.cc:507] ROCm Fusion is enabled.\n",
      "2023-03-02 18:21:40.023851: I tensorflow/core/common_runtime/gpu_fusion_pass.cc:507] ROCm Fusion is enabled.\n",
      "2023-03-02 18:21:40.024866: I tensorflow/core/common_runtime/gpu_fusion_pass.cc:507] ROCm Fusion is enabled.\n",
      "2023-03-02 18:21:40.043230: I tensorflow/core/common_runtime/gpu_fusion_pass.cc:507] ROCm Fusion is enabled.\n",
      "2023-03-02 18:21:40.048141: I tensorflow/core/common_runtime/gpu_fusion_pass.cc:507] ROCm Fusion is enabled.\n",
      "2023-03-02 18:21:40.048940: I tensorflow/core/common_runtime/gpu_fusion_pass.cc:507] ROCm Fusion is enabled.\n",
      "2023-03-02 18:21:40.050837: I tensorflow/core/common_runtime/gpu_fusion_pass.cc:507] ROCm Fusion is enabled.\n",
      "2023-03-02 18:21:40.051531: I tensorflow/core/common_runtime/gpu_fusion_pass.cc:507] ROCm Fusion is enabled.\n",
      "2023-03-02 18:21:40.052027: I tensorflow/core/common_runtime/gpu_fusion_pass.cc:507] ROCm Fusion is enabled.\n",
      "2023-03-02 18:21:40.052971: I tensorflow/core/common_runtime/gpu_fusion_pass.cc:507] ROCm Fusion is enabled.\n",
      "2023-03-02 18:21:40.054089: I tensorflow/core/common_runtime/gpu_fusion_pass.cc:507] ROCm Fusion is enabled.\n",
      "2023-03-02 18:21:40.054759: I tensorflow/core/common_runtime/gpu_fusion_pass.cc:507] ROCm Fusion is enabled.\n",
      "2023-03-02 18:21:40.055450: I tensorflow/core/common_runtime/gpu_fusion_pass.cc:507] ROCm Fusion is enabled.\n",
      "2023-03-02 18:21:40.056662: I tensorflow/core/common_runtime/gpu_fusion_pass.cc:507] ROCm Fusion is enabled.\n",
      "2023-03-02 18:21:40.057283: I tensorflow/core/common_runtime/gpu_fusion_pass.cc:507] ROCm Fusion is enabled.\n",
      "2023-03-02 18:21:40.058384: I tensorflow/core/common_runtime/gpu_fusion_pass.cc:507] ROCm Fusion is enabled.\n",
      "2023-03-02 18:21:40.060247: I tensorflow/core/common_runtime/gpu_fusion_pass.cc:507] ROCm Fusion is enabled.\n",
      "2023-03-02 18:21:40.060782: I tensorflow/core/common_runtime/gpu_fusion_pass.cc:507] ROCm Fusion is enabled.\n",
      "2023-03-02 18:21:40.061435: I tensorflow/core/common_runtime/gpu_fusion_pass.cc:507] ROCm Fusion is enabled.\n",
      "2023-03-02 18:21:40.061842: I tensorflow/core/common_runtime/gpu_fusion_pass.cc:507] ROCm Fusion is enabled.\n",
      "2023-03-02 18:21:40.062334: I tensorflow/core/common_runtime/gpu_fusion_pass.cc:507] ROCm Fusion is enabled.\n",
      "2023-03-02 18:21:40.062747: I tensorflow/core/common_runtime/gpu_fusion_pass.cc:507] ROCm Fusion is enabled.\n",
      "2023-03-02 18:21:40.063293: I tensorflow/core/common_runtime/gpu_fusion_pass.cc:507] ROCm Fusion is enabled.\n",
      "2023-03-02 18:21:40.063842: I tensorflow/core/common_runtime/gpu_fusion_pass.cc:507] ROCm Fusion is enabled.\n",
      "2023-03-02 18:21:40.064541: I tensorflow/core/common_runtime/gpu_fusion_pass.cc:507] ROCm Fusion is enabled.\n",
      "2023-03-02 18:21:40.065536: I tensorflow/core/common_runtime/gpu_fusion_pass.cc:507] ROCm Fusion is enabled.\n",
      "2023-03-02 18:21:40.066316: I tensorflow/core/common_runtime/gpu_fusion_pass.cc:507] ROCm Fusion is enabled.\n",
      "2023-03-02 18:21:40.067038: I tensorflow/core/common_runtime/gpu_fusion_pass.cc:507] ROCm Fusion is enabled.\n",
      "2023-03-02 18:21:40.067664: I tensorflow/core/common_runtime/gpu_fusion_pass.cc:507] ROCm Fusion is enabled.\n",
      "2023-03-02 18:21:40.068763: I tensorflow/core/common_runtime/gpu_fusion_pass.cc:507] ROCm Fusion is enabled.\n",
      "2023-03-02 18:21:40.069884: I tensorflow/core/common_runtime/gpu_fusion_pass.cc:507] ROCm Fusion is enabled.\n",
      "2023-03-02 18:21:40.070941: I tensorflow/core/common_runtime/gpu_fusion_pass.cc:507] ROCm Fusion is enabled.\n",
      "2023-03-02 18:21:40.071530: I tensorflow/core/common_runtime/gpu_fusion_pass.cc:507] ROCm Fusion is enabled.\n",
      "2023-03-02 18:21:40.072126: I tensorflow/core/common_runtime/gpu_fusion_pass.cc:507] ROCm Fusion is enabled.\n",
      "2023-03-02 18:21:40.072969: I tensorflow/core/common_runtime/gpu_fusion_pass.cc:507] ROCm Fusion is enabled.\n",
      "2023-03-02 18:21:40.073465: I tensorflow/core/common_runtime/gpu_fusion_pass.cc:507] ROCm Fusion is enabled.\n",
      "2023-03-02 18:21:40.073938: I tensorflow/core/common_runtime/gpu_fusion_pass.cc:507] ROCm Fusion is enabled.\n",
      "2023-03-02 18:21:40.074371: I tensorflow/core/common_runtime/gpu_fusion_pass.cc:507] ROCm Fusion is enabled.\n",
      "2023-03-02 18:21:40.075408: I tensorflow/core/common_runtime/gpu_fusion_pass.cc:507] ROCm Fusion is enabled.\n",
      "2023-03-02 18:21:40.075984: I tensorflow/core/common_runtime/gpu_fusion_pass.cc:507] ROCm Fusion is enabled.\n",
      "2023-03-02 18:21:40.076638: I tensorflow/core/common_runtime/gpu_fusion_pass.cc:507] ROCm Fusion is enabled.\n",
      "2023-03-02 18:21:40.077747: I tensorflow/core/common_runtime/gpu_fusion_pass.cc:507] ROCm Fusion is enabled.\n",
      "2023-03-02 18:21:40.079012: I tensorflow/core/common_runtime/gpu_fusion_pass.cc:507] ROCm Fusion is enabled.\n",
      "2023-03-02 18:21:40.080042: I tensorflow/core/common_runtime/gpu_fusion_pass.cc:507] ROCm Fusion is enabled.\n",
      "2023-03-02 18:21:40.086142: I tensorflow/core/common_runtime/gpu_fusion_pass.cc:507] ROCm Fusion is enabled.\n",
      "2023-03-02 18:21:40.086708: I tensorflow/core/common_runtime/gpu_fusion_pass.cc:507] ROCm Fusion is enabled.\n",
      "2023-03-02 18:21:40.087230: I tensorflow/core/common_runtime/gpu_fusion_pass.cc:507] ROCm Fusion is enabled.\n",
      "2023-03-02 18:21:40.088333: I tensorflow/core/common_runtime/gpu_fusion_pass.cc:507] ROCm Fusion is enabled.\n",
      "2023-03-02 18:21:40.088929: I tensorflow/core/common_runtime/gpu_fusion_pass.cc:507] ROCm Fusion is enabled.\n",
      "2023-03-02 18:21:40.089751: I tensorflow/core/common_runtime/gpu_fusion_pass.cc:507] ROCm Fusion is enabled.\n",
      "2023-03-02 18:21:40.090232: I tensorflow/core/common_runtime/gpu_fusion_pass.cc:507] ROCm Fusion is enabled.\n",
      "2023-03-02 18:21:40.091092: I tensorflow/core/common_runtime/gpu_fusion_pass.cc:507] ROCm Fusion is enabled.\n",
      "2023-03-02 18:21:40.092131: I tensorflow/core/common_runtime/gpu_fusion_pass.cc:507] ROCm Fusion is enabled.\n",
      "2023-03-02 18:21:40.092821: I tensorflow/core/common_runtime/gpu_fusion_pass.cc:507] ROCm Fusion is enabled.\n",
      "2023-03-02 18:21:40.093734: I tensorflow/core/common_runtime/gpu_fusion_pass.cc:507] ROCm Fusion is enabled.\n",
      "2023-03-02 18:21:40.094539: I tensorflow/core/common_runtime/gpu_fusion_pass.cc:507] ROCm Fusion is enabled.\n",
      "2023-03-02 18:21:40.095579: I tensorflow/core/common_runtime/gpu_fusion_pass.cc:507] ROCm Fusion is enabled.\n",
      "2023-03-02 18:21:40.096286: I tensorflow/core/common_runtime/gpu_fusion_pass.cc:507] ROCm Fusion is enabled.\n",
      "2023-03-02 18:21:40.098957: I tensorflow/core/common_runtime/gpu_fusion_pass.cc:507] ROCm Fusion is enabled.\n",
      "2023-03-02 18:21:40.099687: I tensorflow/core/common_runtime/gpu_fusion_pass.cc:507] ROCm Fusion is enabled.\n",
      "2023-03-02 18:21:40.100554: I tensorflow/core/common_runtime/gpu_fusion_pass.cc:507] ROCm Fusion is enabled.\n",
      "2023-03-02 18:21:40.101304: I tensorflow/core/common_runtime/gpu_fusion_pass.cc:507] ROCm Fusion is enabled.\n",
      "2023-03-02 18:21:40.101763: I tensorflow/core/common_runtime/gpu_fusion_pass.cc:507] ROCm Fusion is enabled.\n",
      "2023-03-02 18:21:40.104469: W tensorflow/tsl/framework/cpu_allocator_impl.cc:82] Allocation of 29286400 exceeds 10% of free system memory.\n",
      "2023-03-02 18:21:40.135704: I tensorflow/core/common_runtime/gpu_fusion_pass.cc:507] ROCm Fusion is enabled.\n"
     ]
    },
    {
     "name": "stdout",
     "output_type": "stream",
     "text": [
      "  1/438 [..............................] - ETA: 1:31 - g_loss: 0.7053 - d_loss: 0.4450"
     ]
    },
    {
     "name": "stderr",
     "output_type": "stream",
     "text": [
      "2023-03-02 18:21:40.136481: I tensorflow/core/common_runtime/gpu_fusion_pass.cc:507] ROCm Fusion is enabled.\n",
      "2023-03-02 18:21:40.136645: W tensorflow/tsl/framework/cpu_allocator_impl.cc:82] Allocation of 31948800 exceeds 10% of free system memory.\n",
      "2023-03-02 18:21:40.140876: I tensorflow/core/common_runtime/gpu_fusion_pass.cc:507] ROCm Fusion is enabled.\n",
      "2023-03-02 18:21:40.141087: W tensorflow/tsl/framework/cpu_allocator_impl.cc:82] Allocation of 31948800 exceeds 10% of free system memory.\n",
      "2023-03-02 18:21:40.171682: W tensorflow/tsl/framework/cpu_allocator_impl.cc:82] Allocation of 29286400 exceeds 10% of free system memory.\n",
      "2023-03-02 18:21:40.184329: I tensorflow/core/common_runtime/gpu_fusion_pass.cc:507] ROCm Fusion is enabled.\n",
      "2023-03-02 18:21:40.185161: I tensorflow/core/common_runtime/gpu_fusion_pass.cc:507] ROCm Fusion is enabled.\n",
      "2023-03-02 18:21:40.186141: I tensorflow/core/common_runtime/gpu_fusion_pass.cc:507] ROCm Fusion is enabled.\n",
      "2023-03-02 18:21:40.186854: I tensorflow/core/common_runtime/gpu_fusion_pass.cc:507] ROCm Fusion is enabled.\n",
      "2023-03-02 18:21:40.187773: I tensorflow/core/common_runtime/gpu_fusion_pass.cc:507] ROCm Fusion is enabled.\n",
      "2023-03-02 18:21:40.188531: I tensorflow/core/common_runtime/gpu_fusion_pass.cc:507] ROCm Fusion is enabled.\n",
      "2023-03-02 18:21:40.189762: I tensorflow/core/common_runtime/gpu_fusion_pass.cc:507] ROCm Fusion is enabled.\n",
      "2023-03-02 18:21:40.190504: I tensorflow/core/common_runtime/gpu_fusion_pass.cc:507] ROCm Fusion is enabled.\n",
      "2023-03-02 18:21:40.195051: I tensorflow/core/common_runtime/gpu_fusion_pass.cc:507] ROCm Fusion is enabled.\n",
      "2023-03-02 18:21:40.203566: I tensorflow/core/common_runtime/gpu_fusion_pass.cc:507] ROCm Fusion is enabled.\n",
      "2023-03-02 18:21:40.205991: I tensorflow/core/common_runtime/gpu_fusion_pass.cc:507] ROCm Fusion is enabled.\n",
      "2023-03-02 18:21:40.206881: I tensorflow/core/common_runtime/gpu_fusion_pass.cc:507] ROCm Fusion is enabled.\n",
      "2023-03-02 18:21:40.209600: I tensorflow/core/common_runtime/gpu_fusion_pass.cc:507] ROCm Fusion is enabled.\n",
      "2023-03-02 18:21:40.210447: I tensorflow/core/common_runtime/gpu_fusion_pass.cc:507] ROCm Fusion is enabled.\n",
      "2023-03-02 18:21:40.212304: I tensorflow/core/common_runtime/gpu_fusion_pass.cc:507] ROCm Fusion is enabled.\n"
     ]
    },
    {
     "name": "stdout",
     "output_type": "stream",
     "text": [
      "438/438 [==============================] - 59s 135ms/step - g_loss: 6.2094 - d_loss: 0.0630\n",
      "Epoch 2/3\n",
      "438/438 [==============================] - 59s 135ms/step - g_loss: 10.4284 - d_loss: 1.6873e-05\n",
      "Epoch 3/3\n",
      "438/438 [==============================] - 60s 136ms/step - g_loss: 11.3072 - d_loss: 7.1084e-06\n"
     ]
    },
    {
     "data": {
      "text/plain": [
       "<keras.callbacks.History at 0x7f1c94565c00>"
      ]
     },
     "execution_count": 5,
     "metadata": {},
     "output_type": "execute_result"
    }
   ],
   "source": [
    "GAN_model = GenAdvNetwork(latent_dim=latent_dim_, batch_size=batch_size_)\n",
    "GAN_model.compile(\n",
    "    generator_opt=tf.keras.optimizers.Adam(learning_rate=0.0001),\n",
    "    discriminator_opt=tf.keras.optimizers.Adam(learning_rate=0.001),\n",
    "    loss_func=tf.keras.losses.BinaryCrossentropy(),\n",
    ")\n",
    "GAN_model.fit(dataset, epochs=epochs_)"
   ]
  },
  {
   "cell_type": "code",
   "execution_count": null,
   "metadata": {},
   "outputs": [],
   "source": []
  }
 ],
 "metadata": {
  "kernelspec": {
   "display_name": "Python 3",
   "language": "python",
   "name": "python3"
  },
  "language_info": {
   "codemirror_mode": {
    "name": "ipython",
    "version": 3
   },
   "file_extension": ".py",
   "mimetype": "text/x-python",
   "name": "python",
   "nbconvert_exporter": "python",
   "pygments_lexer": "ipython3",
   "version": "3.10.6"
  },
  "orig_nbformat": 4,
  "vscode": {
   "interpreter": {
    "hash": "916dbcbb3f70747c44a77c7bcd40155683ae19c65e1c03b4aa3499c5328201f1"
   }
  }
 },
 "nbformat": 4,
 "nbformat_minor": 2
}
