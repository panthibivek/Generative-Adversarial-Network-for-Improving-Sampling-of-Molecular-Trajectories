{
 "cells": [
  {
   "cell_type": "code",
   "execution_count": 1,
   "metadata": {},
   "outputs": [
    {
     "name": "stderr",
     "output_type": "stream",
     "text": [
      "2023-02-28 22:55:32.017137: I tensorflow/core/platform/cpu_feature_guard.cc:193] This TensorFlow binary is optimized with oneAPI Deep Neural Network Library (oneDNN) to use the following CPU instructions in performance-critical operations:  AVX2 FMA\n",
      "To enable them in other operations, rebuild TensorFlow with the appropriate compiler flags.\n",
      "2023-02-28 22:55:32.130906: W tensorflow/compiler/xla/stream_executor/platform/default/dso_loader.cc:64] Could not load dynamic library 'libcudart.so.11.0'; dlerror: libcudart.so.11.0: cannot open shared object file: No such file or directory\n",
      "2023-02-28 22:55:32.130920: I tensorflow/compiler/xla/stream_executor/cuda/cudart_stub.cc:29] Ignore above cudart dlerror if you do not have a GPU set up on your machine.\n",
      "2023-02-28 22:55:32.596302: W tensorflow/compiler/xla/stream_executor/platform/default/dso_loader.cc:64] Could not load dynamic library 'libnvinfer.so.7'; dlerror: libnvinfer.so.7: cannot open shared object file: No such file or directory\n",
      "2023-02-28 22:55:32.596337: W tensorflow/compiler/xla/stream_executor/platform/default/dso_loader.cc:64] Could not load dynamic library 'libnvinfer_plugin.so.7'; dlerror: libnvinfer_plugin.so.7: cannot open shared object file: No such file or directory\n",
      "2023-02-28 22:55:32.596341: W tensorflow/compiler/tf2tensorrt/utils/py_utils.cc:38] TF-TRT Warning: Cannot dlopen some TensorRT libraries. If you would like to use Nvidia GPU with TensorRT, please make sure the missing libraries mentioned above are installed properly.\n"
     ]
    }
   ],
   "source": [
    "import tensorflow as tf\n",
    "import numpy as np\n",
    "from formatData import loadData\n",
    "from sklearn.model_selection import train_test_split\n",
    "from gan import GenAdvNetwork"
   ]
  },
  {
   "cell_type": "code",
   "execution_count": 2,
   "metadata": {},
   "outputs": [
    {
     "name": "stdout",
     "output_type": "stream",
     "text": [
      "input data size: (10000, 78)\n",
      "output data size: (10000,)\n",
      "Training data size: (7000, 78)\n",
      "Test data size: (3000, 78)\n"
     ]
    }
   ],
   "source": [
    "\"\"\"\n",
    "Loading data\n",
    "Note than we can only specify absolute location of the raw data\n",
    "\"\"\"\n",
    "molRep2D, energies = loadData(12, \"/home/panthibivek/thesis/GAN_pkg/data/traj.xyz\")\n",
    "#randomize the data and split it into training and test set\n",
    "# unison_shuffle(molRep2D, energies)\n",
    "X_train, X_test, y_train, y_test = train_test_split(molRep2D,energies,\n",
    "                                   random_state=104, \n",
    "                                   test_size=0.3, \n",
    "                                   shuffle=True)\n",
    "\n",
    "print(\"Training data size:\", X_train.shape)\n",
    "print(\"Test data size:\", X_test.shape)"
   ]
  },
  {
   "cell_type": "code",
   "execution_count": 3,
   "metadata": {},
   "outputs": [
    {
     "name": "stderr",
     "output_type": "stream",
     "text": [
      "2023-02-28 22:55:33.773769: W tensorflow/compiler/xla/stream_executor/platform/default/dso_loader.cc:64] Could not load dynamic library 'libcuda.so.1'; dlerror: libcuda.so.1: cannot open shared object file: No such file or directory\n",
      "2023-02-28 22:55:33.773785: W tensorflow/compiler/xla/stream_executor/cuda/cuda_driver.cc:265] failed call to cuInit: UNKNOWN ERROR (303)\n",
      "2023-02-28 22:55:33.773799: I tensorflow/compiler/xla/stream_executor/cuda/cuda_diagnostics.cc:156] kernel driver does not appear to be running on this host (Bivek-Zephyrus): /proc/driver/nvidia/version does not exist\n",
      "2023-02-28 22:55:33.774009: I tensorflow/core/platform/cpu_feature_guard.cc:193] This TensorFlow binary is optimized with oneAPI Deep Neural Network Library (oneDNN) to use the following CPU instructions in performance-critical operations:  AVX2 FMA\n",
      "To enable them in other operations, rebuild TensorFlow with the appropriate compiler flags.\n"
     ]
    }
   ],
   "source": [
    "latent_dim_ = 50\n",
    "epochs_ = 3\n",
    "batch_size_ = 16\n",
    "y_train = np.reshape(y_train, (-1, 1))\n",
    "X_train = np.array(X_train)\n",
    "X_train = X_train.astype(float)\n",
    "X_train = np.reshape(X_train, (-1, 78, 1))\n",
    "dataset = tf.data.Dataset.from_tensor_slices((X_train, y_train))\n",
    "dataset = dataset.shuffle(buffer_size=100).batch(batch_size_)"
   ]
  },
  {
   "cell_type": "code",
   "execution_count": 4,
   "metadata": {},
   "outputs": [
    {
     "name": "stdout",
     "output_type": "stream",
     "text": [
      "Model: \"generator\"\n",
      "_________________________________________________________________\n",
      " Layer (type)                Output Shape              Param #   \n",
      "=================================================================\n",
      " dense (Dense)               (None, 13)                676       \n",
      "                                                                 \n",
      " leaky_re_lu (LeakyReLU)     (None, 13)                0         \n",
      "                                                                 \n",
      " reshape (Reshape)           (None, 13, 1)             0         \n",
      "                                                                 \n",
      " conv1d_transpose (Conv1DTra  (None, 39, 512)          2560      \n",
      " nspose)                                                         \n",
      "                                                                 \n",
      " leaky_re_lu_1 (LeakyReLU)   (None, 39, 512)           0         \n",
      "                                                                 \n",
      " batch_normalization (BatchN  (None, 39, 512)          2048      \n",
      " ormalization)                                                   \n",
      "                                                                 \n",
      " conv1d_transpose_1 (Conv1DT  (None, 78, 1024)         2098176   \n",
      " ranspose)                                                       \n",
      "                                                                 \n",
      " leaky_re_lu_2 (LeakyReLU)   (None, 78, 1024)          0         \n",
      "                                                                 \n",
      " batch_normalization_1 (Batc  (None, 78, 1024)         4096      \n",
      " hNormalization)                                                 \n",
      "                                                                 \n",
      " conv1d (Conv1D)             (None, 78, 1)             4097      \n",
      "                                                                 \n",
      "=================================================================\n",
      "Total params: 2,111,653\n",
      "Trainable params: 2,108,581\n",
      "Non-trainable params: 3,072\n",
      "_________________________________________________________________\n",
      "Model: \"discriminator\"\n",
      "_________________________________________________________________\n",
      " Layer (type)                Output Shape              Param #   \n",
      "=================================================================\n",
      " conv1d_1 (Conv1D)           (None, 26, 64)            320       \n",
      "                                                                 \n",
      " leaky_re_lu_3 (LeakyReLU)   (None, 26, 64)            0         \n",
      "                                                                 \n",
      " conv1d_2 (Conv1D)           (None, 13, 128)           32896     \n",
      "                                                                 \n",
      " leaky_re_lu_4 (LeakyReLU)   (None, 13, 128)           0         \n",
      "                                                                 \n",
      " batch_normalization_2 (Batc  (None, 13, 128)          512       \n",
      " hNormalization)                                                 \n",
      "                                                                 \n",
      " flatten (Flatten)           (None, 1664)              0         \n",
      "                                                                 \n",
      " dense_1 (Dense)             (None, 1)                 1665      \n",
      "                                                                 \n",
      "=================================================================\n",
      "Total params: 35,393\n",
      "Trainable params: 35,137\n",
      "Non-trainable params: 256\n",
      "_________________________________________________________________\n",
      "Epoch 1/3\n",
      "388/438 [=========================>....] - ETA: 6s - g_loss: 5.2625 - d_loss: 0.0795"
     ]
    }
   ],
   "source": [
    "GAN_model = GenAdvNetwork(latent_dim=latent_dim_, batch_size=batch_size_)\n",
    "GAN_model.compile(\n",
    "    generator_opt=tf.keras.optimizers.Adam(learning_rate=0.0001),\n",
    "    discriminator_opt=tf.keras.optimizers.Adam(learning_rate=0.001),\n",
    "    loss_func=tf.keras.losses.BinaryCrossentropy(),\n",
    ")\n",
    "GAN_model.fit(dataset, epochs=epochs_)"
   ]
  },
  {
   "cell_type": "code",
   "execution_count": null,
   "metadata": {},
   "outputs": [],
   "source": []
  }
 ],
 "metadata": {
  "kernelspec": {
   "display_name": "Python 3",
   "language": "python",
   "name": "python3"
  },
  "language_info": {
   "codemirror_mode": {
    "name": "ipython",
    "version": 3
   },
   "file_extension": ".py",
   "mimetype": "text/x-python",
   "name": "python",
   "nbconvert_exporter": "python",
   "pygments_lexer": "ipython3",
   "version": "3.10.6"
  },
  "orig_nbformat": 4,
  "vscode": {
   "interpreter": {
    "hash": "916dbcbb3f70747c44a77c7bcd40155683ae19c65e1c03b4aa3499c5328201f1"
   }
  }
 },
 "nbformat": 4,
 "nbformat_minor": 2
}
