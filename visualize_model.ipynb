{
 "cells": [
  {
   "cell_type": "code",
   "execution_count": 1,
   "metadata": {},
   "outputs": [
    {
     "name": "stderr",
     "output_type": "stream",
     "text": [
      "2023-03-16 15:27:35.825686: I tensorflow/core/platform/cpu_feature_guard.cc:193] This TensorFlow binary is optimized with oneAPI Deep Neural Network Library (oneDNN) to use the following CPU instructions in performance-critical operations:  SSE3 SSE4.1 SSE4.2 AVX AVX2 FMA\n",
      "To enable them in other operations, rebuild TensorFlow with the appropriate compiler flags.\n"
     ]
    }
   ],
   "source": [
    "from gan import load_weight\n",
    "from gan import GenAdvNetwork\n",
    "import tensorflow as tf\n",
    "from utils import random_generator\n",
    "import numpy as np\n",
    "from reformatToXyz import ReformatToXYZ"
   ]
  },
  {
   "cell_type": "code",
   "execution_count": 2,
   "metadata": {},
   "outputs": [
    {
     "name": "stdout",
     "output_type": "stream",
     "text": [
      "Model: \"generator\"\n",
      "_________________________________________________________________\n",
      " Layer (type)                Output Shape              Param #   \n",
      "=================================================================\n",
      " dense (Dense)               (None, 13)                1027      \n",
      "                                                                 \n",
      " leaky_re_lu (LeakyReLU)     (None, 13)                0         \n",
      "                                                                 \n",
      " reshape (Reshape)           (None, 13, 1)             0         \n",
      "                                                                 \n",
      " conv1d_transpose (Conv1DTra  (None, 39, 128)          640       \n",
      " nspose)                                                         \n",
      "                                                                 \n",
      " leaky_re_lu_1 (LeakyReLU)   (None, 39, 128)           0         \n",
      "                                                                 \n",
      " batch_normalization (BatchN  (None, 39, 128)          512       \n",
      " ormalization)                                                   \n",
      "                                                                 \n",
      " conv1d_transpose_1 (Conv1DT  (None, 78, 264)          135432    \n",
      " ranspose)                                                       \n",
      "                                                                 \n",
      " leaky_re_lu_2 (LeakyReLU)   (None, 78, 264)           0         \n",
      "                                                                 \n",
      " batch_normalization_1 (Batc  (None, 78, 264)          1056      \n",
      " hNormalization)                                                 \n",
      "                                                                 \n",
      " conv1d (Conv1D)             (None, 78, 1)             1057      \n",
      "                                                                 \n",
      "=================================================================\n",
      "Total params: 139,724\n",
      "Trainable params: 138,940\n",
      "Non-trainable params: 784\n",
      "_________________________________________________________________\n",
      "Model: \"discriminator\"\n",
      "_________________________________________________________________\n",
      " Layer (type)                Output Shape              Param #   \n",
      "=================================================================\n",
      " conv1d_1 (Conv1D)           (None, 26, 64)            320       \n",
      "                                                                 \n",
      " leaky_re_lu_3 (LeakyReLU)   (None, 26, 64)            0         \n",
      "                                                                 \n",
      " conv1d_2 (Conv1D)           (None, 13, 128)           32896     \n",
      "                                                                 \n",
      " leaky_re_lu_4 (LeakyReLU)   (None, 13, 128)           0         \n",
      "                                                                 \n",
      " batch_normalization_2 (Batc  (None, 13, 128)          512       \n",
      " hNormalization)                                                 \n",
      "                                                                 \n",
      " flatten (Flatten)           (None, 1664)              0         \n",
      "                                                                 \n",
      " dense_1 (Dense)             (None, 1)                 1665      \n",
      "                                                                 \n",
      "=================================================================\n",
      "Total params: 35,393\n",
      "Trainable params: 35,137\n",
      "Non-trainable params: 256\n",
      "_________________________________________________________________\n"
     ]
    },
    {
     "name": "stderr",
     "output_type": "stream",
     "text": [
      "2023-03-16 15:27:38.096494: I tensorflow/compiler/xla/stream_executor/rocm/rocm_gpu_executor.cc:843] successful NUMA node read from SysFS had negative value (-1), but there must be at least one NUMA node, so returning NUMA node zero\n",
      "2023-03-16 15:27:38.096760: I tensorflow/compiler/xla/stream_executor/rocm/rocm_gpu_executor.cc:843] successful NUMA node read from SysFS had negative value (-1), but there must be at least one NUMA node, so returning NUMA node zero\n",
      "2023-03-16 15:27:38.406905: I tensorflow/compiler/xla/stream_executor/rocm/rocm_gpu_executor.cc:843] successful NUMA node read from SysFS had negative value (-1), but there must be at least one NUMA node, so returning NUMA node zero\n",
      "2023-03-16 15:27:38.406961: I tensorflow/compiler/xla/stream_executor/rocm/rocm_gpu_executor.cc:843] successful NUMA node read from SysFS had negative value (-1), but there must be at least one NUMA node, so returning NUMA node zero\n",
      "2023-03-16 15:27:38.406994: I tensorflow/compiler/xla/stream_executor/rocm/rocm_gpu_executor.cc:843] successful NUMA node read from SysFS had negative value (-1), but there must be at least one NUMA node, so returning NUMA node zero\n",
      "2023-03-16 15:27:38.407264: I tensorflow/core/common_runtime/gpu/gpu_device.cc:1990] Ignoring visible gpu device (device: 0, name: AMD Radeon RX 6700S, pci bus id: 0000:03:00.0) with AMDGPU version : gfx1032. The supported AMDGPU versions are gfx1030, gfx900, gfx906, gfx908, gfx90a.\n",
      "2023-03-16 15:27:38.407321: I tensorflow/compiler/xla/stream_executor/rocm/rocm_gpu_executor.cc:843] successful NUMA node read from SysFS had negative value (-1), but there must be at least one NUMA node, so returning NUMA node zero\n",
      "2023-03-16 15:27:38.407332: I tensorflow/core/common_runtime/gpu/gpu_device.cc:1990] Ignoring visible gpu device (device: 1, name: , pci bus id: 0000:07:00.0) with AMDGPU version : gfx1035. The supported AMDGPU versions are gfx1030, gfx900, gfx906, gfx908, gfx90a.\n",
      "2023-03-16 15:27:38.408288: I tensorflow/core/platform/cpu_feature_guard.cc:193] This TensorFlow binary is optimized with oneAPI Deep Neural Network Library (oneDNN) to use the following CPU instructions in performance-critical operations:  SSE3 SSE4.1 SSE4.2 AVX AVX2 FMA\n",
      "To enable them in other operations, rebuild TensorFlow with the appropriate compiler flags.\n",
      "2023-03-16 15:27:38.428406: I tensorflow/core/common_runtime/gpu_fusion_pass.cc:507] ROCm Fusion is enabled.\n",
      "2023-03-16 15:27:38.430960: I tensorflow/core/common_runtime/gpu_fusion_pass.cc:507] ROCm Fusion is enabled.\n",
      "2023-03-16 15:27:38.432279: I tensorflow/core/common_runtime/gpu_fusion_pass.cc:507] ROCm Fusion is enabled.\n",
      "2023-03-16 15:27:38.439242: I tensorflow/core/common_runtime/gpu_fusion_pass.cc:507] ROCm Fusion is enabled.\n",
      "2023-03-16 15:27:38.439697: I tensorflow/core/common_runtime/gpu_fusion_pass.cc:507] ROCm Fusion is enabled.\n",
      "2023-03-16 15:27:38.443521: I tensorflow/core/common_runtime/gpu_fusion_pass.cc:507] ROCm Fusion is enabled.\n",
      "2023-03-16 15:27:38.444510: I tensorflow/core/common_runtime/gpu_fusion_pass.cc:507] ROCm Fusion is enabled.\n",
      "2023-03-16 15:27:38.445456: I tensorflow/core/common_runtime/gpu_fusion_pass.cc:507] ROCm Fusion is enabled.\n",
      "2023-03-16 15:27:38.447565: I tensorflow/core/common_runtime/gpu_fusion_pass.cc:507] ROCm Fusion is enabled.\n",
      "2023-03-16 15:27:38.448990: I tensorflow/core/common_runtime/gpu_fusion_pass.cc:507] ROCm Fusion is enabled.\n",
      "2023-03-16 15:27:38.449493: I tensorflow/core/common_runtime/gpu_fusion_pass.cc:507] ROCm Fusion is enabled.\n",
      "2023-03-16 15:27:38.449994: I tensorflow/core/common_runtime/gpu_fusion_pass.cc:507] ROCm Fusion is enabled.\n",
      "2023-03-16 15:27:38.451459: I tensorflow/core/common_runtime/gpu_fusion_pass.cc:507] ROCm Fusion is enabled.\n",
      "2023-03-16 15:27:38.452479: I tensorflow/core/common_runtime/gpu_fusion_pass.cc:507] ROCm Fusion is enabled.\n",
      "2023-03-16 15:27:38.452954: I tensorflow/core/common_runtime/gpu_fusion_pass.cc:507] ROCm Fusion is enabled.\n",
      "2023-03-16 15:27:38.466348: I tensorflow/core/common_runtime/gpu_fusion_pass.cc:507] ROCm Fusion is enabled.\n",
      "2023-03-16 15:27:38.466992: I tensorflow/core/common_runtime/gpu_fusion_pass.cc:507] ROCm Fusion is enabled.\n",
      "2023-03-16 15:27:38.467848: I tensorflow/core/common_runtime/gpu_fusion_pass.cc:507] ROCm Fusion is enabled.\n",
      "2023-03-16 15:27:38.468265: I tensorflow/core/common_runtime/gpu_fusion_pass.cc:507] ROCm Fusion is enabled.\n",
      "2023-03-16 15:27:38.492344: I tensorflow/core/common_runtime/gpu_fusion_pass.cc:507] ROCm Fusion is enabled.\n",
      "2023-03-16 15:27:38.492884: I tensorflow/core/common_runtime/gpu_fusion_pass.cc:507] ROCm Fusion is enabled.\n",
      "2023-03-16 15:27:38.493632: I tensorflow/core/common_runtime/gpu_fusion_pass.cc:507] ROCm Fusion is enabled.\n",
      "2023-03-16 15:27:38.494042: I tensorflow/core/common_runtime/gpu_fusion_pass.cc:507] ROCm Fusion is enabled.\n",
      "2023-03-16 15:27:38.514106: I tensorflow/core/common_runtime/gpu_fusion_pass.cc:507] ROCm Fusion is enabled.\n",
      "2023-03-16 15:27:38.514596: I tensorflow/core/common_runtime/gpu_fusion_pass.cc:507] ROCm Fusion is enabled.\n",
      "2023-03-16 15:27:38.515375: I tensorflow/core/common_runtime/gpu_fusion_pass.cc:507] ROCm Fusion is enabled.\n",
      "2023-03-16 15:27:38.515907: I tensorflow/core/common_runtime/gpu_fusion_pass.cc:507] ROCm Fusion is enabled.\n",
      "2023-03-16 15:27:38.535685: I tensorflow/core/common_runtime/gpu_fusion_pass.cc:507] ROCm Fusion is enabled.\n",
      "2023-03-16 15:27:38.536220: I tensorflow/core/common_runtime/gpu_fusion_pass.cc:507] ROCm Fusion is enabled.\n",
      "2023-03-16 15:27:38.537003: I tensorflow/core/common_runtime/gpu_fusion_pass.cc:507] ROCm Fusion is enabled.\n",
      "2023-03-16 15:27:38.537482: I tensorflow/core/common_runtime/gpu_fusion_pass.cc:507] ROCm Fusion is enabled.\n",
      "2023-03-16 15:27:38.547899: I tensorflow/core/common_runtime/gpu_fusion_pass.cc:507] ROCm Fusion is enabled.\n",
      "2023-03-16 15:27:38.548502: I tensorflow/core/common_runtime/gpu_fusion_pass.cc:507] ROCm Fusion is enabled.\n",
      "2023-03-16 15:27:38.567281: I tensorflow/core/common_runtime/gpu_fusion_pass.cc:507] ROCm Fusion is enabled.\n",
      "2023-03-16 15:27:38.568084: I tensorflow/core/common_runtime/gpu_fusion_pass.cc:507] ROCm Fusion is enabled.\n",
      "2023-03-16 15:27:38.585372: I tensorflow/core/common_runtime/gpu_fusion_pass.cc:507] ROCm Fusion is enabled.\n",
      "2023-03-16 15:27:38.586158: I tensorflow/core/common_runtime/gpu_fusion_pass.cc:507] ROCm Fusion is enabled.\n",
      "2023-03-16 15:27:38.596940: I tensorflow/core/common_runtime/gpu_fusion_pass.cc:507] ROCm Fusion is enabled.\n",
      "2023-03-16 15:27:38.597746: I tensorflow/core/common_runtime/gpu_fusion_pass.cc:507] ROCm Fusion is enabled.\n",
      "2023-03-16 15:27:38.598901: I tensorflow/core/common_runtime/gpu_fusion_pass.cc:507] ROCm Fusion is enabled.\n",
      "2023-03-16 15:27:38.599532: I tensorflow/core/common_runtime/gpu_fusion_pass.cc:507] ROCm Fusion is enabled.\n",
      "2023-03-16 15:27:38.600129: I tensorflow/core/common_runtime/gpu_fusion_pass.cc:507] ROCm Fusion is enabled.\n",
      "2023-03-16 15:27:38.602524: I tensorflow/core/common_runtime/gpu_fusion_pass.cc:507] ROCm Fusion is enabled.\n",
      "2023-03-16 15:27:38.603187: I tensorflow/core/common_runtime/gpu_fusion_pass.cc:507] ROCm Fusion is enabled.\n",
      "2023-03-16 15:27:38.605696: I tensorflow/core/common_runtime/gpu_fusion_pass.cc:507] ROCm Fusion is enabled.\n",
      "2023-03-16 15:27:38.607239: I tensorflow/core/common_runtime/gpu_fusion_pass.cc:507] ROCm Fusion is enabled.\n",
      "2023-03-16 15:27:38.608186: I tensorflow/core/common_runtime/gpu_fusion_pass.cc:507] ROCm Fusion is enabled.\n",
      "2023-03-16 15:27:38.609720: I tensorflow/core/common_runtime/gpu_fusion_pass.cc:507] ROCm Fusion is enabled.\n",
      "2023-03-16 15:27:38.610556: I tensorflow/core/common_runtime/gpu_fusion_pass.cc:507] ROCm Fusion is enabled.\n",
      "2023-03-16 15:27:38.611828: I tensorflow/core/common_runtime/gpu_fusion_pass.cc:507] ROCm Fusion is enabled.\n",
      "2023-03-16 15:27:38.612531: I tensorflow/core/common_runtime/gpu_fusion_pass.cc:507] ROCm Fusion is enabled.\n",
      "2023-03-16 15:27:38.613198: I tensorflow/core/common_runtime/gpu_fusion_pass.cc:507] ROCm Fusion is enabled.\n",
      "2023-03-16 15:27:38.613969: I tensorflow/core/common_runtime/gpu_fusion_pass.cc:507] ROCm Fusion is enabled.\n",
      "2023-03-16 15:27:38.614589: I tensorflow/core/common_runtime/gpu_fusion_pass.cc:507] ROCm Fusion is enabled.\n",
      "2023-03-16 15:27:38.615267: I tensorflow/core/common_runtime/gpu_fusion_pass.cc:507] ROCm Fusion is enabled.\n",
      "2023-03-16 15:27:38.615836: I tensorflow/core/common_runtime/gpu_fusion_pass.cc:507] ROCm Fusion is enabled.\n",
      "2023-03-16 15:27:38.618584: I tensorflow/core/common_runtime/gpu_fusion_pass.cc:507] ROCm Fusion is enabled.\n",
      "2023-03-16 15:27:38.619238: I tensorflow/core/common_runtime/gpu_fusion_pass.cc:507] ROCm Fusion is enabled.\n",
      "2023-03-16 15:27:38.620297: I tensorflow/core/common_runtime/gpu_fusion_pass.cc:507] ROCm Fusion is enabled.\n",
      "2023-03-16 15:27:38.623146: I tensorflow/core/common_runtime/gpu_fusion_pass.cc:507] ROCm Fusion is enabled.\n",
      "2023-03-16 15:27:38.624738: I tensorflow/core/common_runtime/gpu_fusion_pass.cc:507] ROCm Fusion is enabled.\n",
      "2023-03-16 15:27:38.627111: I tensorflow/core/common_runtime/gpu_fusion_pass.cc:507] ROCm Fusion is enabled.\n",
      "2023-03-16 15:27:38.628925: I tensorflow/core/common_runtime/gpu_fusion_pass.cc:507] ROCm Fusion is enabled.\n",
      "2023-03-16 15:27:38.629447: I tensorflow/core/common_runtime/gpu_fusion_pass.cc:507] ROCm Fusion is enabled.\n",
      "2023-03-16 15:27:38.632668: I tensorflow/core/common_runtime/gpu_fusion_pass.cc:507] ROCm Fusion is enabled.\n",
      "2023-03-16 15:27:38.633520: I tensorflow/core/common_runtime/gpu_fusion_pass.cc:507] ROCm Fusion is enabled.\n",
      "2023-03-16 15:27:38.634051: I tensorflow/core/common_runtime/gpu_fusion_pass.cc:507] ROCm Fusion is enabled.\n",
      "2023-03-16 15:27:38.641978: I tensorflow/core/common_runtime/gpu_fusion_pass.cc:507] ROCm Fusion is enabled.\n",
      "2023-03-16 15:27:38.645703: I tensorflow/core/common_runtime/gpu_fusion_pass.cc:507] ROCm Fusion is enabled.\n",
      "2023-03-16 15:27:38.646509: I tensorflow/core/common_runtime/gpu_fusion_pass.cc:507] ROCm Fusion is enabled.\n"
     ]
    },
    {
     "data": {
      "text/plain": [
       "<tensorflow.python.checkpoint.checkpoint.CheckpointLoadStatus at 0x7fc3cd5c9f30>"
      ]
     },
     "execution_count": 2,
     "metadata": {},
     "output_type": "execute_result"
    }
   ],
   "source": [
    "latent_dim_ = 78\n",
    "batch_size_ = 32\n",
    "weights_path = \"/home/panthibivek/thesis/GAN_pkg/runs/train/exp2/weights/\"\n",
    "# GanModel = load_weight(filepath)\n",
    "GanModel = GenAdvNetwork(latent_dim=latent_dim_, batch_size=batch_size_)\n",
    "GanModel.compile(\n",
    "    generator_opt=tf.keras.optimizers.Adam(learning_rate=0.001),\n",
    "    discriminator_opt=tf.keras.optimizers.Adam(learning_rate=0.001),\n",
    "    disc_loss=tf.keras.losses.BinaryCrossentropy(),\n",
    "    gen_loss=tf.keras.losses.MAE\n",
    ")\n",
    "\n",
    "random_data = random_generator((1, latent_dim_))\n",
    "\n",
    "GanModel.generator(random_data)\n",
    "GanModel.load_weights(weights_path)"
   ]
  },
  {
   "cell_type": "code",
   "execution_count": 3,
   "metadata": {},
   "outputs": [
    {
     "name": "stdout",
     "output_type": "stream",
     "text": [
      "[[3.72619438e+01 2.53280964e+01 2.34731941e+01 1.46090317e+01\n",
      "  1.42044687e+01 1.41772070e+01 2.24084640e+00 2.25253701e+00\n",
      "  1.83901918e+00 2.32668066e+00 1.54101479e+00 1.63657355e+00]\n",
      " [2.53280964e+01 3.69334145e+01 1.53396444e+01 1.54712009e+01\n",
      "  1.39297981e+01 1.47470045e+01 2.33404684e+00 2.45042586e+00\n",
      "  1.97818398e+00 1.79490054e+00 1.45476508e+00 1.61187267e+00]\n",
      " [2.34731941e+01 1.53396444e+01 3.67490845e+01 1.41926222e+01\n",
      "  1.53360453e+01 1.44517908e+01 2.01758838e+00 2.29639721e+00\n",
      "  2.22969818e+00 1.96085024e+00 1.76290405e+00 1.61799359e+00]\n",
      " [1.46090317e+01 1.54712009e+01 1.41926222e+01 3.59825974e+01\n",
      "  1.44615946e+01 2.17590790e+01 1.77816379e+00 1.78084183e+00\n",
      "  2.50944614e+00 1.83548307e+00 1.65133548e+00 2.15760946e+00]\n",
      " [1.42044687e+01 1.39297981e+01 1.53360453e+01 1.44615946e+01\n",
      "  3.68686676e+01 2.50285282e+01 1.71721673e+00 1.74650955e+00\n",
      "  2.37265658e+00 1.96546137e+00 2.00539541e+00 2.16294742e+00]\n",
      " [1.41772070e+01 1.47470045e+01 1.44517908e+01 2.17590790e+01\n",
      "  2.50285282e+01 3.67763443e+01 1.56955755e+00 1.72926235e+00\n",
      "  2.46769047e+00 2.05704117e+00 1.53615117e+00 2.24743605e+00]\n",
      " [2.24084640e+00 2.33404684e+00 2.01758838e+00 1.77816379e+00\n",
      "  1.71721673e+00 1.56955755e+00 3.98386419e-01 2.40712464e-01\n",
      "  2.51062423e-01 2.05882996e-01 3.55777115e-01 2.05770001e-01]\n",
      " [2.25253701e+00 2.45042586e+00 2.29639721e+00 1.78084183e+00\n",
      "  1.74650955e+00 1.72926235e+00 2.40712464e-01 3.94562602e-01\n",
      "  2.08119273e-01 1.73119515e-01 2.41101623e-01 1.86224520e-01]\n",
      " [1.83901918e+00 1.97818398e+00 2.22969818e+00 2.50944614e+00\n",
      "  2.37265658e+00 2.46769047e+00 2.51062423e-01 2.08119273e-01\n",
      "  3.19376945e-01 2.82520890e-01 3.33490431e-01 2.54990697e-01]\n",
      " [2.32668066e+00 1.79490054e+00 1.96085024e+00 1.83548307e+00\n",
      "  1.96546137e+00 2.05704117e+00 2.05882996e-01 1.73119515e-01\n",
      "  2.82520890e-01 3.58600587e-01 1.26157999e-01 2.80797440e-06]\n",
      " [1.54101479e+00 1.45476508e+00 1.76290405e+00 1.65133548e+00\n",
      "  2.00539541e+00 1.53615117e+00 3.55777115e-01 2.41101623e-01\n",
      "  3.33490431e-01 1.26157999e-01 3.53360593e-01 1.42519926e-10]\n",
      " [1.63657355e+00 1.61187267e+00 1.61799359e+00 2.15760946e+00\n",
      "  2.16294742e+00 2.24743605e+00 2.05770001e-01 1.86224520e-01\n",
      "  2.54990697e-01 2.80797440e-06 1.42519926e-10 1.51121549e-06]]\n"
     ]
    },
    {
     "data": {
      "text/plain": [
       "<reformatToXyz.ReformatToXYZ at 0x7fc3d06d3340>"
      ]
     },
     "execution_count": 3,
     "metadata": {},
     "output_type": "execute_result"
    }
   ],
   "source": [
    "generated_output = GanModel.generator(random_data)\n",
    "arr = generated_output.numpy()\n",
    "ReformatToXYZ(arr)"
   ]
  },
  {
   "cell_type": "code",
   "execution_count": null,
   "metadata": {},
   "outputs": [],
   "source": []
  }
 ],
 "metadata": {
  "kernelspec": {
   "display_name": "Python 3",
   "language": "python",
   "name": "python3"
  },
  "language_info": {
   "codemirror_mode": {
    "name": "ipython",
    "version": 3
   },
   "file_extension": ".py",
   "mimetype": "text/x-python",
   "name": "python",
   "nbconvert_exporter": "python",
   "pygments_lexer": "ipython3",
   "version": "3.10.6"
  },
  "orig_nbformat": 4
 },
 "nbformat": 4,
 "nbformat_minor": 2
}
