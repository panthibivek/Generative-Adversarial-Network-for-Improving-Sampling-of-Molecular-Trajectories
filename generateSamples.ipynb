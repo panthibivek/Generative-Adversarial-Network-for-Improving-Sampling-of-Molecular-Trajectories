{
 "cells": [
  {
   "cell_type": "code",
   "execution_count": 1,
   "metadata": {},
   "outputs": [],
   "source": [
    "from generatexyz import Generatexyz\n",
    "import numpy as np"
   ]
  },
  {
   "cell_type": "code",
   "execution_count": 2,
   "metadata": {},
   "outputs": [],
   "source": [
    "benzene_xyz = [0.000000000000000000e+00,1.397000000000000020e+00,0.000000000000000000e+00,1.209799999999999986e+00,6.985000000000000098e-01,0.000000000000000000e+00,1.209799999999999986e+00,-6.985000000000000098e-01,0.000000000000000000e+00,0.000000000000000000e+00,-1.397000000000000020e+00,0.000000000000000000e+00,-1.209799999999999986e+00,-6.985000000000000098e-01,0.000000000000000000e+00,-1.209799999999999986e+00,6.985000000000000098e-01,0.000000000000000000e+00,0.000000000000000000e+00,2.480999999999999872e+00,0.000000000000000000e+00,2.148600000000000065e+00,1.240499999999999936e+00,0.000000000000000000e+00,2.148600000000000065e+00,-1.240499999999999936e+00,0.000000000000000000e+00,0.000000000000000000e+00,-2.480999999999999872e+00,0.000000000000000000e+00,-2.148600000000000065e+00,-1.240499999999999936e+00,0.000000000000000000e+00,-2.148600000000000065e+00,1.240499999999999936e+00,0.000000000000000000e+00]\n",
    "benzene_xyz = np.array(benzene_xyz)\n",
    "gen_obj = Generatexyz(20, 10, 12)\n",
    "gen_obj.generate_samples(benzene_xyz)\n",
    "gen_obj.sorting_by_coulomb_matrix()"
   ]
  }
 ],
 "metadata": {
  "kernelspec": {
   "display_name": "Python 3",
   "language": "python",
   "name": "python3"
  },
  "language_info": {
   "codemirror_mode": {
    "name": "ipython",
    "version": 3
   },
   "file_extension": ".py",
   "mimetype": "text/x-python",
   "name": "python",
   "nbconvert_exporter": "python",
   "pygments_lexer": "ipython3",
   "version": "3.10.6"
  },
  "orig_nbformat": 4
 },
 "nbformat": 4,
 "nbformat_minor": 2
}
