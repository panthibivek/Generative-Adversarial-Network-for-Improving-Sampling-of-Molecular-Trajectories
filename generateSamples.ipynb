{
 "cells": [
  {
   "cell_type": "markdown",
   "metadata": {},
   "source": [
    "# Mapping 1D representation of a Coulomb Matrix to XYZ coordinates using Bayesian Optimization"
   ]
  },
  {
   "cell_type": "code",
   "execution_count": null,
   "metadata": {},
   "outputs": [],
   "source": [
    "from generatexyz import Generatexyz\n",
    "import numpy as np\n",
    "from gan import load_weight\n",
    "from gan import GenAdvNetwork\n",
    "import tensorflow as tf\n",
    "from utils import random_generator\n",
    "from reformatToXyz import format_xyz_samples\n",
    "import os\n",
    "import pathlib\n",
    "from reformatToXyz import MapCoulomb1dToXYZ\n",
    "from formatData import loadData\n",
    "from sklearn.model_selection import train_test_split\n",
    "from coulombToTraj import getFlattenedXyz"
   ]
  },
  {
   "cell_type": "markdown",
   "metadata": {},
   "source": [
    "### Generating the Sample Space"
   ]
  },
  {
   "cell_type": "code",
   "execution_count": 2,
   "metadata": {},
   "outputs": [],
   "source": [
    "# benzene_xyz = [0.000000000000000000e+00,1.397000000000000020e+00,0.000000000000000000e+00,\n",
    "#                1.209799999999999986e+00,6.985000000000000098e-01,0.000000000000000000e+00,\n",
    "#                1.209799999999999986e+00,-6.985000000000000098e-01,0.000000000000000000e+00,\n",
    "#                0.000000000000000000e+00,-1.397000000000000020e+00,0.000000000000000000e+00,\n",
    "#                -1.209799999999999986e+00,-6.985000000000000098e-01,0.000000000000000000e+00,\n",
    "#                -1.209799999999999986e+00,6.985000000000000098e-01,0.000000000000000000e+00,\n",
    "#                0.000000000000000000e+00,2.480999999999999872e+00,0.000000000000000000e+00,\n",
    "#                2.148600000000000065e+00,1.240499999999999936e+00,0.000000000000000000e+00,\n",
    "#                2.148600000000000065e+00,-1.240499999999999936e+00,0.000000000000000000e+00,\n",
    "#                0.000000000000000000e+00,-2.480999999999999872e+00,0.000000000000000000e+00,\n",
    "#                -2.148600000000000065e+00,-1.240499999999999936e+00,0.000000000000000000e+00,\n",
    "#                -2.148600000000000065e+00,1.240499999999999936e+00,0.000000000000000000e+00]\n",
    "# benzene_xyz = np.array(benzene_xyz)\n",
    "# gen_obj = Generatexyz(1000000, 1000, 12)\n",
    "# gen_obj.generate_samples(benzene_xyz)\n",
    "# gen_obj.sorting_by_coulomb_matrix()"
   ]
  },
  {
   "cell_type": "markdown",
   "metadata": {},
   "source": [
    "### Using GAN to generate 1D Coulomb Matrix Representation"
   ]
  },
  {
   "cell_type": "code",
   "execution_count": 4,
   "metadata": {},
   "outputs": [
    {
     "name": "stdout",
     "output_type": "stream",
     "text": [
      "Model: \"generator\"\n",
      "_________________________________________________________________\n",
      " Layer (type)                Output Shape              Param #   \n",
      "=================================================================\n",
      " dense_2 (Dense)             (None, 13)                1027      \n",
      "                                                                 \n",
      " leaky_re_lu_5 (LeakyReLU)   (None, 13)                0         \n",
      "                                                                 \n",
      " reshape_1 (Reshape)         (None, 13, 1)             0         \n",
      "                                                                 \n",
      " conv1d_transpose_2 (Conv1DT  (None, 39, 128)          640       \n",
      " ranspose)                                                       \n",
      "                                                                 \n",
      " leaky_re_lu_6 (LeakyReLU)   (None, 39, 128)           0         \n",
      "                                                                 \n",
      " batch_normalization_3 (Batc  (None, 39, 128)          512       \n",
      " hNormalization)                                                 \n",
      "                                                                 \n",
      " conv1d_transpose_3 (Conv1DT  (None, 78, 264)          135432    \n",
      " ranspose)                                                       \n",
      "                                                                 \n",
      " leaky_re_lu_7 (LeakyReLU)   (None, 78, 264)           0         \n",
      "                                                                 \n",
      " batch_normalization_4 (Batc  (None, 78, 264)          1056      \n",
      " hNormalization)                                                 \n",
      "                                                                 \n",
      " conv1d_3 (Conv1D)           (None, 78, 1)             1057      \n",
      "                                                                 \n",
      "=================================================================\n",
      "Total params: 139,724\n",
      "Trainable params: 138,940\n",
      "Non-trainable params: 784\n",
      "_________________________________________________________________\n",
      "Model: \"discriminator\"\n",
      "_________________________________________________________________\n",
      " Layer (type)                Output Shape              Param #   \n",
      "=================================================================\n",
      " conv1d_4 (Conv1D)           (None, 26, 64)            320       \n",
      "                                                                 \n",
      " leaky_re_lu_8 (LeakyReLU)   (None, 26, 64)            0         \n",
      "                                                                 \n",
      " conv1d_5 (Conv1D)           (None, 13, 128)           32896     \n",
      "                                                                 \n",
      " leaky_re_lu_9 (LeakyReLU)   (None, 13, 128)           0         \n",
      "                                                                 \n",
      " batch_normalization_5 (Batc  (None, 13, 128)          512       \n",
      " hNormalization)                                                 \n",
      "                                                                 \n",
      " flatten_1 (Flatten)         (None, 1664)              0         \n",
      "                                                                 \n",
      " dense_3 (Dense)             (None, 1)                 1665      \n",
      "                                                                 \n",
      "=================================================================\n",
      "Total params: 35,393\n",
      "Trainable params: 35,137\n",
      "Non-trainable params: 256\n",
      "_________________________________________________________________\n",
      "WARNING:tensorflow:Detecting that an object or model or tf.train.Checkpoint is being deleted with unrestored values. See the following logs for the specific values in question. To silence these warnings, use `status.expect_partial()`. See https://www.tensorflow.org/api_docs/python/tf/train/Checkpoint#restorefor details about the status object returned by the restore function.\n",
      "WARNING:tensorflow:Value in checkpoint could not be found in the restored object: (root).g_optimizer._variables.1\n",
      "WARNING:tensorflow:Value in checkpoint could not be found in the restored object: (root).g_optimizer._variables.2\n",
      "WARNING:tensorflow:Value in checkpoint could not be found in the restored object: (root).g_optimizer._variables.3\n",
      "WARNING:tensorflow:Value in checkpoint could not be found in the restored object: (root).g_optimizer._variables.4\n",
      "WARNING:tensorflow:Value in checkpoint could not be found in the restored object: (root).g_optimizer._variables.5\n",
      "WARNING:tensorflow:Value in checkpoint could not be found in the restored object: (root).g_optimizer._variables.6\n",
      "WARNING:tensorflow:Value in checkpoint could not be found in the restored object: (root).g_optimizer._variables.7\n",
      "WARNING:tensorflow:Value in checkpoint could not be found in the restored object: (root).g_optimizer._variables.8\n",
      "WARNING:tensorflow:Value in checkpoint could not be found in the restored object: (root).g_optimizer._variables.9\n",
      "WARNING:tensorflow:Value in checkpoint could not be found in the restored object: (root).g_optimizer._variables.10\n",
      "WARNING:tensorflow:Value in checkpoint could not be found in the restored object: (root).g_optimizer._variables.11\n",
      "WARNING:tensorflow:Value in checkpoint could not be found in the restored object: (root).g_optimizer._variables.12\n",
      "WARNING:tensorflow:Value in checkpoint could not be found in the restored object: (root).g_optimizer._variables.13\n",
      "WARNING:tensorflow:Value in checkpoint could not be found in the restored object: (root).g_optimizer._variables.14\n",
      "WARNING:tensorflow:Value in checkpoint could not be found in the restored object: (root).g_optimizer._variables.15\n",
      "WARNING:tensorflow:Value in checkpoint could not be found in the restored object: (root).g_optimizer._variables.16\n",
      "WARNING:tensorflow:Value in checkpoint could not be found in the restored object: (root).g_optimizer._variables.17\n",
      "WARNING:tensorflow:Value in checkpoint could not be found in the restored object: (root).g_optimizer._variables.18\n",
      "WARNING:tensorflow:Value in checkpoint could not be found in the restored object: (root).g_optimizer._variables.19\n",
      "WARNING:tensorflow:Value in checkpoint could not be found in the restored object: (root).g_optimizer._variables.20\n",
      "WARNING:tensorflow:Value in checkpoint could not be found in the restored object: (root).g_optimizer._variables.21\n",
      "WARNING:tensorflow:Value in checkpoint could not be found in the restored object: (root).g_optimizer._variables.22\n",
      "WARNING:tensorflow:Value in checkpoint could not be found in the restored object: (root).g_optimizer._variables.23\n",
      "WARNING:tensorflow:Value in checkpoint could not be found in the restored object: (root).g_optimizer._variables.24\n",
      "WARNING:tensorflow:Value in checkpoint could not be found in the restored object: (root).d_optimizer._variables.1\n",
      "WARNING:tensorflow:Value in checkpoint could not be found in the restored object: (root).d_optimizer._variables.2\n",
      "WARNING:tensorflow:Value in checkpoint could not be found in the restored object: (root).d_optimizer._variables.3\n",
      "WARNING:tensorflow:Value in checkpoint could not be found in the restored object: (root).d_optimizer._variables.4\n",
      "WARNING:tensorflow:Value in checkpoint could not be found in the restored object: (root).d_optimizer._variables.5\n",
      "WARNING:tensorflow:Value in checkpoint could not be found in the restored object: (root).d_optimizer._variables.6\n",
      "WARNING:tensorflow:Value in checkpoint could not be found in the restored object: (root).d_optimizer._variables.7\n",
      "WARNING:tensorflow:Value in checkpoint could not be found in the restored object: (root).d_optimizer._variables.8\n",
      "WARNING:tensorflow:Value in checkpoint could not be found in the restored object: (root).d_optimizer._variables.9\n",
      "WARNING:tensorflow:Value in checkpoint could not be found in the restored object: (root).d_optimizer._variables.10\n",
      "WARNING:tensorflow:Value in checkpoint could not be found in the restored object: (root).d_optimizer._variables.11\n",
      "WARNING:tensorflow:Value in checkpoint could not be found in the restored object: (root).d_optimizer._variables.12\n",
      "WARNING:tensorflow:Value in checkpoint could not be found in the restored object: (root).d_optimizer._variables.13\n",
      "WARNING:tensorflow:Value in checkpoint could not be found in the restored object: (root).d_optimizer._variables.14\n",
      "WARNING:tensorflow:Value in checkpoint could not be found in the restored object: (root).d_optimizer._variables.15\n",
      "WARNING:tensorflow:Value in checkpoint could not be found in the restored object: (root).d_optimizer._variables.16\n"
     ]
    }
   ],
   "source": [
    "latent_dim_ = 78\n",
    "batch_size_ = 32\n",
    "weights_path = \"/home/panthibivek/thesis/GAN_pkg/runs/train/exp2/weights/\"\n",
    "GanModel = GenAdvNetwork(latent_dim=latent_dim_, batch_size=batch_size_)\n",
    "GanModel.compile(\n",
    "    generator_opt=tf.keras.optimizers.Adam(learning_rate=0.001),\n",
    "    discriminator_opt=tf.keras.optimizers.Adam(learning_rate=0.001),\n",
    "    disc_loss=tf.keras.losses.BinaryCrossentropy(),\n",
    "    gen_loss=tf.keras.losses.MAE\n",
    ")\n",
    "\n",
    "random_data = random_generator((1000, latent_dim_))\n",
    "\n",
    "GanModel.generator(random_data)\n",
    "GanModel.load_weights(weights_path) \n",
    "generated_output = GanModel.generator(random_data)\n",
    "arr = generated_output.numpy()\n",
    "arr_new = arr.reshape((1000,78))"
   ]
  },
  {
   "attachments": {},
   "cell_type": "markdown",
   "metadata": {},
   "source": [
    "### Using KDTree to find the closest xyz corordiants in the Sample Space\n",
    "#### Time Complexity:\n",
    "For generating KDtree : O(N log(N)) <br>\n",
    "For finding each sample : O(log(N)) <br> <br>\n",
    "Note: The defination of class MapCoulomb1dToXYZ is in reformatTOXyz.py"
   ]
  },
  {
   "cell_type": "code",
   "execution_count": 5,
   "metadata": {},
   "outputs": [],
   "source": [
    "parent_dir_coulomb1D_to_xyz = pathlib.Path(os.path.abspath(os.path.dirname('__file__')) + \"/data/MoleculesMappedFromSampleSpace\")\n",
    "parent_dir_coulomb1D_to_xyz.mkdir(parents=True, exist_ok=True)\n",
    "\n",
    "mapping_obj = MapCoulomb1dToXYZ(abs_path_xyz_dirname=str(parent_dir_coulomb1D_to_xyz), \n",
    "                                sorted_xyz_file=\"/home/panthibivek/thesis/GAN_pkg/data/exp/totalSortedTraj.txt\", \n",
    "                                sorted_coulomb1D_file=\"/home/panthibivek/thesis/GAN_pkg/data/exp/totalSortedCoulomb1D.txt\")\n",
    "get_xyz_small_batch = mapping_obj.generateXYZ(coulomb1D_arr=arr_new)"
   ]
  }
 ],
 "metadata": {
  "kernelspec": {
   "display_name": "Python 3",
   "language": "python",
   "name": "python3"
  },
  "language_info": {
   "codemirror_mode": {
    "name": "ipython",
    "version": 3
   },
   "file_extension": ".py",
   "mimetype": "text/x-python",
   "name": "python",
   "nbconvert_exporter": "python",
   "pygments_lexer": "ipython3",
   "version": "3.10.6"
  },
  "orig_nbformat": 4,
  "vscode": {
   "interpreter": {
    "hash": "916dbcbb3f70747c44a77c7bcd40155683ae19c65e1c03b4aa3499c5328201f1"
   }
  }
 },
 "nbformat": 4,
 "nbformat_minor": 2
}
