{
 "cells": [
  {
   "attachments": {},
   "cell_type": "markdown",
   "metadata": {},
   "source": [
    "# Mapping 1D representation of a Coulomb Matrix to XYZ coordinates using KD Tree algorithm"
   ]
  },
  {
   "cell_type": "code",
   "execution_count": 1,
   "metadata": {},
   "outputs": [
    {
     "name": "stderr",
     "output_type": "stream",
     "text": [
      "2023-05-07 15:02:49.320271: I tensorflow/core/platform/cpu_feature_guard.cc:193] This TensorFlow binary is optimized with oneAPI Deep Neural Network Library (oneDNN) to use the following CPU instructions in performance-critical operations:  SSE3 SSE4.1 SSE4.2 AVX AVX2 FMA\n",
      "To enable them in other operations, rebuild TensorFlow with the appropriate compiler flags.\n"
     ]
    }
   ],
   "source": [
    "from generatexyz import Generatexyz\n",
    "import numpy as np\n",
    "from gan import load_weight\n",
    "from gan import GenAdvNetwork\n",
    "import tensorflow as tf\n",
    "from utils import random_generator\n",
    "from reformatToXyz import format_xyz_samples\n",
    "import os\n",
    "import pathlib\n",
    "from reformatToXyz import MapCoulomb1dToXYZ\n",
    "from formatData import loadData\n",
    "from sklearn.model_selection import train_test_split\n",
    "from coulombToTraj import getFlattenedXyz\n",
    "import json"
   ]
  },
  {
   "attachments": {},
   "cell_type": "markdown",
   "metadata": {},
   "source": [
    "### Generating the Sample Space"
   ]
  },
  {
   "cell_type": "code",
   "execution_count": 2,
   "metadata": {},
   "outputs": [],
   "source": [
    "# benzene_xyz1 = [-0.17145689,  1.62329681, -0.14969309,  1.0532756,   0.74271863, -0.21060008,\n",
    "#                   1.25035631, -0.82542328,  0.18999058,  0.14934203, -1.41046102,  0.07804137,\n",
    "#                  -1.1217173,  -0.94694526,  0.05950565, -1.18889527,  0.65853499, -0.04727168,\n",
    "#                  -0.15371834,  2.62676478,  0.08424257,  2.30316207,  1.16935347,  0.112503,\n",
    "#                   2.1246294,  -1.19516863,  0.10442406,  0.01927036, -2.48296332, -0.05464662,\n",
    "#                  -2.17524543, -1.20036269, -0.07587276, -2.3865359,   1.29179936,  0.07267016]\n",
    "\n",
    "# # benzene_xyz1 = [-7.709999999999999840e-04,1.397329999999999961e+00,-4.369999999999999970e-04,\n",
    "# #                1.209629999999999983e+00,6.984810000000000185e-01,3.699999999999999947e-04,\n",
    "# #                1.209920000000000107e+00,-6.979300000000000503e-01,-2.930000000000000204e-04,\n",
    "# #                -1.159000000000000091e-03,-1.396020000000000039e+00,-9.120000000000000502e-04,\n",
    "# #                -1.209799999999999986e+00,-6.975620000000000154e-01,-1.179999999999999951e-04,\n",
    "# #                -1.209910000000000041e+00,6.974920000000000009e-01,7.039999999999999817e-04,\n",
    "# #                4.121999999999999796e-03,2.482200000000000184e+00,2.606999999999999942e-03,\n",
    "# #                2.150770000000000071e+00,1.239430000000000032e+00,2.688999999999999984e-03,\n",
    "# #                2.150990000000000180e+00,-1.241689999999999960e+00,-5.223000000000000212e-03,\n",
    "# #                -1.544999999999999932e-03,-2.478429999999999911e+00,-5.577000000000000360e-03,\n",
    "# #                -2.147580000000000044e+00,-1.239800000000000013e+00,-3.677000000000000147e-03,\n",
    "# #                -2.152169999999999916e+00,1.239570000000000061e+00,-1.472000000000000001e-03]\n",
    "# benzene_xyz1 = np.array(benzene_xyz1)\n",
    "# gen_obj = Generatexyz(500000, 1000, 12)\n",
    "# gen_obj.generate_samples(benzene_xyz1)\n",
    "\n",
    "# with open(os.path.abspath(os.path.dirname('__file__')) + \"/data/exp/cacheData.json\", 'r') as openfile:\n",
    "#     json_obj = json.load(openfile)\n",
    "# json_obj[\"currentBatch\"] = 0\n",
    "# with open(os.path.abspath(os.path.dirname('__file__')) + \"/data/exp/cacheData.json\", 'w') as openfile:\n",
    "#     json.dump(json_obj, openfile)  \n",
    "\n",
    "# benzene_xyz2 = [129.57232951, 128.37783675, 130.41706718, \n",
    "#                 129.15831316, 128.05932579, 129.1571882,  \n",
    "#                 128.70587219, 129.06570857, 128.19918477, \n",
    "#                 129.14619152, 130.3506034,  128.37733883, \n",
    "#                 129.77042979, 130.67035691, 129.52863719,\n",
    "#                 129.89559146, 129.7180876,  130.54515808, \n",
    "#                 129.63946212, 127.78174293, 131.29582627, \n",
    "#                 128.76698797, 127.05313918, 128.88230508, \n",
    "#                 128.38464609, 128.67412533, 127.18115179, \n",
    "#                 129.11318419, 130.98525282, 127.60574842, \n",
    "#                 130.08501537, 131.67039621, 129.71341141, \n",
    "#                 130.46258637, 130.1117458, 131.38306266]\n",
    "# benzene_xyz2 = np.array(benzene_xyz2)\n",
    "# gen_obj.generate_samples(benzene_xyz2)\n",
    "\n",
    "# # with open(os.path.abspath(os.path.dirname('__file__')) + \"/data/exp/cacheData.json\", 'r') as openfile:\n",
    "# #     json_obj = json.load(openfile)\n",
    "# # json_obj[\"currentBatch\"] = 0\n",
    "# # with open(os.path.abspath(os.path.dirname('__file__')) + \"/data/exp/cacheData.json\", 'w') as openfile:\n",
    "# #     json.dump(json_obj, openfile) \n",
    "\n",
    "# # benzene_xyz3 = [113.830002,115.110008,113.190002,\n",
    "# #                 112.890007,114.090004,113.150009,\n",
    "# #                 113.090012,112.949997,113.930008,\n",
    "# #                 114.170006,112.850006,114.770004,\n",
    "# #                 115.070007,113.890007,114.880005,\n",
    "# #                 114.910004,115.040009,114.059998,\n",
    "# #                 113.690002,115.950005,112.520004,\n",
    "# #                 112.010002,114.220009,112.529999,\n",
    "# #                 112.360001,112.150002,113.930008,\n",
    "# #                 114.380005,111.959999,115.350006,\n",
    "# #                 115.880005,113.919998,115.610008,\n",
    "# #                 115.580002,115.890007,114.170006]                \n",
    "# # benzene_xyz3 = np.array(benzene_xyz3)\n",
    "# # gen_obj.generate_samples(benzene_xyz3)\n",
    "# gen_obj.sorting_by_coulomb_matrix()"
   ]
  },
  {
   "attachments": {},
   "cell_type": "markdown",
   "metadata": {},
   "source": [
    "### Using GAN to generate 1D Coulomb Matrix Representation"
   ]
  },
  {
   "cell_type": "code",
   "execution_count": 3,
   "metadata": {},
   "outputs": [
    {
     "name": "stdout",
     "output_type": "stream",
     "text": [
      "Model: \"generator\"\n",
      "_________________________________________________________________\n",
      " Layer (type)                Output Shape              Param #   \n",
      "=================================================================\n",
      " dense (Dense)               (None, 13)                429       \n",
      "                                                                 \n",
      " leaky_re_lu (LeakyReLU)     (None, 13)                0         \n",
      "                                                                 \n",
      " reshape (Reshape)           (None, 13, 1)             0         \n",
      "                                                                 \n",
      " conv1d_transpose (Conv1DTra  (None, 39, 128)          640       \n",
      " nspose)                                                         \n",
      "                                                                 \n",
      " leaky_re_lu_1 (LeakyReLU)   (None, 39, 128)           0         \n",
      "                                                                 \n",
      " batch_normalization (BatchN  (None, 39, 128)          512       \n",
      " ormalization)                                                   \n",
      "                                                                 \n",
      " conv1d_transpose_1 (Conv1DT  (None, 78, 264)          135432    \n",
      " ranspose)                                                       \n",
      "                                                                 \n",
      " leaky_re_lu_2 (LeakyReLU)   (None, 78, 264)           0         \n",
      "                                                                 \n",
      " batch_normalization_1 (Batc  (None, 78, 264)          1056      \n",
      " hNormalization)                                                 \n",
      "                                                                 \n",
      " conv1d (Conv1D)             (None, 78, 1)             1057      \n",
      "                                                                 \n",
      "=================================================================\n",
      "Total params: 139,126\n",
      "Trainable params: 138,342\n",
      "Non-trainable params: 784\n",
      "_________________________________________________________________\n"
     ]
    },
    {
     "name": "stderr",
     "output_type": "stream",
     "text": [
      "2023-05-07 15:02:50.641957: I tensorflow/compiler/xla/stream_executor/rocm/rocm_gpu_executor.cc:843] successful NUMA node read from SysFS had negative value (-1), but there must be at least one NUMA node, so returning NUMA node zero\n",
      "2023-05-07 15:02:50.642039: I tensorflow/compiler/xla/stream_executor/rocm/rocm_gpu_executor.cc:843] successful NUMA node read from SysFS had negative value (-1), but there must be at least one NUMA node, so returning NUMA node zero\n",
      "2023-05-07 15:02:50.698341: I tensorflow/compiler/xla/stream_executor/rocm/rocm_gpu_executor.cc:843] successful NUMA node read from SysFS had negative value (-1), but there must be at least one NUMA node, so returning NUMA node zero\n",
      "2023-05-07 15:02:50.698423: I tensorflow/compiler/xla/stream_executor/rocm/rocm_gpu_executor.cc:843] successful NUMA node read from SysFS had negative value (-1), but there must be at least one NUMA node, so returning NUMA node zero\n",
      "2023-05-07 15:02:50.698473: I tensorflow/compiler/xla/stream_executor/rocm/rocm_gpu_executor.cc:843] successful NUMA node read from SysFS had negative value (-1), but there must be at least one NUMA node, so returning NUMA node zero\n",
      "2023-05-07 15:02:50.698498: I tensorflow/core/common_runtime/gpu/gpu_device.cc:1990] Ignoring visible gpu device (device: 0, name: AMD Radeon RX 6700S, pci bus id: 0000:03:00.0) with AMDGPU version : gfx1032. The supported AMDGPU versions are gfx1030, gfx900, gfx906, gfx908, gfx90a.\n",
      "2023-05-07 15:02:50.698535: I tensorflow/compiler/xla/stream_executor/rocm/rocm_gpu_executor.cc:843] successful NUMA node read from SysFS had negative value (-1), but there must be at least one NUMA node, so returning NUMA node zero\n",
      "2023-05-07 15:02:50.698544: I tensorflow/core/common_runtime/gpu/gpu_device.cc:1990] Ignoring visible gpu device (device: 1, name: , pci bus id: 0000:07:00.0) with AMDGPU version : gfx1035. The supported AMDGPU versions are gfx1030, gfx900, gfx906, gfx908, gfx90a.\n",
      "2023-05-07 15:02:50.698926: I tensorflow/core/platform/cpu_feature_guard.cc:193] This TensorFlow binary is optimized with oneAPI Deep Neural Network Library (oneDNN) to use the following CPU instructions in performance-critical operations:  SSE3 SSE4.1 SSE4.2 AVX AVX2 FMA\n",
      "To enable them in other operations, rebuild TensorFlow with the appropriate compiler flags.\n",
      "2023-05-07 15:02:50.709967: I tensorflow/core/common_runtime/gpu_fusion_pass.cc:507] ROCm Fusion is enabled.\n",
      "2023-05-07 15:02:50.710816: I tensorflow/core/common_runtime/gpu_fusion_pass.cc:507] ROCm Fusion is enabled.\n",
      "2023-05-07 15:02:50.711390: I tensorflow/core/common_runtime/gpu_fusion_pass.cc:507] ROCm Fusion is enabled.\n",
      "2023-05-07 15:02:50.719240: I tensorflow/core/common_runtime/gpu_fusion_pass.cc:507] ROCm Fusion is enabled.\n",
      "2023-05-07 15:02:50.719752: I tensorflow/core/common_runtime/gpu_fusion_pass.cc:507] ROCm Fusion is enabled.\n",
      "2023-05-07 15:02:50.723033: I tensorflow/core/common_runtime/gpu_fusion_pass.cc:507] ROCm Fusion is enabled.\n",
      "2023-05-07 15:02:50.723888: I tensorflow/core/common_runtime/gpu_fusion_pass.cc:507] ROCm Fusion is enabled.\n",
      "2023-05-07 15:02:50.724991: I tensorflow/core/common_runtime/gpu_fusion_pass.cc:507] ROCm Fusion is enabled.\n",
      "2023-05-07 15:02:50.725635: I tensorflow/core/common_runtime/gpu_fusion_pass.cc:507] ROCm Fusion is enabled.\n",
      "2023-05-07 15:02:50.726224: I tensorflow/core/common_runtime/gpu_fusion_pass.cc:507] ROCm Fusion is enabled.\n",
      "2023-05-07 15:02:50.726717: I tensorflow/core/common_runtime/gpu_fusion_pass.cc:507] ROCm Fusion is enabled.\n",
      "2023-05-07 15:02:50.727227: I tensorflow/core/common_runtime/gpu_fusion_pass.cc:507] ROCm Fusion is enabled.\n",
      "2023-05-07 15:02:50.728360: I tensorflow/core/common_runtime/gpu_fusion_pass.cc:507] ROCm Fusion is enabled.\n",
      "2023-05-07 15:02:50.728782: I tensorflow/core/common_runtime/gpu_fusion_pass.cc:507] ROCm Fusion is enabled.\n",
      "2023-05-07 15:02:50.729187: I tensorflow/core/common_runtime/gpu_fusion_pass.cc:507] ROCm Fusion is enabled.\n",
      "2023-05-07 15:02:50.741033: I tensorflow/core/common_runtime/gpu_fusion_pass.cc:507] ROCm Fusion is enabled.\n",
      "2023-05-07 15:02:50.741546: I tensorflow/core/common_runtime/gpu_fusion_pass.cc:507] ROCm Fusion is enabled.\n",
      "2023-05-07 15:02:50.742248: I tensorflow/core/common_runtime/gpu_fusion_pass.cc:507] ROCm Fusion is enabled.\n",
      "2023-05-07 15:02:50.742683: I tensorflow/core/common_runtime/gpu_fusion_pass.cc:507] ROCm Fusion is enabled.\n",
      "2023-05-07 15:02:50.864964: I tensorflow/core/common_runtime/gpu_fusion_pass.cc:507] ROCm Fusion is enabled.\n",
      "2023-05-07 15:02:50.865593: I tensorflow/core/common_runtime/gpu_fusion_pass.cc:507] ROCm Fusion is enabled.\n",
      "2023-05-07 15:02:50.866523: I tensorflow/core/common_runtime/gpu_fusion_pass.cc:507] ROCm Fusion is enabled.\n",
      "2023-05-07 15:02:50.866984: I tensorflow/core/common_runtime/gpu_fusion_pass.cc:507] ROCm Fusion is enabled.\n",
      "2023-05-07 15:02:50.887634: I tensorflow/core/common_runtime/gpu_fusion_pass.cc:507] ROCm Fusion is enabled.\n",
      "2023-05-07 15:02:50.888134: I tensorflow/core/common_runtime/gpu_fusion_pass.cc:507] ROCm Fusion is enabled.\n",
      "2023-05-07 15:02:50.888834: I tensorflow/core/common_runtime/gpu_fusion_pass.cc:507] ROCm Fusion is enabled.\n",
      "2023-05-07 15:02:50.889302: I tensorflow/core/common_runtime/gpu_fusion_pass.cc:507] ROCm Fusion is enabled.\n",
      "2023-05-07 15:02:50.907517: I tensorflow/core/common_runtime/gpu_fusion_pass.cc:507] ROCm Fusion is enabled.\n",
      "2023-05-07 15:02:50.908047: I tensorflow/core/common_runtime/gpu_fusion_pass.cc:507] ROCm Fusion is enabled.\n",
      "2023-05-07 15:02:50.908910: I tensorflow/core/common_runtime/gpu_fusion_pass.cc:507] ROCm Fusion is enabled.\n",
      "2023-05-07 15:02:50.909418: I tensorflow/core/common_runtime/gpu_fusion_pass.cc:507] ROCm Fusion is enabled.\n"
     ]
    },
    {
     "name": "stdout",
     "output_type": "stream",
     "text": [
      "Model: \"discriminator\"\n",
      "_________________________________________________________________\n",
      " Layer (type)                Output Shape              Param #   \n",
      "=================================================================\n",
      " conv1d_1 (Conv1D)           (None, 26, 64)            320       \n",
      "                                                                 \n",
      " leaky_re_lu_3 (LeakyReLU)   (None, 26, 64)            0         \n",
      "                                                                 \n",
      " conv1d_2 (Conv1D)           (None, 13, 264)           67848     \n",
      "                                                                 \n",
      " leaky_re_lu_4 (LeakyReLU)   (None, 13, 264)           0         \n",
      "                                                                 \n",
      " batch_normalization_2 (Batc  (None, 13, 264)          1056      \n",
      " hNormalization)                                                 \n",
      "                                                                 \n",
      " conv1d_3 (Conv1D)           (None, 7, 128)            135296    \n",
      "                                                                 \n",
      " leaky_re_lu_5 (LeakyReLU)   (None, 7, 128)            0         \n",
      "                                                                 \n",
      " batch_normalization_3 (Batc  (None, 7, 128)           512       \n",
      " hNormalization)                                                 \n",
      "                                                                 \n",
      " flatten (Flatten)           (None, 896)               0         \n",
      "                                                                 \n",
      " dense_1 (Dense)             (None, 1)                 897       \n",
      "                                                                 \n",
      "=================================================================\n",
      "Total params: 205,929\n",
      "Trainable params: 205,145\n",
      "Non-trainable params: 784\n",
      "_________________________________________________________________\n"
     ]
    },
    {
     "name": "stderr",
     "output_type": "stream",
     "text": [
      "2023-05-07 15:02:50.918684: I tensorflow/core/common_runtime/gpu_fusion_pass.cc:507] ROCm Fusion is enabled.\n",
      "2023-05-07 15:02:50.919404: I tensorflow/core/common_runtime/gpu_fusion_pass.cc:507] ROCm Fusion is enabled.\n",
      "2023-05-07 15:02:50.950631: I tensorflow/core/common_runtime/gpu_fusion_pass.cc:507] ROCm Fusion is enabled.\n",
      "2023-05-07 15:02:50.951276: I tensorflow/core/common_runtime/gpu_fusion_pass.cc:507] ROCm Fusion is enabled.\n",
      "2023-05-07 15:02:50.975083: I tensorflow/core/common_runtime/gpu_fusion_pass.cc:507] ROCm Fusion is enabled.\n",
      "2023-05-07 15:02:50.975893: I tensorflow/core/common_runtime/gpu_fusion_pass.cc:507] ROCm Fusion is enabled.\n",
      "2023-05-07 15:02:50.990541: I tensorflow/core/common_runtime/gpu_fusion_pass.cc:507] ROCm Fusion is enabled.\n",
      "2023-05-07 15:02:50.991574: I tensorflow/core/common_runtime/gpu_fusion_pass.cc:507] ROCm Fusion is enabled.\n",
      "2023-05-07 15:02:50.992977: I tensorflow/core/common_runtime/gpu_fusion_pass.cc:507] ROCm Fusion is enabled.\n",
      "2023-05-07 15:02:50.993790: I tensorflow/core/common_runtime/gpu_fusion_pass.cc:507] ROCm Fusion is enabled.\n",
      "2023-05-07 15:02:50.994391: I tensorflow/core/common_runtime/gpu_fusion_pass.cc:507] ROCm Fusion is enabled.\n",
      "2023-05-07 15:02:50.995096: I tensorflow/core/common_runtime/gpu_fusion_pass.cc:507] ROCm Fusion is enabled.\n",
      "2023-05-07 15:02:50.995760: I tensorflow/core/common_runtime/gpu_fusion_pass.cc:507] ROCm Fusion is enabled.\n",
      "2023-05-07 15:02:50.996715: I tensorflow/core/common_runtime/gpu_fusion_pass.cc:507] ROCm Fusion is enabled.\n",
      "2023-05-07 15:02:50.997525: I tensorflow/core/common_runtime/gpu_fusion_pass.cc:507] ROCm Fusion is enabled.\n",
      "2023-05-07 15:02:50.998487: I tensorflow/core/common_runtime/gpu_fusion_pass.cc:507] ROCm Fusion is enabled.\n",
      "2023-05-07 15:02:50.999445: I tensorflow/core/common_runtime/gpu_fusion_pass.cc:507] ROCm Fusion is enabled.\n",
      "2023-05-07 15:02:51.000138: I tensorflow/core/common_runtime/gpu_fusion_pass.cc:507] ROCm Fusion is enabled.\n",
      "2023-05-07 15:02:51.001485: I tensorflow/core/common_runtime/gpu_fusion_pass.cc:507] ROCm Fusion is enabled.\n",
      "2023-05-07 15:02:51.002195: I tensorflow/core/common_runtime/gpu_fusion_pass.cc:507] ROCm Fusion is enabled.\n",
      "2023-05-07 15:02:51.002745: I tensorflow/core/common_runtime/gpu_fusion_pass.cc:507] ROCm Fusion is enabled.\n",
      "2023-05-07 15:02:51.003563: I tensorflow/core/common_runtime/gpu_fusion_pass.cc:507] ROCm Fusion is enabled.\n",
      "2023-05-07 15:02:51.004352: I tensorflow/core/common_runtime/gpu_fusion_pass.cc:507] ROCm Fusion is enabled.\n",
      "2023-05-07 15:02:51.005101: I tensorflow/core/common_runtime/gpu_fusion_pass.cc:507] ROCm Fusion is enabled.\n",
      "2023-05-07 15:02:51.005743: I tensorflow/core/common_runtime/gpu_fusion_pass.cc:507] ROCm Fusion is enabled.\n",
      "2023-05-07 15:02:51.007142: I tensorflow/core/common_runtime/gpu_fusion_pass.cc:507] ROCm Fusion is enabled.\n",
      "2023-05-07 15:02:51.007728: I tensorflow/core/common_runtime/gpu_fusion_pass.cc:507] ROCm Fusion is enabled.\n",
      "2023-05-07 15:02:51.009760: I tensorflow/core/common_runtime/gpu_fusion_pass.cc:507] ROCm Fusion is enabled.\n",
      "2023-05-07 15:02:51.012046: I tensorflow/core/common_runtime/gpu_fusion_pass.cc:507] ROCm Fusion is enabled.\n",
      "2023-05-07 15:02:51.013261: I tensorflow/core/common_runtime/gpu_fusion_pass.cc:507] ROCm Fusion is enabled.\n",
      "2023-05-07 15:02:51.022716: I tensorflow/core/common_runtime/gpu_fusion_pass.cc:507] ROCm Fusion is enabled.\n",
      "2023-05-07 15:02:51.028097: I tensorflow/core/common_runtime/gpu_fusion_pass.cc:507] ROCm Fusion is enabled.\n",
      "2023-05-07 15:02:51.028677: I tensorflow/core/common_runtime/gpu_fusion_pass.cc:507] ROCm Fusion is enabled.\n",
      "2023-05-07 15:02:51.030470: I tensorflow/core/common_runtime/gpu_fusion_pass.cc:507] ROCm Fusion is enabled.\n",
      "2023-05-07 15:02:51.030979: I tensorflow/core/common_runtime/gpu_fusion_pass.cc:507] ROCm Fusion is enabled.\n",
      "2023-05-07 15:02:51.031451: I tensorflow/core/common_runtime/gpu_fusion_pass.cc:507] ROCm Fusion is enabled.\n",
      "2023-05-07 15:02:51.038369: I tensorflow/core/common_runtime/gpu_fusion_pass.cc:507] ROCm Fusion is enabled.\n",
      "2023-05-07 15:02:51.040058: I tensorflow/core/common_runtime/gpu_fusion_pass.cc:507] ROCm Fusion is enabled.\n",
      "2023-05-07 15:02:51.040597: I tensorflow/core/common_runtime/gpu_fusion_pass.cc:507] ROCm Fusion is enabled.\n"
     ]
    }
   ],
   "source": [
    "latent_dim_ = 32\n",
    "batch_size_ = 16\n",
    "weights_path = \"/home/panthibivek/thesis/GAN_pkg/runs/train/exp2/weights/\"\n",
    "GanModel = GenAdvNetwork(latent_dim=latent_dim_, batch_size=batch_size_)\n",
    "GanModel.compile(\n",
    "    generator_opt=tf.keras.optimizers.Adam(learning_rate=0.001),\n",
    "    discriminator_opt=tf.keras.optimizers.Adam(learning_rate=0.001),\n",
    "    disc_loss=tf.keras.losses.BinaryCrossentropy(),\n",
    "    gen_loss=tf.keras.losses.MAE\n",
    ")\n",
    "\n",
    "random_data = random_generator((100, latent_dim_))\n",
    "\n",
    "GanModel.generator(random_data)\n",
    "GanModel.load_weights(weights_path) \n",
    "generated_output = GanModel.generator(random_data)\n",
    "arr = generated_output.numpy()\n",
    "arr_new = arr.reshape((100,78))"
   ]
  },
  {
   "attachments": {},
   "cell_type": "markdown",
   "metadata": {},
   "source": [
    "### Using KDTree to find the closest xyz coordiants in the Sample Space\n",
    "#### Time Complexity:\n",
    "For generating KDtree : O(N log(N)) <br>\n",
    "For finding each sample : O(log(N)) <br> <br>\n",
    "Note: The defination of class MapCoulomb1dToXYZ is in reformatTOXyz.py"
   ]
  },
  {
   "cell_type": "code",
   "execution_count": 5,
   "metadata": {},
   "outputs": [],
   "source": [
    "mapping_obj = MapCoulomb1dToXYZ(abs_path_xyz_dirname=str(\"/home/panthibivek/thesis/GAN_pkg/data/newMappedMolecules\"), \n",
    "                                sorted_xyz_file=\"/home/panthibivek/thesis/GAN_pkg/data/exp/totalSortedTraj.txt\", \n",
    "                                sorted_coulomb1D_file=\"/home/panthibivek/thesis/GAN_pkg/data/exp/totalSortedCoulomb1D.txt\")"
   ]
  },
  {
   "cell_type": "code",
   "execution_count": 8,
   "metadata": {},
   "outputs": [],
   "source": [
    "get_xyz_small_batch = mapping_obj.generateXYZ(coulomb1D_arr=arr_new)"
   ]
  }
 ],
 "metadata": {
  "kernelspec": {
   "display_name": "Python 3",
   "language": "python",
   "name": "python3"
  },
  "language_info": {
   "codemirror_mode": {
    "name": "ipython",
    "version": 3
   },
   "file_extension": ".py",
   "mimetype": "text/x-python",
   "name": "python",
   "nbconvert_exporter": "python",
   "pygments_lexer": "ipython3",
   "version": "3.10.6"
  },
  "orig_nbformat": 4,
  "vscode": {
   "interpreter": {
    "hash": "916dbcbb3f70747c44a77c7bcd40155683ae19c65e1c03b4aa3499c5328201f1"
   }
  }
 },
 "nbformat": 4,
 "nbformat_minor": 2
}
