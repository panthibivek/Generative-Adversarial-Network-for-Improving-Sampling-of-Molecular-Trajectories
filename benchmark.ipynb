{
 "cells": [
  {
   "attachments": {},
   "cell_type": "markdown",
   "metadata": {},
   "source": [
    "# Benchmarking:"
   ]
  },
  {
   "cell_type": "code",
   "execution_count": 1,
   "metadata": {},
   "outputs": [
    {
     "name": "stderr",
     "output_type": "stream",
     "text": [
      "2023-04-09 14:17:25.092347: I tensorflow/core/platform/cpu_feature_guard.cc:193] This TensorFlow binary is optimized with oneAPI Deep Neural Network Library (oneDNN) to use the following CPU instructions in performance-critical operations:  SSE3 SSE4.1 SSE4.2 AVX AVX2 FMA\n",
      "To enable them in other operations, rebuild TensorFlow with the appropriate compiler flags.\n"
     ]
    }
   ],
   "source": [
    "import numpy as np\n",
    "from formatData import loadData\n",
    "from qml.kernels import gaussian_kernel, matern_kernel\n",
    "from qml.math import cho_solve\n",
    "from utils import unison_shuffle\n",
    "from sklearn.model_selection import train_test_split\n",
    "from gan import GenAdvNetwork\n",
    "import tensorflow as tf\n",
    "from utils import random_generator\n",
    "from matplotlib import pyplot as plt"
   ]
  },
  {
   "attachments": {},
   "cell_type": "markdown",
   "metadata": {},
   "source": [
    "#### Comparing the performance of KRR model trained in one trajectory and testing in: \n",
    "- another trajectory"
   ]
  },
  {
   "cell_type": "markdown",
   "metadata": {},
   "source": [
    "### Loading Data"
   ]
  },
  {
   "cell_type": "code",
   "execution_count": 2,
   "metadata": {},
   "outputs": [
    {
     "name": "stdout",
     "output_type": "stream",
     "text": [
      "input data size: (10000, 78)\n",
      "output data size: (10000,)\n",
      "Training data size: (9000, 78)\n",
      "Test data size: (1000, 78)\n"
     ]
    }
   ],
   "source": [
    "\"\"\"\n",
    "Loading data\n",
    "Note than we can only specify absolute location of the raw data\n",
    "\"\"\"\n",
    "molRep2D, energies = loadData(12, \"/home/panthibivek/thesis/GAN_pkg/data/traj.xyz\")\n",
    "X_train, X_test, y_train, y_test = train_test_split(molRep2D,energies,\n",
    "                                   test_size=0.1)\n",
    "\n",
    "print(\"Training data size:\", X_train.shape)\n",
    "print(\"Test data size:\", X_test.shape)"
   ]
  },
  {
   "attachments": {},
   "cell_type": "markdown",
   "metadata": {},
   "source": [
    "### Regression using parameters from Baseline Experiment"
   ]
  },
  {
   "cell_type": "code",
   "execution_count": 3,
   "metadata": {},
   "outputs": [],
   "source": [
    "\"\"\"\n",
    "Regression\n",
    "\"\"\"\n",
    "def regression(X : np.array, Y : np.array, sigma : float, lambda_ : float):\n",
    "    K = matern_kernel(X, X, sigma, order=0, metric='l2')\n",
    "    K[np.diag_indices_from(K)] += lambda_\n",
    "    alpha = cho_solve(K, Y)\n",
    "    return alpha\n",
    "\n",
    "\"\"\"\n",
    "Prediction\n",
    "\"\"\"\n",
    "def prediction(X : np.array, arr_to_predict : np.array, sigma : float, alpha_ : np.array):\n",
    "    Ks = matern_kernel(arr_to_predict, X, sigma, order=0, metric='l2')\n",
    "    return np.dot(Ks, alpha_)"
   ]
  },
  {
   "cell_type": "code",
   "execution_count": 4,
   "metadata": {},
   "outputs": [
    {
     "name": "stdout",
     "output_type": "stream",
     "text": [
      "Mean Absolute Error : 0.005502473775075671\n"
     ]
    }
   ],
   "source": [
    "sigma = 1000.0\n",
    "lambda_ = 1e-8\n",
    "temp_alpha = regression(X_train, y_train, sigma, lambda_)\n",
    "prediction_arr = prediction(X_train, X_test, sigma, temp_alpha)\n",
    "mean_abs_errors = np.mean(np.abs(prediction_arr - y_test))\n",
    "print(\"Mean Absolute Error : {}\".format(mean_abs_errors))"
   ]
  },
  {
   "attachments": {},
   "cell_type": "markdown",
   "metadata": {},
   "source": [
    "### Loading new Trajectories Dataset"
   ]
  },
  {
   "cell_type": "code",
   "execution_count": 5,
   "metadata": {},
   "outputs": [],
   "source": [
    "energies_arr = []\n",
    "energyFilename = \"/home/panthibivek/thesis/GAN_pkg/data/MD/traj1_energies.txt\"\n",
    "with open(\"/home/panthibivek/thesis/GAN_pkg/data/MD/properties/trajectory1/es_energies/ZINDO_verytight.dat\", 'r') as f:\n",
    "    for line in f:\n",
    "        if line:\n",
    "            lst = line.strip().split('\\t')\n",
    "            energies_arr.append(float(lst[-1]))\n",
    "energies_arr = np.array(energies_arr)\n",
    "np.savetxt(fname=energyFilename, X=energies_arr, delimiter='\\n')"
   ]
  },
  {
   "cell_type": "code",
   "execution_count": 6,
   "metadata": {},
   "outputs": [
    {
     "name": "stdout",
     "output_type": "stream",
     "text": [
      "input data size: (10001, 78)\n",
      "output data size: (10001,)\n"
     ]
    }
   ],
   "source": [
    "\"\"\"\n",
    "Loading data\n",
    "Note than we can only specify absolute location of the raw data\n",
    "\"\"\"\n",
    "newTrajMolRep, newTrajEnergies = loadData(max_size=12, \n",
    "                                filename=\"/home/panthibivek/thesis/GAN_pkg/data/MD/trajectory1.xyz\", \n",
    "                                energyFilename=energyFilename,\n",
    "                                xyzdirname=\"/data/Traj1/AllMolecules\",\n",
    "                                coulombMtxFilename=\"/data/Traj1/lower_coulomb_mtx_array.txt\")"
   ]
  },
  {
   "cell_type": "code",
   "execution_count": 7,
   "metadata": {},
   "outputs": [
    {
     "name": "stdout",
     "output_type": "stream",
     "text": [
      "Mean Absolute Error : 0.8367192859201769\n"
     ]
    }
   ],
   "source": [
    "prediction_arr = prediction(X_train, newTrajMolRep, sigma, temp_alpha)\n",
    "mean_abs_errors = np.mean(np.abs(prediction_arr - newTrajEnergies))\n",
    "print(\"Mean Absolute Error : {}\".format(mean_abs_errors))"
   ]
  },
  {
   "attachments": {},
   "cell_type": "markdown",
   "metadata": {},
   "source": [
    "#### Comparing the performance of KRR model trained in one trajectory and samples from GAN model and testing in:\n",
    "- same trajectory samples"
   ]
  },
  {
   "cell_type": "code",
   "execution_count": 8,
   "metadata": {},
   "outputs": [
    {
     "name": "stdout",
     "output_type": "stream",
     "text": [
      "input data size: (20000, 78)\n",
      "output data size: (20000,)\n"
     ]
    }
   ],
   "source": [
    "\"\"\"\n",
    "Loading data\n",
    "Note than we can only specify absolute location of the raw data\n",
    "\"\"\"\n",
    "ganTrajMolRep, ganTrajEnergies = loadData(max_size=12, \n",
    "                                filename=\"demo_name.xyz\", \n",
    "                                energyFilename=\"/home/panthibivek/thesis/GAN_pkg/config_files_orca/calculate_energies.txt\",\n",
    "                                xyzdirname=\"/config_files_orca/MoleculesMappedFromSampleSpace\",\n",
    "                                coulombMtxFilename=\"/config_files_orca/gan_lower_coulomb_mtx_array.txt\")"
   ]
  },
  {
   "cell_type": "code",
   "execution_count": 9,
   "metadata": {},
   "outputs": [
    {
     "name": "stdout",
     "output_type": "stream",
     "text": [
      "Mean Absolute Error : 0.09239270542669974\n"
     ]
    }
   ],
   "source": [
    "sigma = 1000.0\n",
    "lambda_ = 1e-8\n",
    "new_X_train = np.concatenate((X_train, ganTrajMolRep), axis=0)\n",
    "new_Y_train = np.concatenate((y_train, ganTrajEnergies))\n",
    "\n",
    "indices = np.arange(new_X_train.shape[0])\n",
    "np.random.shuffle(indices)\n",
    "\n",
    "new_X_train = new_X_train[indices]\n",
    "new_Y_train = new_Y_train[indices]\n",
    "\n",
    "temp_alpha = regression(new_X_train[:15000], new_Y_train[:15000], sigma, lambda_)\n",
    "prediction_arr = prediction(new_X_train[:15000], X_test, sigma, temp_alpha)\n",
    "mean_abs_errors = np.mean(np.abs(prediction_arr - y_test))\n",
    "print(\"Mean Absolute Error : {}\".format(mean_abs_errors))"
   ]
  },
  {
   "cell_type": "code",
   "execution_count": 10,
   "metadata": {},
   "outputs": [],
   "source": [
    "training_sample_sizes = [500] + [int(i) for i in range(1000, 15000, 2000)]\n",
    "lambda_ = 1e-8\n",
    "mean_abs_errors_list = []\n",
    "for sample_size in training_sample_sizes:\n",
    "    temp_alpha = regression(new_X_train[:sample_size], new_Y_train[:sample_size], sigma, lambda_)\n",
    "    Y_predicted = prediction(new_X_train[:sample_size], X_test, sigma, temp_alpha)\n",
    "    mean_abs_e = np.mean(np.abs(Y_predicted - y_test))\n",
    "    mean_abs_errors_list.append(mean_abs_e)"
   ]
  },
  {
   "cell_type": "code",
   "execution_count": 15,
   "metadata": {},
   "outputs": [
    {
     "data": {
      "image/png": "[encoded data removed]",
      "text/plain": [
       "<Figure size 700x700 with 1 Axes>"
      ]
     },
     "metadata": {},
     "output_type": "display_data"
    }
   ],
   "source": [
    "plt.figure(figsize=(7,7))\n",
    "plt.plot(training_sample_sizes, mean_abs_errors_list, c=\"gray\")\n",
    "plt.xlabel('Sample Size', fontsize=15)\n",
    "plt.ylabel('Mean Absolute Error', fontsize=15)\n",
    "plt.yscale('log')\n",
    "# fig2 = plt.gcf()\n",
    "plt.show()\n",
    "# fig2.savefig('sampleSize_vs_MAE_new_sampling.png', dpi = 300)"
   ]
  },
  {
   "attachments": {},
   "cell_type": "markdown",
   "metadata": {},
   "source": [
    "#### Comparing the performance of KRR model trained in one trajectory and samples from GAN model and testing in:\n",
    "- different trajectory samples"
   ]
  },
  {
   "cell_type": "code",
   "execution_count": 13,
   "metadata": {},
   "outputs": [
    {
     "name": "stdout",
     "output_type": "stream",
     "text": [
      "Mean Absolute Error : 0.5998847995999395\n"
     ]
    }
   ],
   "source": [
    "alpha_ = regression(new_X_train[:15000], new_Y_train[:15000], sigma, lambda_)\n",
    "prediction_arr = prediction(new_X_train[:15000], newTrajMolRep, sigma, alpha_)\n",
    "mean_abs_errors = np.mean(np.abs(prediction_arr - newTrajEnergies))\n",
    "print(\"Mean Absolute Error : {}\".format(mean_abs_errors))"
   ]
  },
  {
   "cell_type": "code",
   "execution_count": 16,
   "metadata": {},
   "outputs": [],
   "source": [
    "energies_arr = []\n",
    "energyFilename = \"/home/panthibivek/thesis/GAN_pkg/data/MD/traj2_energies.txt\"\n",
    "with open(\"/home/panthibivek/thesis/GAN_pkg/data/MD/properties/trajectory2/es_energies/ZINDO_verytight.dat\", 'r') as f:\n",
    "    for line in f:\n",
    "        if line:\n",
    "            lst = line.strip().split('\\t')\n",
    "            energies_arr.append(float(lst[-1]))\n",
    "energies_arr = np.array(energies_arr)\n",
    "np.savetxt(fname=energyFilename, X=energies_arr, delimiter='\\n')"
   ]
  },
  {
   "cell_type": "code",
   "execution_count": 17,
   "metadata": {},
   "outputs": [
    {
     "name": "stdout",
     "output_type": "stream",
     "text": [
      "input data size: (10001, 78)\n",
      "output data size: (10001,)\n"
     ]
    }
   ],
   "source": [
    "\"\"\"\n",
    "Loading data\n",
    "Note than we can only specify absolute location of the raw data\n",
    "\"\"\"\n",
    "newTraj2MolRep, newTraj2Energies = loadData(max_size=12, \n",
    "                                filename=\"/home/panthibivek/thesis/GAN_pkg/data/MD/trajectory2.xyz\", \n",
    "                                energyFilename=energyFilename,\n",
    "                                xyzdirname=\"/data/Traj2/AllMolecules\",\n",
    "                                coulombMtxFilename=\"/data/Traj2/lower_coulomb_mtx_array.txt\")"
   ]
  },
  {
   "cell_type": "code",
   "execution_count": 18,
   "metadata": {},
   "outputs": [
    {
     "name": "stdout",
     "output_type": "stream",
     "text": [
      "Mean Absolute Error : 0.5874600142232053\n"
     ]
    }
   ],
   "source": [
    "prediction_arr_ = prediction(new_X_train[:15000], newTraj2MolRep, sigma, alpha_)\n",
    "mean_abs_error_ = np.mean(np.abs(prediction_arr_ - newTraj2Energies))\n",
    "print(\"Mean Absolute Error : {}\".format(mean_abs_error_))"
   ]
  },
  {
   "cell_type": "code",
   "execution_count": null,
   "metadata": {},
   "outputs": [],
   "source": []
  }
 ],
 "metadata": {
  "kernelspec": {
   "display_name": "Python 3",
   "language": "python",
   "name": "python3"
  },
  "language_info": {
   "codemirror_mode": {
    "name": "ipython",
    "version": 3
   },
   "file_extension": ".py",
   "mimetype": "text/x-python",
   "name": "python",
   "nbconvert_exporter": "python",
   "pygments_lexer": "ipython3",
   "version": "3.10.6"
  },
  "orig_nbformat": 4
 },
 "nbformat": 4,
 "nbformat_minor": 2
}
