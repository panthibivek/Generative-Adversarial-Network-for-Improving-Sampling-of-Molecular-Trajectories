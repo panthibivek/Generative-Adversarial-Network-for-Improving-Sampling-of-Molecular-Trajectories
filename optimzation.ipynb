{
 "cells": [
  {
   "attachments": {},
   "cell_type": "markdown",
   "metadata": {},
   "source": [
    "# Testing a Multi-Layer Perceptron to map 1D representation of a Coulomb Matrix to XYZ coordinates "
   ]
  },
  {
   "cell_type": "code",
   "execution_count": 1,
   "metadata": {},
   "outputs": [
    {
     "name": "stderr",
     "output_type": "stream",
     "text": [
      "2023-04-20 16:47:44.136937: I tensorflow/core/platform/cpu_feature_guard.cc:193] This TensorFlow binary is optimized with oneAPI Deep Neural Network Library (oneDNN) to use the following CPU instructions in performance-critical operations:  SSE3 SSE4.1 SSE4.2 AVX AVX2 FMA\n",
      "To enable them in other operations, rebuild TensorFlow with the appropriate compiler flags.\n"
     ]
    }
   ],
   "source": [
    "import os\n",
    "import numpy as np\n",
    "from formatData import loadData\n",
    "from sklearn.model_selection import train_test_split\n",
    "from coulombToTraj import *\n",
    "import pathlib"
   ]
  },
  {
   "attachments": {},
   "cell_type": "markdown",
   "metadata": {},
   "source": [
    "### Importing the Data and fitting the model\n",
    "<br> Note: defination of the functions are in coulombToTraj.py"
   ]
  },
  {
   "cell_type": "code",
   "execution_count": 2,
   "metadata": {},
   "outputs": [
    {
     "name": "stdout",
     "output_type": "stream",
     "text": [
      "Loading Lower Coulomb representation and respective energies\n",
      "input data size: (10000, 78)\n",
      "output data size: (10000,)\n"
     ]
    },
    {
     "name": "stderr",
     "output_type": "stream",
     "text": [
      "2023-03-26 21:59:07.301194: I tensorflow/compiler/xla/stream_executor/rocm/rocm_gpu_executor.cc:843] successful NUMA node read from SysFS had negative value (-1), but there must be at least one NUMA node, so returning NUMA node zero\n",
      "2023-03-26 21:59:07.301288: I tensorflow/compiler/xla/stream_executor/rocm/rocm_gpu_executor.cc:843] successful NUMA node read from SysFS had negative value (-1), but there must be at least one NUMA node, so returning NUMA node zero\n",
      "2023-03-26 21:59:07.356784: I tensorflow/compiler/xla/stream_executor/rocm/rocm_gpu_executor.cc:843] successful NUMA node read from SysFS had negative value (-1), but there must be at least one NUMA node, so returning NUMA node zero\n",
      "2023-03-26 21:59:07.356848: I tensorflow/compiler/xla/stream_executor/rocm/rocm_gpu_executor.cc:843] successful NUMA node read from SysFS had negative value (-1), but there must be at least one NUMA node, so returning NUMA node zero\n",
      "2023-03-26 21:59:07.356888: I tensorflow/compiler/xla/stream_executor/rocm/rocm_gpu_executor.cc:843] successful NUMA node read from SysFS had negative value (-1), but there must be at least one NUMA node, so returning NUMA node zero\n",
      "2023-03-26 21:59:07.356911: I tensorflow/core/common_runtime/gpu/gpu_device.cc:1990] Ignoring visible gpu device (device: 0, name: AMD Radeon RX 6700S, pci bus id: 0000:03:00.0) with AMDGPU version : gfx1032. The supported AMDGPU versions are gfx1030, gfx900, gfx906, gfx908, gfx90a.\n",
      "2023-03-26 21:59:07.356950: I tensorflow/compiler/xla/stream_executor/rocm/rocm_gpu_executor.cc:843] successful NUMA node read from SysFS had negative value (-1), but there must be at least one NUMA node, so returning NUMA node zero\n",
      "2023-03-26 21:59:07.356959: I tensorflow/core/common_runtime/gpu/gpu_device.cc:1990] Ignoring visible gpu device (device: 1, name: , pci bus id: 0000:07:00.0) with AMDGPU version : gfx1035. The supported AMDGPU versions are gfx1030, gfx900, gfx906, gfx908, gfx90a.\n",
      "2023-03-26 21:59:07.357254: I tensorflow/core/platform/cpu_feature_guard.cc:193] This TensorFlow binary is optimized with oneAPI Deep Neural Network Library (oneDNN) to use the following CPU instructions in performance-critical operations:  SSE3 SSE4.1 SSE4.2 AVX AVX2 FMA\n",
      "To enable them in other operations, rebuild TensorFlow with the appropriate compiler flags.\n",
      "2023-03-26 21:59:07.367583: I tensorflow/core/common_runtime/gpu_fusion_pass.cc:507] ROCm Fusion is enabled.\n",
      "2023-03-26 21:59:07.368699: I tensorflow/core/common_runtime/gpu_fusion_pass.cc:507] ROCm Fusion is enabled.\n",
      "2023-03-26 21:59:07.369247: I tensorflow/core/common_runtime/gpu_fusion_pass.cc:507] ROCm Fusion is enabled.\n",
      "2023-03-26 21:59:07.374575: I tensorflow/core/common_runtime/gpu_fusion_pass.cc:507] ROCm Fusion is enabled.\n",
      "2023-03-26 21:59:07.374979: I tensorflow/core/common_runtime/gpu_fusion_pass.cc:507] ROCm Fusion is enabled.\n",
      "2023-03-26 21:59:07.377725: I tensorflow/core/common_runtime/gpu_fusion_pass.cc:507] ROCm Fusion is enabled.\n",
      "2023-03-26 21:59:07.378460: I tensorflow/core/common_runtime/gpu_fusion_pass.cc:507] ROCm Fusion is enabled.\n",
      "2023-03-26 21:59:07.379522: I tensorflow/core/common_runtime/gpu_fusion_pass.cc:507] ROCm Fusion is enabled.\n",
      "2023-03-26 21:59:07.380096: I tensorflow/core/common_runtime/gpu_fusion_pass.cc:507] ROCm Fusion is enabled.\n",
      "2023-03-26 21:59:07.380642: I tensorflow/core/common_runtime/gpu_fusion_pass.cc:507] ROCm Fusion is enabled.\n",
      "2023-03-26 21:59:07.381120: I tensorflow/core/common_runtime/gpu_fusion_pass.cc:507] ROCm Fusion is enabled.\n",
      "2023-03-26 21:59:07.381597: I tensorflow/core/common_runtime/gpu_fusion_pass.cc:507] ROCm Fusion is enabled.\n",
      "2023-03-26 21:59:07.382624: I tensorflow/core/common_runtime/gpu_fusion_pass.cc:507] ROCm Fusion is enabled.\n",
      "2023-03-26 21:59:07.383036: I tensorflow/core/common_runtime/gpu_fusion_pass.cc:507] ROCm Fusion is enabled.\n",
      "2023-03-26 21:59:07.383430: I tensorflow/core/common_runtime/gpu_fusion_pass.cc:507] ROCm Fusion is enabled.\n",
      "2023-03-26 21:59:07.398472: I tensorflow/core/common_runtime/gpu_fusion_pass.cc:507] ROCm Fusion is enabled.\n",
      "2023-03-26 21:59:07.398993: I tensorflow/core/common_runtime/gpu_fusion_pass.cc:507] ROCm Fusion is enabled.\n",
      "2023-03-26 21:59:07.496604: I tensorflow/core/common_runtime/gpu_fusion_pass.cc:507] ROCm Fusion is enabled.\n",
      "2023-03-26 21:59:07.497164: I tensorflow/core/common_runtime/gpu_fusion_pass.cc:507] ROCm Fusion is enabled.\n",
      "2023-03-26 21:59:07.511406: I tensorflow/core/common_runtime/gpu_fusion_pass.cc:507] ROCm Fusion is enabled.\n",
      "2023-03-26 21:59:07.511933: I tensorflow/core/common_runtime/gpu_fusion_pass.cc:507] ROCm Fusion is enabled.\n",
      "2023-03-26 21:59:07.525663: I tensorflow/core/common_runtime/gpu_fusion_pass.cc:507] ROCm Fusion is enabled.\n",
      "2023-03-26 21:59:07.526160: I tensorflow/core/common_runtime/gpu_fusion_pass.cc:507] ROCm Fusion is enabled.\n",
      "2023-03-26 21:59:07.526886: I tensorflow/core/common_runtime/gpu_fusion_pass.cc:507] ROCm Fusion is enabled.\n",
      "2023-03-26 21:59:07.527345: I tensorflow/core/common_runtime/gpu_fusion_pass.cc:507] ROCm Fusion is enabled.\n",
      "2023-03-26 21:59:07.539371: I tensorflow/core/common_runtime/gpu_fusion_pass.cc:507] ROCm Fusion is enabled.\n",
      "2023-03-26 21:59:07.539939: I tensorflow/core/common_runtime/gpu_fusion_pass.cc:507] ROCm Fusion is enabled.\n",
      "2023-03-26 21:59:07.540744: I tensorflow/core/common_runtime/gpu_fusion_pass.cc:507] ROCm Fusion is enabled.\n",
      "2023-03-26 21:59:07.541156: I tensorflow/core/common_runtime/gpu_fusion_pass.cc:507] ROCm Fusion is enabled.\n",
      "2023-03-26 21:59:07.553648: I tensorflow/core/common_runtime/gpu_fusion_pass.cc:507] ROCm Fusion is enabled.\n",
      "2023-03-26 21:59:07.554209: I tensorflow/core/common_runtime/gpu_fusion_pass.cc:507] ROCm Fusion is enabled.\n",
      "2023-03-26 21:59:07.554917: I tensorflow/core/common_runtime/gpu_fusion_pass.cc:507] ROCm Fusion is enabled.\n",
      "2023-03-26 21:59:07.555328: I tensorflow/core/common_runtime/gpu_fusion_pass.cc:507] ROCm Fusion is enabled.\n",
      "2023-03-26 21:59:07.566440: I tensorflow/core/common_runtime/gpu_fusion_pass.cc:507] ROCm Fusion is enabled.\n",
      "2023-03-26 21:59:07.566939: I tensorflow/core/common_runtime/gpu_fusion_pass.cc:507] ROCm Fusion is enabled.\n",
      "2023-03-26 21:59:07.567600: I tensorflow/core/common_runtime/gpu_fusion_pass.cc:507] ROCm Fusion is enabled.\n",
      "2023-03-26 21:59:07.568013: I tensorflow/core/common_runtime/gpu_fusion_pass.cc:507] ROCm Fusion is enabled.\n",
      "WARNING:absl:`lr` is deprecated, please use `learning_rate` instead, or use the legacy optimizer, e.g.,tf.keras.optimizers.legacy.Adam.\n"
     ]
    },
    {
     "name": "stdout",
     "output_type": "stream",
     "text": [
      "Epoch 1/70\n"
     ]
    },
    {
     "name": "stderr",
     "output_type": "stream",
     "text": [
      "2023-03-26 21:59:07.573389: I tensorflow/core/common_runtime/gpu_fusion_pass.cc:507] ROCm Fusion is enabled.\n",
      "2023-03-26 21:59:07.573994: I tensorflow/core/common_runtime/gpu_fusion_pass.cc:507] ROCm Fusion is enabled.\n",
      "2023-03-26 21:59:07.582370: I tensorflow/core/common_runtime/gpu_fusion_pass.cc:507] ROCm Fusion is enabled.\n",
      "2023-03-26 21:59:07.583099: I tensorflow/core/common_runtime/gpu_fusion_pass.cc:507] ROCm Fusion is enabled.\n",
      "2023-03-26 21:59:07.589293: I tensorflow/core/common_runtime/gpu_fusion_pass.cc:507] ROCm Fusion is enabled.\n",
      "2023-03-26 21:59:07.590666: I tensorflow/core/common_runtime/gpu_fusion_pass.cc:507] ROCm Fusion is enabled.\n",
      "2023-03-26 21:59:07.599826: I tensorflow/core/common_runtime/gpu_fusion_pass.cc:507] ROCm Fusion is enabled.\n",
      "2023-03-26 21:59:07.601101: I tensorflow/core/common_runtime/gpu_fusion_pass.cc:507] ROCm Fusion is enabled.\n",
      "2023-03-26 21:59:07.601839: I tensorflow/core/common_runtime/gpu_fusion_pass.cc:507] ROCm Fusion is enabled.\n",
      "2023-03-26 21:59:07.602821: I tensorflow/core/common_runtime/gpu_fusion_pass.cc:507] ROCm Fusion is enabled.\n",
      "2023-03-26 21:59:07.608417: I tensorflow/core/common_runtime/gpu_fusion_pass.cc:507] ROCm Fusion is enabled.\n",
      "2023-03-26 21:59:07.609395: I tensorflow/core/common_runtime/gpu_fusion_pass.cc:507] ROCm Fusion is enabled.\n",
      "2023-03-26 21:59:07.610237: I tensorflow/core/common_runtime/gpu_fusion_pass.cc:507] ROCm Fusion is enabled.\n",
      "2023-03-26 21:59:07.611066: I tensorflow/core/common_runtime/gpu_fusion_pass.cc:507] ROCm Fusion is enabled.\n",
      "2023-03-26 21:59:07.611574: I tensorflow/core/common_runtime/gpu_fusion_pass.cc:507] ROCm Fusion is enabled.\n",
      "2023-03-26 21:59:07.614062: I tensorflow/core/common_runtime/gpu_fusion_pass.cc:507] ROCm Fusion is enabled.\n",
      "2023-03-26 21:59:07.614779: I tensorflow/core/common_runtime/gpu_fusion_pass.cc:507] ROCm Fusion is enabled.\n",
      "2023-03-26 21:59:07.615187: I tensorflow/core/common_runtime/gpu_fusion_pass.cc:507] ROCm Fusion is enabled.\n",
      "2023-03-26 21:59:07.618509: I tensorflow/core/common_runtime/gpu_fusion_pass.cc:507] ROCm Fusion is enabled.\n",
      "2023-03-26 21:59:07.622245: I tensorflow/core/common_runtime/gpu_fusion_pass.cc:507] ROCm Fusion is enabled.\n",
      "2023-03-26 21:59:07.624790: I tensorflow/core/common_runtime/gpu_fusion_pass.cc:507] ROCm Fusion is enabled.\n"
     ]
    },
    {
     "name": "stdout",
     "output_type": "stream",
     "text": [
      " 28/219 [==>...........................] - ETA: 1s - loss: 24.9091"
     ]
    },
    {
     "name": "stderr",
     "output_type": "stream",
     "text": [
      "2023-03-26 21:59:08.985049: I tensorflow/core/common_runtime/gpu_fusion_pass.cc:507] ROCm Fusion is enabled.\n"
     ]
    },
    {
     "name": "stdout",
     "output_type": "stream",
     "text": [
      "219/219 [==============================] - 3s 6ms/step - loss: 11.3744\n",
      "Epoch 2/70\n",
      " 28/219 [==>...........................] - ETA: 1s - loss: 3.4696"
     ]
    },
    {
     "name": "stderr",
     "output_type": "stream",
     "text": [
      "2023-03-26 21:59:10.306332: I tensorflow/core/common_runtime/gpu_fusion_pass.cc:507] ROCm Fusion is enabled.\n",
      "2023-03-26 21:59:10.307197: I tensorflow/core/common_runtime/gpu_fusion_pass.cc:507] ROCm Fusion is enabled.\n",
      "2023-03-26 21:59:10.307722: I tensorflow/core/common_runtime/gpu_fusion_pass.cc:507] ROCm Fusion is enabled.\n",
      "2023-03-26 21:59:10.309158: I tensorflow/core/common_runtime/gpu_fusion_pass.cc:507] ROCm Fusion is enabled.\n"
     ]
    },
    {
     "name": "stdout",
     "output_type": "stream",
     "text": [
      "219/219 [==============================] - 1s 6ms/step - loss: 2.9440\n",
      "Epoch 3/70\n",
      "219/219 [==============================] - 1s 6ms/step - loss: 2.6644\n",
      "Epoch 4/70\n",
      "219/219 [==============================] - 1s 6ms/step - loss: 2.5449\n",
      "Epoch 5/70\n",
      "219/219 [==============================] - 1s 6ms/step - loss: 2.5278\n",
      "Epoch 6/70\n",
      "219/219 [==============================] - 1s 6ms/step - loss: 2.5560\n",
      "Epoch 7/70\n",
      "219/219 [==============================] - 1s 6ms/step - loss: 2.4978\n",
      "Epoch 8/70\n",
      "219/219 [==============================] - 1s 6ms/step - loss: 2.4841\n",
      "Epoch 9/70\n",
      "219/219 [==============================] - 1s 6ms/step - loss: 2.5603\n",
      "Epoch 10/70\n",
      "219/219 [==============================] - 1s 6ms/step - loss: 2.7396\n",
      "Epoch 11/70\n",
      "219/219 [==============================] - 1s 6ms/step - loss: 2.5607\n",
      "Epoch 12/70\n",
      "219/219 [==============================] - 1s 6ms/step - loss: 2.5207\n",
      "Epoch 13/70\n",
      "219/219 [==============================] - 1s 6ms/step - loss: 2.4896\n",
      "Epoch 14/70\n",
      "219/219 [==============================] - 1s 6ms/step - loss: 2.4873\n",
      "Epoch 15/70\n",
      "219/219 [==============================] - 1s 7ms/step - loss: 2.4568\n",
      "Epoch 16/70\n",
      "219/219 [==============================] - 1s 6ms/step - loss: 2.4370\n",
      "Epoch 17/70\n",
      "219/219 [==============================] - 1s 6ms/step - loss: 2.4574\n",
      "Epoch 18/70\n",
      "219/219 [==============================] - 1s 6ms/step - loss: 2.4683\n",
      "Epoch 19/70\n",
      "219/219 [==============================] - 1s 6ms/step - loss: 2.4600\n",
      "Epoch 20/70\n",
      "219/219 [==============================] - 1s 6ms/step - loss: 2.4251\n",
      "Epoch 21/70\n",
      "219/219 [==============================] - 1s 6ms/step - loss: 2.4589\n",
      "Epoch 22/70\n",
      "219/219 [==============================] - 1s 6ms/step - loss: 2.4656\n",
      "Epoch 23/70\n",
      "219/219 [==============================] - 1s 6ms/step - loss: 2.4355\n",
      "Epoch 24/70\n",
      "219/219 [==============================] - 1s 6ms/step - loss: 2.4470\n",
      "Epoch 25/70\n",
      "219/219 [==============================] - 1s 6ms/step - loss: 2.4564\n",
      "Epoch 26/70\n",
      "219/219 [==============================] - 1s 6ms/step - loss: 2.4774\n",
      "Epoch 27/70\n",
      "219/219 [==============================] - 1s 6ms/step - loss: 2.4321\n",
      "Epoch 28/70\n",
      "219/219 [==============================] - 1s 6ms/step - loss: 2.5389\n",
      "Epoch 29/70\n",
      "219/219 [==============================] - 1s 6ms/step - loss: 2.4414\n",
      "Epoch 30/70\n",
      "219/219 [==============================] - 1s 6ms/step - loss: 2.4356\n",
      "Epoch 31/70\n",
      "219/219 [==============================] - 1s 6ms/step - loss: 2.4351\n",
      "Epoch 32/70\n",
      "219/219 [==============================] - 1s 6ms/step - loss: 2.4106\n",
      "Epoch 33/70\n",
      "219/219 [==============================] - 1s 6ms/step - loss: 2.4465\n",
      "Epoch 34/70\n",
      "219/219 [==============================] - 1s 6ms/step - loss: 2.4334\n",
      "Epoch 35/70\n",
      "219/219 [==============================] - 1s 6ms/step - loss: 2.4772\n",
      "Epoch 36/70\n",
      "219/219 [==============================] - 1s 6ms/step - loss: 2.5108\n",
      "Epoch 37/70\n",
      "219/219 [==============================] - 1s 6ms/step - loss: 2.4862\n",
      "Epoch 38/70\n",
      "219/219 [==============================] - 1s 6ms/step - loss: 2.4324\n",
      "Epoch 39/70\n",
      "219/219 [==============================] - 1s 6ms/step - loss: 2.4193\n",
      "Epoch 40/70\n",
      "219/219 [==============================] - 1s 6ms/step - loss: 2.4293\n",
      "Epoch 41/70\n",
      "219/219 [==============================] - 1s 6ms/step - loss: 2.4326\n",
      "Epoch 42/70\n",
      "219/219 [==============================] - 1s 6ms/step - loss: 2.4137\n",
      "Epoch 43/70\n",
      "219/219 [==============================] - 1s 6ms/step - loss: 2.4832\n",
      "Epoch 44/70\n",
      "219/219 [==============================] - 1s 6ms/step - loss: 2.4258\n",
      "Epoch 45/70\n",
      "219/219 [==============================] - 1s 6ms/step - loss: 2.4116\n",
      "Epoch 46/70\n",
      "219/219 [==============================] - 1s 6ms/step - loss: 2.4095\n",
      "Epoch 47/70\n",
      "219/219 [==============================] - 1s 6ms/step - loss: 2.4254\n",
      "Epoch 48/70\n",
      "219/219 [==============================] - 1s 6ms/step - loss: 2.3959\n",
      "Epoch 49/70\n",
      "219/219 [==============================] - 1s 6ms/step - loss: 2.4928\n",
      "Epoch 50/70\n",
      "219/219 [==============================] - 1s 6ms/step - loss: 2.4010\n",
      "Epoch 51/70\n",
      "219/219 [==============================] - 1s 6ms/step - loss: 2.3901\n",
      "Epoch 52/70\n",
      "219/219 [==============================] - 1s 6ms/step - loss: 2.4856\n",
      "Epoch 53/70\n",
      "219/219 [==============================] - 1s 6ms/step - loss: 2.4051\n",
      "Epoch 54/70\n",
      "219/219 [==============================] - 1s 6ms/step - loss: 2.4122\n",
      "Epoch 55/70\n",
      "219/219 [==============================] - 1s 6ms/step - loss: 2.3961\n",
      "Epoch 56/70\n",
      "219/219 [==============================] - 1s 6ms/step - loss: 2.4212\n",
      "Epoch 57/70\n",
      "219/219 [==============================] - 1s 6ms/step - loss: 2.4168\n",
      "Epoch 58/70\n",
      "219/219 [==============================] - 1s 6ms/step - loss: 2.5491\n",
      "Epoch 59/70\n",
      "219/219 [==============================] - 1s 6ms/step - loss: 2.5253\n",
      "Epoch 60/70\n",
      "219/219 [==============================] - 1s 6ms/step - loss: 2.4252\n",
      "Epoch 61/70\n",
      "219/219 [==============================] - 1s 6ms/step - loss: 2.3805\n",
      "Epoch 62/70\n",
      "219/219 [==============================] - 1s 6ms/step - loss: 2.3941\n",
      "Epoch 63/70\n",
      "219/219 [==============================] - 1s 6ms/step - loss: 2.4019\n",
      "Epoch 64/70\n",
      "219/219 [==============================] - 1s 6ms/step - loss: 2.3754\n",
      "Epoch 65/70\n",
      "219/219 [==============================] - 1s 6ms/step - loss: 2.3980\n",
      "Epoch 66/70\n",
      "219/219 [==============================] - 1s 6ms/step - loss: 2.3911\n",
      "Epoch 67/70\n",
      "219/219 [==============================] - 1s 6ms/step - loss: 2.3905\n",
      "Epoch 68/70\n",
      "219/219 [==============================] - 1s 6ms/step - loss: 2.4205\n",
      "Epoch 69/70\n",
      "219/219 [==============================] - 1s 6ms/step - loss: 2.4228\n",
      "Epoch 70/70\n",
      "219/219 [==============================] - 1s 6ms/step - loss: 2.3752\n"
     ]
    }
   ],
   "source": [
    "xyz_files_dir_name = \"/home/panthibivek/thesis/GAN_pkg/data/AllMolecules/\"\n",
    "xyz_traj_filename = \"/home/panthibivek/thesis/GAN_pkg/data/traj.xyz\"\n",
    "print(\"Loading Lower Coulomb representation and respective energies\")\n",
    "molRep2D, _ = loadData(12, xyz_traj_filename)\n",
    "\n",
    "molRep2D_without_diagonal = []\n",
    "diagonal_index = [1,3,6,10,15,21,28,36,45,55,66,78]\n",
    "index = np.array([i-1 for i in range(1,78) if i not in diagonal_index])\n",
    "\n",
    "for each_molRep2D in molRep2D:\n",
    "    each_molRep2D_without_diagonal = each_molRep2D[index]\n",
    "    molRep2D_without_diagonal.append(each_molRep2D_without_diagonal)\n",
    "molRep2D_without_diagonal = np.array(molRep2D_without_diagonal)\n",
    "\n",
    "# charge of all atoms in benzene\n",
    "atomic_charge = np.repeat(np.array([[6,6,6,6,6,6,1,1,1,1,1,1]]), len(molRep2D), axis=0)\n",
    "molRep2D_with_atomic_charge = np.concatenate((atomic_charge, molRep2D_without_diagonal), axis=1)\n",
    "\n",
    "flatened_xyz = np.array(getFlattenedXyz(xyz_files_dir_name))\n",
    "X_train, X_test, y_train, y_test = train_test_split(molRep2D_with_atomic_charge, flatened_xyz,\n",
    "                                test_size=0.3)\n",
    "model = getModel()\n",
    "history = model.fit(X_train, y_train, epochs=70)"
   ]
  },
  {
   "cell_type": "code",
   "execution_count": 3,
   "metadata": {},
   "outputs": [
    {
     "data": {
      "image/png": "[encoded data removed]",
      "text/plain": [
       "<Figure size 640x480 with 1 Axes>"
      ]
     },
     "metadata": {},
     "output_type": "display_data"
    }
   ],
   "source": [
    "from matplotlib import pyplot as plt\n",
    "loss_arr = history.history['loss']\n",
    "plt.plot(loss_arr[1:])\n",
    "plt.yscale('log')\n",
    "plt.title('Loss Graph')\n",
    "plt.ylabel('loss')\n",
    "plt.xlabel('epoch')\n",
    "fig1 = plt.gcf()\n",
    "plt.show()\n",
    "fig1.savefig('coulomb_to_xyz_loss.png', dpi = 300)"
   ]
  },
  {
   "cell_type": "code",
   "execution_count": 4,
   "metadata": {},
   "outputs": [
    {
     "name": "stderr",
     "output_type": "stream",
     "text": [
      "2023-03-26 22:00:41.956625: I tensorflow/core/common_runtime/gpu_fusion_pass.cc:507] ROCm Fusion is enabled.\n",
      "2023-03-26 22:00:41.958805: I tensorflow/core/common_runtime/gpu_fusion_pass.cc:507] ROCm Fusion is enabled.\n",
      "2023-03-26 22:00:41.963336: I tensorflow/core/common_runtime/gpu_fusion_pass.cc:507] ROCm Fusion is enabled.\n",
      "2023-03-26 22:00:41.966050: I tensorflow/core/common_runtime/gpu_fusion_pass.cc:507] ROCm Fusion is enabled.\n",
      "2023-03-26 22:00:41.968539: I tensorflow/core/common_runtime/gpu_fusion_pass.cc:507] ROCm Fusion is enabled.\n",
      "2023-03-26 22:00:41.970672: I tensorflow/core/common_runtime/gpu_fusion_pass.cc:507] ROCm Fusion is enabled.\n",
      "2023-03-26 22:00:41.972012: I tensorflow/core/common_runtime/gpu_fusion_pass.cc:507] ROCm Fusion is enabled.\n",
      "2023-03-26 22:00:41.975316: I tensorflow/core/common_runtime/gpu_fusion_pass.cc:507] ROCm Fusion is enabled.\n",
      "2023-03-26 22:00:41.977635: I tensorflow/core/common_runtime/gpu_fusion_pass.cc:507] ROCm Fusion is enabled.\n",
      "2023-03-26 22:00:41.979082: I tensorflow/core/common_runtime/gpu_fusion_pass.cc:507] ROCm Fusion is enabled.\n",
      "2023-03-26 22:00:41.980381: I tensorflow/core/common_runtime/gpu_fusion_pass.cc:507] ROCm Fusion is enabled.\n",
      "2023-03-26 22:00:41.981514: I tensorflow/core/common_runtime/gpu_fusion_pass.cc:507] ROCm Fusion is enabled.\n",
      "2023-03-26 22:00:41.982003: I tensorflow/core/common_runtime/gpu_fusion_pass.cc:507] ROCm Fusion is enabled.\n"
     ]
    }
   ],
   "source": [
    "parent_dir_coulomb1D_to_xyz = pathlib.Path(os.path.abspath(os.path.dirname('__file__')) + \"/runs/ModelForCoulombToXyz\")\n",
    "parent_dir_coulomb1D_to_xyz.mkdir(parents=True, exist_ok=True)\n",
    "model.save(str(parent_dir_coulomb1D_to_xyz) + '/model.h5')"
   ]
  },
  {
   "cell_type": "code",
   "execution_count": 5,
   "metadata": {},
   "outputs": [
    {
     "name": "stderr",
     "output_type": "stream",
     "text": [
      "2023-03-26 22:00:42.068392: I tensorflow/core/common_runtime/gpu_fusion_pass.cc:507] ROCm Fusion is enabled.\n",
      "2023-03-26 22:00:42.069353: I tensorflow/core/common_runtime/gpu_fusion_pass.cc:507] ROCm Fusion is enabled.\n",
      "2023-03-26 22:00:42.077072: I tensorflow/core/common_runtime/gpu_fusion_pass.cc:507] ROCm Fusion is enabled.\n",
      "2023-03-26 22:00:42.078061: I tensorflow/core/common_runtime/gpu_fusion_pass.cc:507] ROCm Fusion is enabled.\n",
      "2023-03-26 22:00:42.078616: I tensorflow/core/common_runtime/gpu_fusion_pass.cc:507] ROCm Fusion is enabled.\n",
      "2023-03-26 22:00:42.079193: I tensorflow/core/common_runtime/gpu_fusion_pass.cc:507] ROCm Fusion is enabled.\n",
      "2023-03-26 22:00:42.083550: I tensorflow/core/common_runtime/gpu_fusion_pass.cc:507] ROCm Fusion is enabled.\n",
      "2023-03-26 22:00:42.084490: I tensorflow/core/common_runtime/gpu_fusion_pass.cc:507] ROCm Fusion is enabled.\n",
      "2023-03-26 22:00:42.085195: I tensorflow/core/common_runtime/gpu_fusion_pass.cc:507] ROCm Fusion is enabled.\n",
      "2023-03-26 22:00:42.087694: I tensorflow/core/common_runtime/gpu_fusion_pass.cc:507] ROCm Fusion is enabled.\n",
      "2023-03-26 22:00:42.090467: I tensorflow/core/common_runtime/gpu_fusion_pass.cc:507] ROCm Fusion is enabled.\n",
      "2023-03-26 22:00:42.094012: I tensorflow/core/common_runtime/gpu_fusion_pass.cc:507] ROCm Fusion is enabled.\n",
      "2023-03-26 22:00:42.096162: I tensorflow/core/common_runtime/gpu_fusion_pass.cc:507] ROCm Fusion is enabled.\n"
     ]
    },
    {
     "name": "stdout",
     "output_type": "stream",
     "text": [
      "29/94 [========>.....................] - ETA: 0s"
     ]
    },
    {
     "name": "stderr",
     "output_type": "stream",
     "text": [
      "2023-03-26 22:00:42.188527: I tensorflow/core/common_runtime/gpu_fusion_pass.cc:507] ROCm Fusion is enabled.\n"
     ]
    },
    {
     "name": "stdout",
     "output_type": "stream",
     "text": [
      "94/94 [==============================] - 0s 1ms/step\n",
      "\n",
      "Deviation: 1.6639261888769787\n",
      "MSE:  2.769264758972836\n"
     ]
    },
    {
     "name": "stderr",
     "output_type": "stream",
     "text": [
      "2023-03-26 22:00:42.320064: I tensorflow/core/common_runtime/gpu_fusion_pass.cc:507] ROCm Fusion is enabled.\n",
      "2023-03-26 22:00:42.320886: I tensorflow/core/common_runtime/gpu_fusion_pass.cc:507] ROCm Fusion is enabled.\n",
      "2023-03-26 22:00:42.335842: I tensorflow/core/common_runtime/gpu_fusion_pass.cc:507] ROCm Fusion is enabled.\n",
      "2023-03-26 22:00:42.337403: I tensorflow/core/common_runtime/gpu_fusion_pass.cc:507] ROCm Fusion is enabled.\n",
      "2023-03-26 22:00:42.337913: I tensorflow/core/common_runtime/gpu_fusion_pass.cc:507] ROCm Fusion is enabled.\n",
      "2023-03-26 22:00:42.338398: I tensorflow/core/common_runtime/gpu_fusion_pass.cc:507] ROCm Fusion is enabled.\n",
      "2023-03-26 22:00:42.340181: I tensorflow/core/common_runtime/gpu_fusion_pass.cc:507] ROCm Fusion is enabled.\n"
     ]
    }
   ],
   "source": [
    "result_arr = model.predict(X_test)\n",
    "print()\n",
    "print(\"Deviation:\", np.std(y_test - result_arr))\n",
    "print(\"MSE: \", np.mean((y_test - result_arr)**2))"
   ]
  },
  {
   "cell_type": "code",
   "execution_count": 6,
   "metadata": {},
   "outputs": [],
   "source": [
    "from gan import load_weight\n",
    "from gan import GenAdvNetwork\n",
    "import tensorflow as tf\n",
    "from utils import random_generator\n",
    "from reformatToXyz import format_xyz_samples"
   ]
  },
  {
   "cell_type": "code",
   "execution_count": 7,
   "metadata": {},
   "outputs": [
    {
     "name": "stdout",
     "output_type": "stream",
     "text": [
      "Model: \"generator\"\n",
      "_________________________________________________________________\n",
      " Layer (type)                Output Shape              Param #   \n",
      "=================================================================\n",
      " dense_7 (Dense)             (None, 13)                1027      \n",
      "                                                                 \n",
      " leaky_re_lu (LeakyReLU)     (None, 13)                0         \n",
      "                                                                 \n",
      " reshape (Reshape)           (None, 13, 1)             0         \n",
      "                                                                 \n",
      " conv1d_transpose (Conv1DTra  (None, 39, 128)          640       \n",
      " nspose)                                                         \n",
      "                                                                 \n",
      " leaky_re_lu_1 (LeakyReLU)   (None, 39, 128)           0         \n",
      "                                                                 \n",
      " batch_normalization_6 (Batc  (None, 39, 128)          512       \n",
      " hNormalization)                                                 \n",
      "                                                                 \n",
      " conv1d_transpose_1 (Conv1DT  (None, 78, 264)          135432    \n",
      " ranspose)                                                       \n",
      "                                                                 \n",
      " leaky_re_lu_2 (LeakyReLU)   (None, 78, 264)           0         \n",
      "                                                                 \n",
      " batch_normalization_7 (Batc  (None, 78, 264)          1056      \n",
      " hNormalization)                                                 \n",
      "                                                                 \n",
      " conv1d (Conv1D)             (None, 78, 1)             1057      \n",
      "                                                                 \n",
      "=================================================================\n",
      "Total params: 139,724\n",
      "Trainable params: 138,940\n",
      "Non-trainable params: 784\n",
      "_________________________________________________________________\n"
     ]
    },
    {
     "name": "stderr",
     "output_type": "stream",
     "text": [
      "2023-03-26 22:00:42.437528: I tensorflow/core/common_runtime/gpu_fusion_pass.cc:507] ROCm Fusion is enabled.\n",
      "2023-03-26 22:00:42.438236: I tensorflow/core/common_runtime/gpu_fusion_pass.cc:507] ROCm Fusion is enabled.\n",
      "2023-03-26 22:00:42.439090: I tensorflow/core/common_runtime/gpu_fusion_pass.cc:507] ROCm Fusion is enabled.\n",
      "2023-03-26 22:00:42.439555: I tensorflow/core/common_runtime/gpu_fusion_pass.cc:507] ROCm Fusion is enabled.\n",
      "2023-03-26 22:00:42.450668: I tensorflow/core/common_runtime/gpu_fusion_pass.cc:507] ROCm Fusion is enabled.\n",
      "2023-03-26 22:00:42.451227: I tensorflow/core/common_runtime/gpu_fusion_pass.cc:507] ROCm Fusion is enabled.\n",
      "2023-03-26 22:00:42.473074: I tensorflow/core/common_runtime/gpu_fusion_pass.cc:507] ROCm Fusion is enabled.\n",
      "2023-03-26 22:00:42.473670: I tensorflow/core/common_runtime/gpu_fusion_pass.cc:507] ROCm Fusion is enabled.\n",
      "2023-03-26 22:00:42.474441: I tensorflow/core/common_runtime/gpu_fusion_pass.cc:507] ROCm Fusion is enabled.\n",
      "2023-03-26 22:00:42.474869: I tensorflow/core/common_runtime/gpu_fusion_pass.cc:507] ROCm Fusion is enabled.\n",
      "2023-03-26 22:00:42.498091: I tensorflow/core/common_runtime/gpu_fusion_pass.cc:507] ROCm Fusion is enabled.\n",
      "2023-03-26 22:00:42.498701: I tensorflow/core/common_runtime/gpu_fusion_pass.cc:507] ROCm Fusion is enabled.\n",
      "2023-03-26 22:00:42.499642: I tensorflow/core/common_runtime/gpu_fusion_pass.cc:507] ROCm Fusion is enabled.\n",
      "2023-03-26 22:00:42.500129: I tensorflow/core/common_runtime/gpu_fusion_pass.cc:507] ROCm Fusion is enabled.\n"
     ]
    },
    {
     "name": "stdout",
     "output_type": "stream",
     "text": [
      "Model: \"discriminator\"\n",
      "_________________________________________________________________\n",
      " Layer (type)                Output Shape              Param #   \n",
      "=================================================================\n",
      " conv1d_1 (Conv1D)           (None, 26, 64)            320       \n",
      "                                                                 \n",
      " leaky_re_lu_3 (LeakyReLU)   (None, 26, 64)            0         \n",
      "                                                                 \n",
      " conv1d_2 (Conv1D)           (None, 13, 128)           32896     \n",
      "                                                                 \n",
      " leaky_re_lu_4 (LeakyReLU)   (None, 13, 128)           0         \n",
      "                                                                 \n",
      " batch_normalization_8 (Batc  (None, 13, 128)          512       \n",
      " hNormalization)                                                 \n",
      "                                                                 \n",
      " flatten (Flatten)           (None, 1664)              0         \n",
      "                                                                 \n",
      " dense_8 (Dense)             (None, 1)                 1665      \n",
      "                                                                 \n",
      "=================================================================\n",
      "Total params: 35,393\n",
      "Trainable params: 35,137\n",
      "Non-trainable params: 256\n",
      "_________________________________________________________________\n"
     ]
    },
    {
     "name": "stderr",
     "output_type": "stream",
     "text": [
      "2023-03-26 22:00:42.523859: I tensorflow/core/common_runtime/gpu_fusion_pass.cc:507] ROCm Fusion is enabled.\n",
      "2023-03-26 22:00:42.524735: I tensorflow/core/common_runtime/gpu_fusion_pass.cc:507] ROCm Fusion is enabled.\n",
      "2023-03-26 22:00:42.539364: I tensorflow/core/common_runtime/gpu_fusion_pass.cc:507] ROCm Fusion is enabled.\n",
      "2023-03-26 22:00:42.540453: I tensorflow/core/common_runtime/gpu_fusion_pass.cc:507] ROCm Fusion is enabled.\n",
      "2023-03-26 22:00:42.563572: I tensorflow/core/common_runtime/gpu_fusion_pass.cc:507] ROCm Fusion is enabled.\n",
      "2023-03-26 22:00:42.564117: I tensorflow/core/common_runtime/gpu_fusion_pass.cc:507] ROCm Fusion is enabled.\n",
      "2023-03-26 22:00:42.589065: I tensorflow/core/common_runtime/gpu_fusion_pass.cc:507] ROCm Fusion is enabled.\n",
      "2023-03-26 22:00:42.591850: I tensorflow/core/common_runtime/gpu_fusion_pass.cc:507] ROCm Fusion is enabled.\n",
      "2023-03-26 22:00:42.593539: I tensorflow/core/common_runtime/gpu_fusion_pass.cc:507] ROCm Fusion is enabled.\n",
      "2023-03-26 22:00:42.594502: I tensorflow/core/common_runtime/gpu_fusion_pass.cc:507] ROCm Fusion is enabled.\n",
      "2023-03-26 22:00:42.594964: I tensorflow/core/common_runtime/gpu_fusion_pass.cc:507] ROCm Fusion is enabled.\n",
      "2023-03-26 22:00:42.595755: I tensorflow/core/common_runtime/gpu_fusion_pass.cc:507] ROCm Fusion is enabled.\n",
      "2023-03-26 22:00:42.596179: I tensorflow/core/common_runtime/gpu_fusion_pass.cc:507] ROCm Fusion is enabled.\n",
      "2023-03-26 22:00:42.597027: I tensorflow/core/common_runtime/gpu_fusion_pass.cc:507] ROCm Fusion is enabled.\n",
      "2023-03-26 22:00:42.597993: I tensorflow/core/common_runtime/gpu_fusion_pass.cc:507] ROCm Fusion is enabled.\n",
      "2023-03-26 22:00:42.598612: I tensorflow/core/common_runtime/gpu_fusion_pass.cc:507] ROCm Fusion is enabled.\n",
      "2023-03-26 22:00:42.599059: I tensorflow/core/common_runtime/gpu_fusion_pass.cc:507] ROCm Fusion is enabled.\n",
      "2023-03-26 22:00:42.599946: I tensorflow/core/common_runtime/gpu_fusion_pass.cc:507] ROCm Fusion is enabled.\n",
      "2023-03-26 22:00:42.600500: I tensorflow/core/common_runtime/gpu_fusion_pass.cc:507] ROCm Fusion is enabled.\n",
      "2023-03-26 22:00:42.600924: I tensorflow/core/common_runtime/gpu_fusion_pass.cc:507] ROCm Fusion is enabled.\n",
      "2023-03-26 22:00:42.601848: I tensorflow/core/common_runtime/gpu_fusion_pass.cc:507] ROCm Fusion is enabled.\n",
      "2023-03-26 22:00:42.602378: I tensorflow/core/common_runtime/gpu_fusion_pass.cc:507] ROCm Fusion is enabled.\n",
      "2023-03-26 22:00:42.646413: I tensorflow/core/common_runtime/gpu_fusion_pass.cc:507] ROCm Fusion is enabled.\n",
      "2023-03-26 22:00:42.714229: I tensorflow/core/common_runtime/gpu_fusion_pass.cc:507] ROCm Fusion is enabled.\n",
      "2023-03-26 22:00:42.772608: I tensorflow/core/common_runtime/gpu_fusion_pass.cc:507] ROCm Fusion is enabled.\n",
      "2023-03-26 22:00:42.774080: I tensorflow/core/common_runtime/gpu_fusion_pass.cc:507] ROCm Fusion is enabled.\n",
      "2023-03-26 22:00:42.774251: W tensorflow/tsl/framework/cpu_allocator_impl.cc:82] Allocation of 823680000 exceeds 10% of free system memory.\n",
      "2023-03-26 22:00:43.330929: I tensorflow/core/common_runtime/gpu_fusion_pass.cc:507] ROCm Fusion is enabled.\n",
      "2023-03-26 22:00:43.331169: W tensorflow/tsl/framework/cpu_allocator_impl.cc:82] Allocation of 823680000 exceeds 10% of free system memory.\n",
      "2023-03-26 22:00:43.437338: W tensorflow/tsl/framework/cpu_allocator_impl.cc:82] Allocation of 823680000 exceeds 10% of free system memory.\n",
      "2023-03-26 22:00:43.534564: W tensorflow/tsl/framework/cpu_allocator_impl.cc:82] Allocation of 823680000 exceeds 10% of free system memory.\n",
      "2023-03-26 22:00:43.608996: W tensorflow/tsl/framework/cpu_allocator_impl.cc:82] Allocation of 823680000 exceeds 10% of free system memory.\n",
      "2023-03-26 22:00:43.759316: I tensorflow/core/common_runtime/gpu_fusion_pass.cc:507] ROCm Fusion is enabled.\n",
      "2023-03-26 22:00:43.759989: I tensorflow/core/common_runtime/gpu_fusion_pass.cc:507] ROCm Fusion is enabled.\n",
      "2023-03-26 22:00:43.846657: I tensorflow/core/common_runtime/gpu_fusion_pass.cc:507] ROCm Fusion is enabled.\n",
      "2023-03-26 22:00:43.847285: I tensorflow/core/common_runtime/gpu_fusion_pass.cc:507] ROCm Fusion is enabled.\n",
      "2023-03-26 22:00:43.848111: I tensorflow/core/common_runtime/gpu_fusion_pass.cc:507] ROCm Fusion is enabled.\n",
      "2023-03-26 22:00:43.880286: I tensorflow/core/common_runtime/gpu_fusion_pass.cc:507] ROCm Fusion is enabled.\n"
     ]
    }
   ],
   "source": [
    "latent_dim_ = 32\n",
    "batch_size_ = 16\n",
    "weights_path = \"/home/panthibivek/thesis/GAN_pkg/runs/train/exp2/weights/\"\n",
    "GanModel = GenAdvNetwork(latent_dim=latent_dim_, batch_size=batch_size_)\n",
    "GanModel.compile(\n",
    "    generator_opt=tf.keras.optimizers.Adam(learning_rate=0.001),\n",
    "    discriminator_opt=tf.keras.optimizers.Adam(learning_rate=0.001),\n",
    "    disc_loss=tf.keras.losses.BinaryCrossentropy(),\n",
    "    gen_loss=tf.keras.losses.MAE\n",
    ")\n",
    "\n",
    "random_data = random_generator((10000, latent_dim_))\n",
    "\n",
    "GanModel.generator(random_data)\n",
    "GanModel.load_weights(weights_path) \n",
    "generated_output = GanModel.generator(random_data)\n",
    "arr = generated_output.numpy()\n",
    "arr_new = arr.reshape((10000,78))"
   ]
  },
  {
   "cell_type": "code",
   "execution_count": 8,
   "metadata": {},
   "outputs": [
    {
     "name": "stdout",
     "output_type": "stream",
     "text": [
      "94/94 [==============================] - 0s 1ms/step\n"
     ]
    },
    {
     "name": "stderr",
     "output_type": "stream",
     "text": [
      "2023-03-26 22:00:45.179738: I tensorflow/core/common_runtime/gpu_fusion_pass.cc:507] ROCm Fusion is enabled.\n",
      "2023-03-26 22:00:45.189119: I tensorflow/core/common_runtime/gpu_fusion_pass.cc:507] ROCm Fusion is enabled.\n",
      "2023-03-26 22:00:45.193352: I tensorflow/core/common_runtime/gpu_fusion_pass.cc:507] ROCm Fusion is enabled.\n",
      "2023-03-26 22:00:45.197730: I tensorflow/core/common_runtime/gpu_fusion_pass.cc:507] ROCm Fusion is enabled.\n",
      "2023-03-26 22:00:45.201096: I tensorflow/core/common_runtime/gpu_fusion_pass.cc:507] ROCm Fusion is enabled.\n",
      "2023-03-26 22:00:45.203304: I tensorflow/core/common_runtime/gpu_fusion_pass.cc:507] ROCm Fusion is enabled.\n"
     ]
    }
   ],
   "source": [
    "# formatted_input_arr = inputFormat(raw_input=arr_new)\n",
    "# result_arr = model.predict(formatted_input_arr)\n",
    "result_arr = model.predict(X_test)\n",
    "\n",
    "parent_dir_coulomb1D_to_xyz = pathlib.Path(os.path.abspath(os.path.dirname('__file__')) + \"/data/generatedMoleculesFromTestData\")\n",
    "parent_dir_coulomb1D_to_xyz.mkdir(parents=True, exist_ok=True)\n",
    "\n",
    "for idx in range(len(result_arr)):\n",
    "    filename = str(parent_dir_coulomb1D_to_xyz) + \"/molecule{:06d}.xyz\".format(idx)\n",
    "    format_xyz_samples(generated_sample=result_arr[idx], filename=filename)"
   ]
  }
 ],
 "metadata": {
  "kernelspec": {
   "display_name": "Python 3",
   "language": "python",
   "name": "python3"
  },
  "language_info": {
   "codemirror_mode": {
    "name": "ipython",
    "version": 3
   },
   "file_extension": ".py",
   "mimetype": "text/x-python",
   "name": "python",
   "nbconvert_exporter": "python",
   "pygments_lexer": "ipython3",
   "version": "3.10.6"
  },
  "orig_nbformat": 4,
  "vscode": {
   "interpreter": {
    "hash": "916dbcbb3f70747c44a77c7bcd40155683ae19c65e1c03b4aa3499c5328201f1"
   }
  }
 },
 "nbformat": 4,
 "nbformat_minor": 2
}
